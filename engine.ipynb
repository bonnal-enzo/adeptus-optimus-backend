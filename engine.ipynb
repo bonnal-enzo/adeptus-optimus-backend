{
 "cells": [
  {
   "cell_type": "markdown",
   "metadata": {},
   "source": [
    "# Adeptus Optimus Proto"
   ]
  },
  {
   "cell_type": "markdown",
   "metadata": {},
   "source": [
    "# Calculus"
   ]
  },
  {
   "cell_type": "code",
   "execution_count": 2,
   "metadata": {},
   "outputs": [],
   "source": [
    "import scipy.special\n",
    "import numpy as np\n",
    "import random\n",
    "import re\n",
    "import json\n",
    "import math"
   ]
  },
  {
   "cell_type": "code",
   "execution_count": 3,
   "metadata": {},
   "outputs": [
    {
     "data": {
      "text/plain": [
       "'3.3E-02'"
      ]
     },
     "execution_count": 3,
     "metadata": {},
     "output_type": "execute_result"
    }
   ],
   "source": [
    "f'%.{1}E' % 0.03345"
   ]
  },
  {
   "cell_type": "code",
   "execution_count": 4,
   "metadata": {},
   "outputs": [],
   "source": [
    "def float_eq(a, b, n_same_decimals=4):\n",
    "    return f'%.{n_same_decimals}E' % a == f'%.{n_same_decimals}E' % b\n",
    "\n",
    "assert(float_eq(1, 1.01, 1))\n",
    "assert(float_eq(0.3333, 0.3334, 2))\n",
    "assert(float_eq(0.03333, 0.03334, 2))\n",
    "assert(not float_eq(0.3333, 0.334, 2))\n",
    "assert(not float_eq(0.03333, 0.0334, 2))"
   ]
  },
  {
   "cell_type": "code",
   "execution_count": 5,
   "metadata": {},
   "outputs": [],
   "source": [
    "# Utils\n",
    "def map_7_to_None(v):\n",
    "    return None if v == 7 else v\n",
    "\n",
    "class RequirementFailError(Exception):\n",
    "    pass\n",
    "\n",
    "def require(predicate, error_message):\n",
    "    if not(predicate):\n",
    "        raise RequirementFailError(error_message)\n",
    "\n",
    "require(True, \"bla\")\n",
    "\n",
    "thrown_message = \"\"\n",
    "try:\n",
    "    require(False, \"bla\")\n",
    "except RequirementFailError as e:\n",
    "    thrown_message = str(e)\n",
    "assert(thrown_message == \"bla\")\n",
    "    \n",
    "    \n",
    "    \n",
    "def roll_D6():\n",
    "    return random.randint(1, 6)\n",
    "assert(len({roll_D6() for _ in range(1000)}) == 6)\n",
    "\n",
    "def roll_D3():\n",
    "    return (random.randint(1, 6) + 1) // 2\n",
    "assert(len({roll_D3() for _ in range(1000)}) == 3)\n",
    "\n",
    "class DiceExpr:\n",
    "    def __init__(self, n, dices_type=None):\n",
    "        self.n = n\n",
    "        self.dices_type = dices_type\n",
    "        \n",
    "        if self.dices_type is None:\n",
    "            self.avg = n\n",
    "        else:\n",
    "            self.avg = n * (self.dices_type + 1)/2\n",
    "    \n",
    "    def roll(self):\n",
    "        if self.dices_type is None:\n",
    "            return self.n\n",
    "        else:\n",
    "            if self.dices_type == 3:\n",
    "                return sum([roll_D3() for _ in range(self.n)])\n",
    "            elif self.dices_type == 6:\n",
    "                return sum([roll_D6() for _ in range(self.n)])\n",
    "            else:\n",
    "                raise AttributeError(f\"Unsupported dices_type D{self.dices_type}\")\n",
    "    \n",
    "        \n",
    "    def __str__(self):\n",
    "        if self.dices_type is None:\n",
    "            return str(self.n)\n",
    "        else:\n",
    "            return f\"{self.n if self.n > 1 else ''}D{self.dices_type}\"\n",
    "\n",
    "        \n",
    "assert(str(DiceExpr(5, 3)) == \"5D3\")\n",
    "assert(str(DiceExpr(1, 6)) == \"D6\")\n",
    "assert(str(DiceExpr(10, None)) == \"10\")\n",
    "\n",
    "dice_5D3 = DiceExpr(5, 3)\n",
    "assert(len({dice_5D3.roll() for _ in range(10000)}) == 5*3 -5 + 1)\n",
    "dice_4D6 = DiceExpr(4, 6)\n",
    "assert(len({dice_4D6.roll() for _ in range(10000)}) == 4*6 -4 + 1)          \n",
    "    \n",
    "def parse_dice_expr(d, complexity_threshold=36):\n",
    "    assert(type(d) is str)\n",
    "    groups = re.fullmatch(r\"([1-9][0-9]*)?D([36])?|([0-9]+)\", d)\n",
    "    res = None\n",
    "    try:\n",
    "        if groups.group(1) is None:\n",
    "            n_dices = 1\n",
    "        else:\n",
    "            n_dices = int(groups.group(1))\n",
    "        dices_type = int(groups.group(2))\n",
    "        if(n_dices*(1 if dices_type is None else dices_type) > complexity_threshold):\n",
    "            res = None\n",
    "        else:\n",
    "            res = DiceExpr(n_dices, dices_type)\n",
    "    except TypeError:\n",
    "        try:\n",
    "            flat = int(groups.group(3))\n",
    "            res = DiceExpr(flat)\n",
    "        except TypeError:\n",
    "            res = None\n",
    "    finally:\n",
    "        return res\n",
    "    \n",
    "assert(parse_dice_expr(\"4D3\").avg == 8)\n",
    "assert(parse_dice_expr(\"5\").avg == 5)\n",
    "assert(parse_dice_expr(\"D7\") is None)\n",
    "assert(parse_dice_expr(\"0D6\") is None)\n",
    "assert(parse_dice_expr(\"0\").avg == 0)\n",
    "assert(parse_dice_expr(\"7D6\") is None)\n",
    "assert(parse_dice_expr(\"D3\").avg == 2)\n",
    "assert(parse_dice_expr(\"3D3\").avg == 6)\n",
    "assert(parse_dice_expr(\"D6\").avg == 3.5)\n",
    "\n",
    "def parse_roll(roll):\n",
    "    res = re.fullmatch(r\"([23456])\\+\", roll)\n",
    "    if res is None:\n",
    "        return None\n",
    "    else:\n",
    "        return int(res.group(1))\n",
    "\n",
    "assert(parse_roll(\"1+\") is None)\n",
    "assert(parse_roll(\"1+\") is None)\n",
    "assert(parse_roll(\"2+\") == 2)\n",
    "assert(parse_roll(\"3+\") == 3)\n",
    "assert(parse_roll(\"6+\") == 6)\n",
    "assert(parse_roll(\"7+\") is None)\n",
    "assert(parse_roll(\"3\") is None)\n",
    "\n",
    "\n",
    "\n",
    "def prob_by_roll_result(dice_expr):\n",
    "    if dice_expr.dices_type is None:\n",
    "        return {dice_expr.n: 1}\n",
    "    else:\n",
    "        roll_results_counts = {}\n",
    "        def f(n, current_sum):\n",
    "            if n == 0:\n",
    "                roll_results_counts[current_sum] = roll_results_counts.get(current_sum, 0) + 1\n",
    "            else:\n",
    "                for i in range(1, dice_expr.dices_type + 1):\n",
    "                    f(n - 1, current_sum + i)\n",
    "        f(dice_expr.n, 0)\n",
    "        n_cases = sum(roll_results_counts.values())\n",
    "        for key in roll_results_counts.keys():\n",
    "            roll_results_counts[key] /= n_cases\n",
    "        return roll_results_counts\n",
    "    \n",
    "assert(prob_by_roll_result(parse_dice_expr(\"D3\")) == {1: 1/3, 2: 1/3, 3: 1/3})\n",
    "assert(prob_by_roll_result(parse_dice_expr(\"7\")) == {7: 1})\n",
    "assert(float_eq(1, sum(prob_by_roll_result(parse_dice_expr(\"2D6\")).values())))\n",
    "assert(prob_by_roll_result(parse_dice_expr(\"2D6\")) == {2: 1/36, 3: 2/36, 4: 3/36, 5: 4/36, 6: 5/36, 7: 6/36, 8: 5/36, 9: 4/36, 10: 3/36, 11: 2/36, 12: 1/36})"
   ]
  },
  {
   "cell_type": "code",
   "execution_count": 6,
   "metadata": {},
   "outputs": [
    {
     "data": {
      "text/plain": [
       "<__main__.Target at 0x7f6a82bbf128>"
      ]
     },
     "execution_count": 6,
     "metadata": {},
     "output_type": "execute_result"
    }
   ],
   "source": [
    "# Core Classes\n",
    "class Bonuses:\n",
    "    def __init__(self, to_hit, to_wound, props = None):\n",
    "        assert(to_hit in {-1, 0, 1})\n",
    "        assert(to_wound in {-1, 0, 1})\n",
    "\n",
    "        self.to_hit = to_hit\n",
    "        self.to_wound = to_wound\n",
    "        self.props = props if props is not None else {}\n",
    "        \n",
    "    @classmethod\n",
    "    def empty(cls):\n",
    "        return Bonuses(0, 0)\n",
    "    \n",
    "Bonuses.empty().to_hit = 0\n",
    "        \n",
    "class Weapon:\n",
    "    def __init__(self, hit, a, s, ap, d, bonuses, points=1):\n",
    "        self.hit      = parse_dice_expr(hit)\n",
    "        assert(self.hit is not None)\n",
    "        self.a        = parse_dice_expr(a)\n",
    "        assert(self.a is not None)\n",
    "        self.s        = parse_dice_expr(s)\n",
    "        assert(self.s is not None)\n",
    "        self.ap       = parse_dice_expr(ap)\n",
    "        assert(self.ap is not None)\n",
    "        self.d        = parse_dice_expr(d)\n",
    "        assert(self.d is not None)\n",
    "\n",
    "        self.bonuses  = bonuses   \n",
    "        assert(type(points) is int and points > 0)\n",
    "        self.points   = points\n",
    "        \n",
    "        \n",
    "Weapon(hit=\"5\", a=\"2\", s = \"4D3\", ap = \"1\", d=\"D3\", bonuses=Bonuses.empty())\n",
    "\n",
    "        \n",
    "class Target:\n",
    "    def __init__(self, t, sv, invu=None, fnp=None, w=1):\n",
    "\n",
    "        \n",
    "        assert(invu is None or (type(invu) is int and invu > 0 and invu <= 6))\n",
    "        self.invu   = invu\n",
    "        \n",
    "        assert(fnp is None or (type(fnp) is int and fnp > 0 and fnp <= 6))\n",
    "        self.fnp   = fnp\n",
    "        \n",
    "        assert(type(t) is int and t > 0)\n",
    "        self.t    = t\n",
    "        \n",
    "        assert(type(sv) is int and sv > 0 and sv <= 6)\n",
    "        self.sv   = sv\n",
    "        \n",
    "        assert(type(w) is int and w > 0)\n",
    "        self.w   = w\n",
    "\n",
    "\n",
    "Target(8, 3, 5, 6)\n",
    "Target(8, 3)"
   ]
  },
  {
   "cell_type": "code",
   "execution_count": 7,
   "metadata": {},
   "outputs": [],
   "source": [
    "# Engine v1\n",
    "\n",
    "def compute_successes_ratio(modified_necessary_roll, auto_success_on_6=True):\n",
    "    necessary_roll = modified_necessary_roll\n",
    "    if modified_necessary_roll <= 1:\n",
    "        necessary_roll = 2  # roll of 1 always fails\n",
    "    if modified_necessary_roll >= 7:\n",
    "        if auto_success_on_6:\n",
    "            necessary_roll = 6  # roll of 6 always succeeds\n",
    "        else:\n",
    "            return 0\n",
    "    return (7 - necessary_roll)/6\n",
    "\n",
    "def compute_n_hits_ratio(weapon):\n",
    "    return compute_successes_ratio(weapon.hit.avg - weapon.bonuses.to_hit)\n",
    "\n",
    "\n",
    "assert(compute_n_hits_ratio(Weapon(hit=\"2\", a=\"12\", s = \"4\", ap = \"1\", d=\"2D3\", bonuses=Bonuses.empty())) == 5/6)\n",
    "assert(compute_n_hits_ratio(Weapon(hit=\"5\", a=\"12\", s = \"4\", ap = \"1\", d=\"2D3\", bonuses=Bonuses.empty())) == 1/3)\n",
    "assert(compute_n_hits_ratio(Weapon(hit=\"3\", a=\"1\", s = \"4\", ap = \"1\",  d=\"2D3\", bonuses=Bonuses.empty())) == 2/3)\n",
    "assert(compute_n_hits_ratio(Weapon(hit=\"3\", a=\"1\", s = \"4\", ap = \"1\",  d=\"2D3\", bonuses=Bonuses(-1, 0))) == 1/2)\n",
    "assert(compute_n_hits_ratio(Weapon(hit=\"2\", a=\"1\", s = \"4\", ap = \"1\",  d=\"2D3\", bonuses=Bonuses(+1, 0))) == 5/6)  # roll of 1 always fails\n",
    "assert(compute_n_hits_ratio(Weapon(hit=\"6\", a=\"1\", s = \"4\", ap = \"1\",  d=\"2D3\", bonuses=Bonuses(-1, 0))) == 1/6)  # roll of 6 always succeeds\n",
    "\n",
    "def compute_necessary_wound_roll(f, e):\n",
    "    if f >= 2*e:\n",
    "        return 2\n",
    "    elif f > e:\n",
    "        return 3\n",
    "    elif f == e:\n",
    "        return 4\n",
    "    elif f <= e/2:\n",
    "        return 6\n",
    "    else:\n",
    "        assert(f < e)\n",
    "        return 5\n",
    "\n",
    "def compute_n_wounds_ratios(weapon, target):\n",
    "    return [prob*compute_successes_ratio(compute_necessary_wound_roll(f, target.t) - weapon.bonuses.to_wound)\n",
    "     for f, prob in prob_by_roll_result(weapon.s).items()]\n",
    "\n",
    "def compute_n_wounds_ratio(weapon, target):\n",
    "    return sum(compute_n_wounds_ratios(weapon, target))\n",
    "\n",
    "assert(compute_n_wounds_ratio(\n",
    "    Weapon(hit=\"2\", a=\"1\", s = \"4\", ap = \"1\", d=\"2D3\", bonuses=Bonuses(+1, 0)),\n",
    "    Target(t=4, sv=3)\n",
    ") == 1/2)\n",
    "\n",
    "assert(compute_n_wounds_ratio(\n",
    "    Weapon(hit=\"2\", a=\"12\", s = \"4\", ap = \"1\", d=\"2D3\", bonuses=Bonuses(+1, 0)),\n",
    "    Target(t=8, sv=3)\n",
    ") == 1/6)\n",
    "\n",
    "assert(compute_n_wounds_ratio(\n",
    "    Weapon(hit=\"2\", a=\"1\", s = \"4\", ap = \"1\", d=\"2D3\", bonuses=Bonuses(+1, -1)),\n",
    "    Target(t=8, sv=3)\n",
    ") == 1/6)  # roll of 6 always succeeds\n",
    "\n",
    "assert(compute_n_wounds_ratio(\n",
    "    Weapon(hit=\"2\", a=\"1\", s = \"4\", ap = \"1\", d=\"2D3\", bonuses=Bonuses(+1, 0)),\n",
    "    Target(t=2, sv=3)\n",
    ") == 5/6)\n",
    "\n",
    "assert(compute_n_wounds_ratio(\n",
    "    Weapon(hit=\"2\", a=\"1\", s = \"4\", ap = \"1\", d=\"2D3\", bonuses=Bonuses(+1, +1)),\n",
    "    Target(t=2, sv=3)\n",
    ") == 5/6)  # roll of 1 always fails\n",
    "\n",
    "assert(compute_n_wounds_ratio(\n",
    "    Weapon(hit=\"2\", a=\"1\", s = \"2D3\", ap = \"1\", d=\"2D3\", bonuses=Bonuses(+1, 0)),\n",
    "    Target(t=12, sv=3)\n",
    ") == 1/6)\n",
    "\n",
    "assert(float_eq(compute_n_wounds_ratio(\n",
    "    Weapon(hit=\"2\", a=\"1\", s = \"2D3\", ap = \"1\", d=\"2D3\", bonuses=Bonuses(+1, 0)),\n",
    "    Target(t=1, sv=3)\n",
    "), 5/6))\n",
    "\n",
    "assert(compute_n_wounds_ratio(\n",
    "    Weapon(hit=\"2\", a=\"1\", s = \"2D3\", ap = \"1\", d=\"2D3\", bonuses=Bonuses(+1, 0)),\n",
    "    Target(t=4, sv=3)\n",
    ")< 1/2)\n",
    "\n",
    "\n",
    "\n",
    "def n_figs_slained(weapon, target):\n",
    "    hit_ratio = compute_n_hits_ratio(weapon)\n",
    "    wound_ratio = compute_n_wounds_ratio(weapon, target)\n",
    "    return weapon.a.avg * hit_ratio * wound_ratio\n",
    "\n",
    "def total_n_figs_slained(weapons_list, target):\n",
    "    print(\"tatata\")"
   ]
  },
  {
   "cell_type": "code",
   "execution_count": 8,
   "metadata": {},
   "outputs": [
    {
     "data": {
      "text/plain": [
       "1.0"
      ]
     },
     "execution_count": 8,
     "metadata": {},
     "output_type": "execute_result"
    }
   ],
   "source": [
    "n_figs_slained(\n",
    "    Weapon(hit=\"5\", a=\"12\", s = \"4\", ap = \"1\", d=\"2D3\", bonuses=Bonuses(+1, 0)),\n",
    "    Target(t=8, sv=3)\n",
    ")"
   ]
  },
  {
   "cell_type": "code",
   "execution_count": 9,
   "metadata": {},
   "outputs": [],
   "source": [
    "# Engine v2\n",
    "def dispatch_density_key(previous_density_key, next_density_prob):\n",
    "    assert(type(previous_density_key) is int)\n",
    "    assert(previous_density_key >= 0)\n",
    "    assert(0 < next_density_prob and next_density_prob <= 1)\n",
    "    n = previous_density_key\n",
    "    p= next_density_prob\n",
    "    return {k: scipy.special.comb(n, k)*p**k*(1-p)**(n-k) for k in range(0, n + 1)}\n",
    "\n",
    "assert(dispatch_density_key(3, 0.5) == {0: 0.125, 1: 0.375, 2: 0.375, 3: 0.125})\n",
    "# new version:\n",
    "# 3 A, c 4, f 4 endu 4\n",
    "# [0, 0, 0, 1] attacks density\n",
    "def get_attack_density(weapon):\n",
    "    assert(isinstance(weapon, Weapon))\n",
    "    return {a: prob for a, prob in prob_by_roll_result(weapon.a).items()}\n",
    "# [1/8, 3/8, 3/8 ,1/8] hit density\n",
    "def get_hits_density(weapon, attack_density):\n",
    "    assert(isinstance(weapon, Weapon))\n",
    "    assert(isinstance(attack_density, dict))\n",
    "    hits_density = {}\n",
    "    for a, prob_a in attack_density.items(): \n",
    "        # {1: 0.3333333333333333, 2: 0.3333333333333333, 3: 0.3333333333333333}\n",
    "        for hit_roll, prob_hit_roll in prob_by_roll_result(weapon.hit).items():\n",
    "            # {5: 1}\n",
    "            hits_ratio = compute_successes_ratio(hit_roll - weapon.bonuses.to_hit)\n",
    "            # 0.5\n",
    "            for hits, prob_hits in dispatch_density_key(a, hits_ratio).items():\n",
    "                hits_density[hits] = hits_density.get(hits, 0) + prob_hits*prob_hit_roll*prob_a\n",
    "    return hits_density\n",
    "\n",
    "# [......]  woud density\n",
    "def get_wounds_density(weapon, target, hits_density):\n",
    "    assert(isinstance(weapon, Weapon))\n",
    "    assert(isinstance(target, Target))\n",
    "    assert(isinstance(hits_density, dict))\n",
    "    wounds_density = {}\n",
    "    for hits, prob_hits in hits_density.items(): \n",
    "        for s_roll, prob_s_roll in prob_by_roll_result(weapon.s).items():\n",
    "            wounds_ratio = compute_successes_ratio(compute_necessary_wound_roll(s_roll, target.t) - weapon.bonuses.to_wound)\n",
    "            for wounds, prob_wounds in dispatch_density_key(hits, wounds_ratio).items():\n",
    "                wounds_density[wounds] = wounds_density.get(wounds, 0) + prob_wounds*prob_s_roll*prob_hits\n",
    "    return wounds_density\n",
    "\n",
    "# [......] unsaved wounds density\n",
    "def get_unsaved_wounds_density(weapon, target, wounds_density):\n",
    "    assert(isinstance(weapon, Weapon))\n",
    "    assert(isinstance(target, Target))\n",
    "    assert(isinstance(wounds_density, dict))\n",
    "    unsaved_wounds_density = {}\n",
    "    for wounds, prob_wounds in wounds_density.items(): \n",
    "        for ap_roll, prob_ap_roll in prob_by_roll_result(weapon.ap).items():\n",
    "            save_roll = target.sv + ap_roll\n",
    "            if target.invu is not None:\n",
    "                save_roll = min(save_roll, target.invu)\n",
    "            unsaved_wounds_ratio = 1 - compute_successes_ratio(save_roll, auto_success_on_6=False)\n",
    "            for unsaved_wounds, prob_unsaved_wounds in dispatch_density_key(wounds, unsaved_wounds_ratio).items():\n",
    "                unsaved_wounds_density[unsaved_wounds] = unsaved_wounds_density.get(unsaved_wounds, 0) + prob_unsaved_wounds*prob_ap_roll*prob_wounds\n",
    "    return unsaved_wounds_density\n",
    "\n",
    "# last step numeric averaging: damage roll + fnp\n",
    "def get_avg_figs_fraction_slained(weapon, target, unsaved_wounds_density, N):\n",
    "    \"\"\"\n",
    "    El famoso montecarlo approach\n",
    "    :param N: number of simulations for each unsaved wounds entry\n",
    "    \"\"\"\n",
    "    assert(isinstance(weapon, Weapon))\n",
    "    assert(isinstance(target, Target))\n",
    "    assert(isinstance(unsaved_wounds_density, dict))\n",
    "    figs_fraction_slained_total_weighted = 0\n",
    "    adapted_N = (N // target.w) + 1\n",
    "    for unsaved_wounds, prob_unsaved_wounds in unsaved_wounds_density.items():\n",
    "        figs_fraction_slained_total_sum = 0\n",
    "        for _ in range(adapted_N):\n",
    "            figs_fraction_slained_total = 0\n",
    "            for start_health in range(1, target.w + 1):\n",
    "                n_figs_slained = 0\n",
    "                remaining_health = start_health\n",
    "                for wound in range(unsaved_wounds):\n",
    "                    damages = weapon.d.roll()\n",
    "                    if target.fnp is not None:\n",
    "                        for damage in range(damages):\n",
    "                            if roll_D6() >= target.fnp:\n",
    "                                damages -= 1  # fnp success\n",
    "                    remaining_health -= damages\n",
    "                    if remaining_health <= 0:\n",
    "                        n_figs_slained += 1\n",
    "                        remaining_health = target.w\n",
    "                # e.g. remaining = 1,slained 2, w=3, start = 2: frac = 2 - (1 - 2/3) + (1 - 1/3) \n",
    "                first_slain_fraction = start_health/target.w\n",
    "                remaining_fraction = remaining_health/target.w\n",
    "                figs_fraction_slained_total += \\\n",
    "                    n_figs_slained - (1 - first_slain_fraction) + (1 - remaining_fraction)\n",
    "\n",
    "            figs_fraction_slained_total_sum += figs_fraction_slained_total\n",
    "\n",
    "        figs_fraction_slained_total_weighted += \\\n",
    "            prob_unsaved_wounds * figs_fraction_slained_total_sum/(adapted_N*target.w) # target_wounds is here because of start_health loop\n",
    "\n",
    "    return figs_fraction_slained_total_weighted\n",
    "\n",
    "def score_weapon_on_target(w, t, N):\n",
    "    \"\"\"\n",
    "    avg_figs_fraction_slained by point\n",
    "    \"\"\"\n",
    "    a_d = get_attack_density(w)\n",
    "    assert(float_eq(sum(a_d.values()), 1))\n",
    "    h_d = get_hits_density(w, a_d)\n",
    "    assert(float_eq(sum(h_d.values()), 1))\n",
    "    w_d = get_wounds_density(w, t, h_d)\n",
    "    assert(float_eq(sum(w_d.values()), 1))\n",
    "    uw_d = get_unsaved_wounds_density(w, t, w_d)\n",
    "    assert(float_eq(sum(uw_d.values()), 1))\n",
    "    return get_avg_figs_fraction_slained(w, t, uw_d, N)/w.points\n",
    "\n",
    "# Sv=1 : ignore PA -1\n",
    "wea = Weapon(hit=\"4\", a=\"4\", s = \"4\", ap = \"1\", d=\"3\", bonuses=Bonuses(0, 0), points=120)\n",
    "wea2 = Weapon(hit=\"4\", a=\"4\", s = \"4\", ap = \"0\", d=\"3\", bonuses=Bonuses(0, 0), points=120)\n",
    "tar = Target(t=4, sv=1, invu=5, fnp=6, w=16)\n",
    "assert(abs(score_weapon_on_target(wea, tar, 1000) / score_weapon_on_target(wea2, tar, 100) - 1) <= 0.25)\n",
    "\n",
    "def scores_to_comparison_score(score_a, score_b):\n",
    "    if score_a > score_b:\n",
    "        return + (1 - score_b / score_a)\n",
    "    else:\n",
    "        return - (1 - score_a / score_b)\n",
    "\n",
    "assert(scores_to_comparison_score(10000, 1) == 0.9999) \n",
    "assert(scores_to_comparison_score(1, 10000) == -0.9999) \n",
    "assert(scores_to_comparison_score(1, 1) == 0) \n",
    "\n",
    "def y_dims_to_str(l):\n",
    "    return f\"\"\"{l[0]}/{l[1]}/{\"-\" if l[2] is None else f\"{l[2]}+\"}\"\"\"\n",
    "\n",
    "def x_dims_to_str(l):\n",
    "    return  f\"\"\"{\"-\" if l[0] is None else f\"{l[0]}+\"}/{\"-\" if l[1] is None else f\"{l[1]}+\"}\"\"\"\n",
    "def compute_matrix(weapon_a, weapon_b, N):    \n",
    "    ws_ts_fnps = []\n",
    "    for w, ts in zip(\n",
    "        [1,2,3,4,6,8,10,12,16], \n",
    "        [\n",
    "            [2,3,4],\n",
    "            [2,3,4,5],\n",
    "            [2,3,4,5,6],\n",
    "            [2,3,4,5,6],\n",
    "            [3,4,5,6,8],\n",
    "            [4,5,6,8],\n",
    "            [5,6,8],\n",
    "            [6,8],\n",
    "            [6,8]\n",
    "        ]\n",
    "    ) :\n",
    "        fnps = [7] if w > 6 else [7, 6, 5]\n",
    "        for fnp in fnps:\n",
    "            for t in ts:\n",
    "                ws_ts_fnps.append((t, w, fnp))\n",
    "                \n",
    "    ws_ts_fnps.sort(key=lambda e: e[2] * 10000 - e[0]*100 - e[1])\n",
    "    ws_ts_fnps = list(map(lambda l: list(map(map_7_to_None, l)), ws_ts_fnps))\n",
    "    \n",
    "    print(list(map(y_dims_to_str, ws_ts_fnps)), )\n",
    "    \n",
    "    svs = []\n",
    "    for invu in [2, 3, 4, 5, 6, 7]:\n",
    "        for sv in range(1, min(invu + 1, 6 + 1)):\n",
    "            svs.append((sv, invu))\n",
    "    svs.sort(key=lambda e: -e[0]*10 + -e[1])\n",
    "    svs = list(map(lambda l: list(map(map_7_to_None, l)), svs))\n",
    "    \n",
    "    print(list(map(x_dims_to_str, svs)))\n",
    "    \n",
    "    \n",
    "    return  \\\n",
    "        [\n",
    "            [\n",
    "                scores_to_comparison_score(\n",
    "                    score_weapon_on_target(\n",
    "                        weapon_a, \n",
    "                        Target(t, sv, invu=invu, fnp=fnp, w=w),\n",
    "                        N), \n",
    "                    score_weapon_on_target(\n",
    "                    weapon_b, \n",
    "                    Target(t, sv, invu=invu, fnp=fnp, w=w),\n",
    "                    N)\n",
    "                )\n",
    "                for sv, invu in svs\n",
    "            ]\n",
    "            for w, t, fnp in ws_ts_fnps\n",
    "        ]"
   ]
  },
  {
   "cell_type": "code",
   "execution_count": 10,
   "metadata": {},
   "outputs": [],
   "source": [
    "# SAG vs Battlewagon under KFF and fnp 6+\n",
    "sag = Weapon(hit=\"5\", a=\"2D6\", s = \"2D6\", ap = \"5\", d=\"D6\", bonuses=Bonuses(0, 0), points=120)\n",
    "bat = Target(t=8, sv=4, invu=5, fnp=6, w=16)\n",
    "\n",
    "# SAG vs Battlewagon under KFF and fnp 6+\n",
    "bolt = Weapon(hit=\"3\", a=\"2\", s = \"4\", ap = \"1\", d=\"1\", bonuses=Bonuses(0, 0), points=20)"
   ]
  },
  {
   "cell_type": "code",
   "execution_count": 10,
   "metadata": {},
   "outputs": [
    {
     "data": {
      "text/plain": [
       "2052"
      ]
     },
     "execution_count": 10,
     "metadata": {},
     "output_type": "execute_result"
    }
   ],
   "source": [
    "w=len([1,2,3,4,6,8,10,12,16])\n",
    "t=len([2,3,4,5,6,8])\n",
    "svs=len(range(1, 19 + 1))\n",
    "fnp=len(range(1, 2 + 1))\n",
    "w*t*svs*fnp  # 3200"
   ]
  },
  {
   "cell_type": "code",
   "execution_count": 11,
   "metadata": {},
   "outputs": [
    {
     "data": {
      "text/plain": [
       "55"
      ]
     },
     "execution_count": 11,
     "metadata": {},
     "output_type": "execute_result"
    }
   ],
   "source": [
    "w_t_fnp = sum([\n",
    "    1 * len([2,3,4])*2,      #w=1 # w * t possible *2 if fnp variant\n",
    "    1 * len([2,3,4,5])*2,    #w=2\n",
    "    1 * len([2,3,4,5,6])*2,  #w=3\n",
    "    1 * len([2,3,4,5,6])*2,  #w=4\n",
    "    1 * len([3,4,5,6,8])*2,#w=6\n",
    "    1 * len([4,5,6,8]),#w=8\n",
    "    1 * len([5,6,8]),#w=10\n",
    "    1 * len([6,8]),#w=16\n",
    "    1 * len([6,8]) #w=28\n",
    "])\n",
    "w_t_fnp"
   ]
  },
  {
   "cell_type": "code",
   "execution_count": 12,
   "metadata": {},
   "outputs": [
    {
     "data": {
      "text/plain": [
       "1045"
      ]
     },
     "execution_count": 12,
     "metadata": {},
     "output_type": "execute_result"
    }
   ],
   "source": [
    "svs*w_t_fnp"
   ]
  },
  {
   "cell_type": "code",
   "execution_count": 13,
   "metadata": {},
   "outputs": [],
   "source": [
    "w = sag\n",
    "t = bat"
   ]
  },
  {
   "cell_type": "code",
   "execution_count": 14,
   "metadata": {},
   "outputs": [
    {
     "data": {
      "text/plain": [
       "{2: 0.027777777777777776,\n",
       " 3: 0.05555555555555555,\n",
       " 4: 0.08333333333333333,\n",
       " 5: 0.1111111111111111,\n",
       " 6: 0.1388888888888889,\n",
       " 7: 0.16666666666666666,\n",
       " 8: 0.1388888888888889,\n",
       " 9: 0.1111111111111111,\n",
       " 10: 0.08333333333333333,\n",
       " 11: 0.05555555555555555,\n",
       " 12: 0.027777777777777776}"
      ]
     },
     "execution_count": 14,
     "metadata": {},
     "output_type": "execute_result"
    }
   ],
   "source": [
    "a_d = get_attack_density(w)\n",
    "a_d"
   ]
  },
  {
   "cell_type": "code",
   "execution_count": 15,
   "metadata": {},
   "outputs": [
    {
     "data": {
      "text/plain": [
       "({0: 0.09245826180349491,\n",
       "  1: 0.2239853530307222,\n",
       "  2: 0.26620813348361666,\n",
       "  3: 0.21083128491947162,\n",
       "  4: 0.12367835752228379,\n",
       "  5: 0.05596105682474631,\n",
       "  6: 0.019891044662844356,\n",
       "  7: 0.005563176345069349,\n",
       "  8: 0.0012047433299274988,\n",
       "  9: 0.00019485804737601263,\n",
       "  10: 2.210969797211731e-05,\n",
       "  11: 1.5680636859657664e-06,\n",
       "  12: 5.226878953219221e-08},\n",
       " 1.0000000000000002)"
      ]
     },
     "execution_count": 15,
     "metadata": {},
     "output_type": "execute_result"
    }
   ],
   "source": [
    "h_d = get_hits_density(w, a_d)\n",
    "h_d, sum(h_d.values())"
   ]
  },
  {
   "cell_type": "code",
   "execution_count": 16,
   "metadata": {},
   "outputs": [
    {
     "data": {
      "text/plain": [
       "({0: 0.4029500867053239,\n",
       "  1: 0.3367914778591636,\n",
       "  2: 0.1689350056321175,\n",
       "  3: 0.06478956365764589,\n",
       "  4: 0.020154421512724424,\n",
       "  5: 0.00512477251439623,\n",
       "  6: 0.0010565739623414905,\n",
       "  7: 0.00017367555510426272,\n",
       "  8: 2.216603219186902e-05,\n",
       "  9: 2.1100352269821476e-06,\n",
       "  10: 1.405806713069297e-07,\n",
       "  11: 5.83937585822815e-09,\n",
       "  12: 1.1371713614420627e-10},\n",
       " 1.0000000000000004)"
      ]
     },
     "execution_count": 16,
     "metadata": {},
     "output_type": "execute_result"
    }
   ],
   "source": [
    "w_d = get_wounds_density(w, t, h_d)\n",
    "w_d, sum(w_d.values())"
   ]
  },
  {
   "cell_type": "code",
   "execution_count": 17,
   "metadata": {},
   "outputs": [
    {
     "data": {
      "text/plain": [
       "({0: 0.5366555241737849,\n",
       "  1: 0.3162275735568333,\n",
       "  2: 0.11078687649773596,\n",
       "  3: 0.029102035242819145,\n",
       "  4: 0.006064610751263366,\n",
       "  5: 0.0010130132279732571,\n",
       "  6: 0.00013499857838335794,\n",
       "  7: 1.415632468850579e-05,\n",
       "  8: 1.1407205971613996e-06,\n",
       "  9: 6.802863136706233e-08,\n",
       "  10: 2.8236457380877304e-09,\n",
       "  11: 7.27678850725364e-11,\n",
       "  12: 8.764573859500293e-13},\n",
       " 1.0000000000000007)"
      ]
     },
     "execution_count": 17,
     "metadata": {},
     "output_type": "execute_result"
    }
   ],
   "source": [
    "uw_d = get_unsaved_wounds_density(w, t, w_d)\n",
    "uw_d, sum(uw_d.values())"
   ]
  },
  {
   "cell_type": "markdown",
   "metadata": {},
   "source": [
    "# New last step"
   ]
  },
  {
   "cell_type": "code",
   "execution_count": 18,
   "metadata": {},
   "outputs": [
    {
     "data": {
      "text/plain": [
       "(0.16756237500000004, 0.001367121171248181, 0.00815887917110378)"
      ]
     },
     "execution_count": 18,
     "metadata": {},
     "output_type": "execute_result"
    }
   ],
   "source": [
    "# last step numeric averaging: damage roll + fnp\n",
    "def get_avg_figs_fraction_slained_per_unsaved_wound(weapon, target, N):\n",
    "    \"\"\"\n",
    "    :param N: number of consecutive wounds resolved: \n",
    "              - N=1000 leads to a result precise at +- 1.5% \n",
    "              - N=10000 leads to a result precise at +- 0.5% \n",
    "    \"\"\"\n",
    "    assert (isinstance(weapon, Weapon))\n",
    "    assert (isinstance(target, Target))\n",
    "    n_figs_slained = 0\n",
    "    remaining_health = target.w\n",
    "    for _ in range(N):\n",
    "        damages = weapon.d.roll()\n",
    "        if target.fnp is not None:\n",
    "            for damage in range(damages):\n",
    "                if roll_D6() >= target.fnp:\n",
    "                    damages -= 1  # fnp success\n",
    "        remaining_health -= damages\n",
    "        if remaining_health <= 0:\n",
    "            n_figs_slained += 1\n",
    "            remaining_health = target.w\n",
    "    # e.g. remaining = 1,slained 2, w=3, frac = 2 + (1 - 1/3) \n",
    "    remaining_fraction = remaining_health / target.w\n",
    "    return (n_figs_slained + (1 - remaining_fraction))/N\n",
    "\n",
    "run = [get_avg_figs_fraction_slained_per_unsaved_wound(sag, bat, 5000) for _ in range(100)]\n",
    "sum(run)/len(run), np.std(np.array(run)), np.std(run)/(sum(run)/len(run))"
   ]
  },
  {
   "cell_type": "code",
   "execution_count": 19,
   "metadata": {},
   "outputs": [
    {
     "ename": "NameError",
     "evalue": "name 'get_presimu_avg_figs_fraction_slained_by_unsaved_wound' is not defined",
     "output_type": "error",
     "traceback": [
      "\u001b[0;31m---------------------------------------------------------------------------\u001b[0m",
      "\u001b[0;31mNameError\u001b[0m                                 Traceback (most recent call last)",
      "\u001b[0;32m<ipython-input-19-3bf373248057>\u001b[0m in \u001b[0;36m<module>\u001b[0;34m\u001b[0m\n\u001b[0;32m----> 1\u001b[0;31m \u001b[0mget_ipython\u001b[0m\u001b[0;34m(\u001b[0m\u001b[0;34m)\u001b[0m\u001b[0;34m.\u001b[0m\u001b[0mrun_line_magic\u001b[0m\u001b[0;34m(\u001b[0m\u001b[0;34m'timeit'\u001b[0m\u001b[0;34m,\u001b[0m \u001b[0;34m'get_presimu_avg_figs_fraction_slained_by_unsaved_wound(bolt, bat, 5000)'\u001b[0m\u001b[0;34m)\u001b[0m\u001b[0;34m\u001b[0m\u001b[0;34m\u001b[0m\u001b[0m\n\u001b[0m",
      "\u001b[0;32m~/.local/lib/python3.6/site-packages/IPython/core/interactiveshell.py\u001b[0m in \u001b[0;36mrun_line_magic\u001b[0;34m(self, magic_name, line, _stack_depth)\u001b[0m\n\u001b[1;32m   2305\u001b[0m                 \u001b[0mkwargs\u001b[0m\u001b[0;34m[\u001b[0m\u001b[0;34m'local_ns'\u001b[0m\u001b[0;34m]\u001b[0m \u001b[0;34m=\u001b[0m \u001b[0msys\u001b[0m\u001b[0;34m.\u001b[0m\u001b[0m_getframe\u001b[0m\u001b[0;34m(\u001b[0m\u001b[0mstack_depth\u001b[0m\u001b[0;34m)\u001b[0m\u001b[0;34m.\u001b[0m\u001b[0mf_locals\u001b[0m\u001b[0;34m\u001b[0m\u001b[0;34m\u001b[0m\u001b[0m\n\u001b[1;32m   2306\u001b[0m             \u001b[0;32mwith\u001b[0m \u001b[0mself\u001b[0m\u001b[0;34m.\u001b[0m\u001b[0mbuiltin_trap\u001b[0m\u001b[0;34m:\u001b[0m\u001b[0;34m\u001b[0m\u001b[0;34m\u001b[0m\u001b[0m\n\u001b[0;32m-> 2307\u001b[0;31m                 \u001b[0mresult\u001b[0m \u001b[0;34m=\u001b[0m \u001b[0mfn\u001b[0m\u001b[0;34m(\u001b[0m\u001b[0;34m*\u001b[0m\u001b[0margs\u001b[0m\u001b[0;34m,\u001b[0m \u001b[0;34m**\u001b[0m\u001b[0mkwargs\u001b[0m\u001b[0;34m)\u001b[0m\u001b[0;34m\u001b[0m\u001b[0;34m\u001b[0m\u001b[0m\n\u001b[0m\u001b[1;32m   2308\u001b[0m             \u001b[0;32mreturn\u001b[0m \u001b[0mresult\u001b[0m\u001b[0;34m\u001b[0m\u001b[0;34m\u001b[0m\u001b[0m\n\u001b[1;32m   2309\u001b[0m \u001b[0;34m\u001b[0m\u001b[0m\n",
      "\u001b[0;32m</home/enzobnl/.local/lib/python3.6/site-packages/decorator.py:decorator-gen-60>\u001b[0m in \u001b[0;36mtimeit\u001b[0;34m(self, line, cell, local_ns)\u001b[0m\n",
      "\u001b[0;32m~/.local/lib/python3.6/site-packages/IPython/core/magic.py\u001b[0m in \u001b[0;36m<lambda>\u001b[0;34m(f, *a, **k)\u001b[0m\n\u001b[1;32m    185\u001b[0m     \u001b[0;31m# but it's overkill for just that one bit of state.\u001b[0m\u001b[0;34m\u001b[0m\u001b[0;34m\u001b[0m\u001b[0;34m\u001b[0m\u001b[0m\n\u001b[1;32m    186\u001b[0m     \u001b[0;32mdef\u001b[0m \u001b[0mmagic_deco\u001b[0m\u001b[0;34m(\u001b[0m\u001b[0marg\u001b[0m\u001b[0;34m)\u001b[0m\u001b[0;34m:\u001b[0m\u001b[0;34m\u001b[0m\u001b[0;34m\u001b[0m\u001b[0m\n\u001b[0;32m--> 187\u001b[0;31m         \u001b[0mcall\u001b[0m \u001b[0;34m=\u001b[0m \u001b[0;32mlambda\u001b[0m \u001b[0mf\u001b[0m\u001b[0;34m,\u001b[0m \u001b[0;34m*\u001b[0m\u001b[0ma\u001b[0m\u001b[0;34m,\u001b[0m \u001b[0;34m**\u001b[0m\u001b[0mk\u001b[0m\u001b[0;34m:\u001b[0m \u001b[0mf\u001b[0m\u001b[0;34m(\u001b[0m\u001b[0;34m*\u001b[0m\u001b[0ma\u001b[0m\u001b[0;34m,\u001b[0m \u001b[0;34m**\u001b[0m\u001b[0mk\u001b[0m\u001b[0;34m)\u001b[0m\u001b[0;34m\u001b[0m\u001b[0;34m\u001b[0m\u001b[0m\n\u001b[0m\u001b[1;32m    188\u001b[0m \u001b[0;34m\u001b[0m\u001b[0m\n\u001b[1;32m    189\u001b[0m         \u001b[0;32mif\u001b[0m \u001b[0mcallable\u001b[0m\u001b[0;34m(\u001b[0m\u001b[0marg\u001b[0m\u001b[0;34m)\u001b[0m\u001b[0;34m:\u001b[0m\u001b[0;34m\u001b[0m\u001b[0;34m\u001b[0m\u001b[0m\n",
      "\u001b[0;32m~/.local/lib/python3.6/site-packages/IPython/core/magics/execution.py\u001b[0m in \u001b[0;36mtimeit\u001b[0;34m(self, line, cell, local_ns)\u001b[0m\n\u001b[1;32m   1145\u001b[0m             \u001b[0;32mfor\u001b[0m \u001b[0mindex\u001b[0m \u001b[0;32min\u001b[0m \u001b[0mrange\u001b[0m\u001b[0;34m(\u001b[0m\u001b[0;36m0\u001b[0m\u001b[0;34m,\u001b[0m \u001b[0;36m10\u001b[0m\u001b[0;34m)\u001b[0m\u001b[0;34m:\u001b[0m\u001b[0;34m\u001b[0m\u001b[0;34m\u001b[0m\u001b[0m\n\u001b[1;32m   1146\u001b[0m                 \u001b[0mnumber\u001b[0m \u001b[0;34m=\u001b[0m \u001b[0;36m10\u001b[0m \u001b[0;34m**\u001b[0m \u001b[0mindex\u001b[0m\u001b[0;34m\u001b[0m\u001b[0;34m\u001b[0m\u001b[0m\n\u001b[0;32m-> 1147\u001b[0;31m                 \u001b[0mtime_number\u001b[0m \u001b[0;34m=\u001b[0m \u001b[0mtimer\u001b[0m\u001b[0;34m.\u001b[0m\u001b[0mtimeit\u001b[0m\u001b[0;34m(\u001b[0m\u001b[0mnumber\u001b[0m\u001b[0;34m)\u001b[0m\u001b[0;34m\u001b[0m\u001b[0;34m\u001b[0m\u001b[0m\n\u001b[0m\u001b[1;32m   1148\u001b[0m                 \u001b[0;32mif\u001b[0m \u001b[0mtime_number\u001b[0m \u001b[0;34m>=\u001b[0m \u001b[0;36m0.2\u001b[0m\u001b[0;34m:\u001b[0m\u001b[0;34m\u001b[0m\u001b[0;34m\u001b[0m\u001b[0m\n\u001b[1;32m   1149\u001b[0m                     \u001b[0;32mbreak\u001b[0m\u001b[0;34m\u001b[0m\u001b[0;34m\u001b[0m\u001b[0m\n",
      "\u001b[0;32m~/.local/lib/python3.6/site-packages/IPython/core/magics/execution.py\u001b[0m in \u001b[0;36mtimeit\u001b[0;34m(self, number)\u001b[0m\n\u001b[1;32m    159\u001b[0m         \u001b[0mgc\u001b[0m\u001b[0;34m.\u001b[0m\u001b[0mdisable\u001b[0m\u001b[0;34m(\u001b[0m\u001b[0;34m)\u001b[0m\u001b[0;34m\u001b[0m\u001b[0;34m\u001b[0m\u001b[0m\n\u001b[1;32m    160\u001b[0m         \u001b[0;32mtry\u001b[0m\u001b[0;34m:\u001b[0m\u001b[0;34m\u001b[0m\u001b[0;34m\u001b[0m\u001b[0m\n\u001b[0;32m--> 161\u001b[0;31m             \u001b[0mtiming\u001b[0m \u001b[0;34m=\u001b[0m \u001b[0mself\u001b[0m\u001b[0;34m.\u001b[0m\u001b[0minner\u001b[0m\u001b[0;34m(\u001b[0m\u001b[0mit\u001b[0m\u001b[0;34m,\u001b[0m \u001b[0mself\u001b[0m\u001b[0;34m.\u001b[0m\u001b[0mtimer\u001b[0m\u001b[0;34m)\u001b[0m\u001b[0;34m\u001b[0m\u001b[0;34m\u001b[0m\u001b[0m\n\u001b[0m\u001b[1;32m    162\u001b[0m         \u001b[0;32mfinally\u001b[0m\u001b[0;34m:\u001b[0m\u001b[0;34m\u001b[0m\u001b[0;34m\u001b[0m\u001b[0m\n\u001b[1;32m    163\u001b[0m             \u001b[0;32mif\u001b[0m \u001b[0mgcold\u001b[0m\u001b[0;34m:\u001b[0m\u001b[0;34m\u001b[0m\u001b[0;34m\u001b[0m\u001b[0m\n",
      "\u001b[0;32m<magic-timeit>\u001b[0m in \u001b[0;36minner\u001b[0;34m(_it, _timer)\u001b[0m\n",
      "\u001b[0;31mNameError\u001b[0m: name 'get_presimu_avg_figs_fraction_slained_by_unsaved_wound' is not defined"
     ]
    }
   ],
   "source": [
    "%timeit get_presimu_avg_figs_fraction_slained_by_unsaved_wound(bolt, bat, 5000)"
   ]
  },
  {
   "cell_type": "code",
   "execution_count": null,
   "metadata": {},
   "outputs": [],
   "source": [
    "get_presimu_avg_figs_fraction_slained_by_unsaved_wound(bolt, bat, 2000)"
   ]
  },
  {
   "cell_type": "code",
   "execution_count": 20,
   "metadata": {},
   "outputs": [],
   "source": [
    "def get_avg_of_density(d):\n",
    "    l = [float(v) * float(p) for v, p in d.items()]\n",
    "    return sum(l)"
   ]
  },
  {
   "cell_type": "code",
   "execution_count": 21,
   "metadata": {},
   "outputs": [
    {
     "ename": "IndentationError",
     "evalue": "expected an indented block (<ipython-input-21-207cda8fd6ee>, line 16)",
     "output_type": "error",
     "traceback": [
      "\u001b[0;36m  File \u001b[0;32m\"<ipython-input-21-207cda8fd6ee>\"\u001b[0;36m, line \u001b[0;32m16\u001b[0m\n\u001b[0;31m    n_figs_slained = 0\u001b[0m\n\u001b[0m    ^\u001b[0m\n\u001b[0;31mIndentationError\u001b[0m\u001b[0;31m:\u001b[0m expected an indented block\n"
     ]
    }
   ],
   "source": [
    "def get_avg_figs_fraction_slained_per_unsaved_wound(target_w, target_fnp, weapon_d, N):\n",
    "    \"\"\"\n",
    "    :param N: number of consecutive wounds resolved:\n",
    "          - N=1000 leads to a result precise at +- 1.5%\n",
    "          - N=10000 leads to a result precise at +- 0.5%\n",
    "    \"\"\"\n",
    "    # alternative:\n",
    "    if weapon.d.dices_type is None:\n",
    "        if target.fnp is None:\n",
    "            return 1/math.ceil(w/d)\n",
    "        else:\n",
    "            fnp_fail_ratio = 1 - compute_successes_ratio(target.fnp)\n",
    "            for pained_damage, prob_pained_damage in dispatch_density_key(weapon.d.n, fnp_fail_ratio):\n",
    "                \n",
    "                \n",
    "    n_figs_slained = 0\n",
    "    remaining_health = target_w\n",
    "    for _ in range(N):\n",
    "        damages = weapon_d.roll()\n",
    "        if target_fnp is not None:\n",
    "            for damage in range(damages):\n",
    "                if roll_D6() >= target_fnp:\n",
    "                    damages -= 1  # fnp success\n",
    "        remaining_health -= damages\n",
    "        if remaining_health <= 0:\n",
    "            n_figs_slained += 1\n",
    "            remaining_health = target_w\n",
    "    # e.g. remaining = 1,slained 2, w=3, frac = 2 + (1 - 1/3)\n",
    "    remaining_fraction = remaining_health / target_w\n",
    "    return (n_figs_slained + (1 - remaining_fraction)) / N\n",
    "\n"
   ]
  },
  {
   "cell_type": "code",
   "execution_count": null,
   "metadata": {},
   "outputs": [],
   "source": [
    "%time get_avg_figs_fraction_slained_per_unsaved_wound(target_w=3, target_fnp=5, weapon_d=DiceExpr(2, None), \\\n",
    "                                                      N=10000)"
   ]
  },
  {
   "cell_type": "code",
   "execution_count": null,
   "metadata": {},
   "outputs": [],
   "source": [
    "get_avg_figs_fraction_slained_per_unsaved_wound(target_w=3, target_fnp=5, weapon_d=DiceExpr(1, 3), N=1000000)"
   ]
  },
  {
   "cell_type": "code",
   "execution_count": null,
   "metadata": {},
   "outputs": [],
   "source": [
    "d = 3\n",
    "w = 5\n",
    "def exact(d, w):\n",
    "    return 1/math.ceil(w/d)\n",
    "assert(f(d=3, w=5) == 0.5)\n",
    "assert(f(d=2, w=2) == 1)\n",
    "assert(f(d=6, w=16) == 1/3)"
   ]
  },
  {
   "cell_type": "code",
   "execution_count": null,
   "metadata": {},
   "outputs": [],
   "source": [
    "f(d=3, w=5)"
   ]
  },
  {
   "cell_type": "code",
   "execution_count": null,
   "metadata": {},
   "outputs": [],
   "source": [
    "dispatch_density_key(2, 5/6)"
   ]
  },
  {
   "cell_type": "code",
   "execution_count": null,
   "metadata": {},
   "outputs": [],
   "source": [
    "5*5/6/6"
   ]
  },
  {
   "cell_type": "code",
   "execution_count": 11,
   "metadata": {},
   "outputs": [],
   "source": [
    "def float_eq(a, b, n_same_decimals=4):\n",
    "    print(f'%.{n_same_decimals}E' % a, f'%.{n_same_decimals}E' % b)\n",
    "    return f'%.{n_same_decimals}E' % a == f'%.{n_same_decimals}E' % b\n"
   ]
  },
  {
   "cell_type": "code",
   "execution_count": 49,
   "metadata": {},
   "outputs": [
    {
     "data": {
      "text/plain": [
       "(0.5, 0.5)"
      ]
     },
     "execution_count": 49,
     "metadata": {},
     "output_type": "execute_result"
    }
   ],
   "source": [
    "1/math.ceil(4/2), 1/math.ceil(3/2)"
   ]
  },
  {
   "cell_type": "code",
   "execution_count": 68,
   "metadata": {},
   "outputs": [
    {
     "data": {
      "text/plain": [
       "0.5"
      ]
     },
     "execution_count": 68,
     "metadata": {},
     "output_type": "execute_result"
    }
   ],
   "source": [
    "esperance_n_figs_slained_by_an_unsaved_wound(2, DiceExpr(1, 3), 3/6)"
   ]
  },
  {
   "cell_type": "code",
   "execution_count": 37,
   "metadata": {},
   "outputs": [
    {
     "name": "stdout",
     "output_type": "stream",
     "text": [
      "22514.0 leafs by single tree, for depth=32\n",
      "8E-01 8E-01\n",
      "15719.0 leafs by single tree, for depth=32\n",
      "7E-01 7E-01\n",
      "16384.0 leafs by single tree, for depth=32\n",
      "5E-01 5E-01\n",
      "1.0 leafs by single tree, for depth=32\n",
      "5E-01 5E-01\n",
      "1.0 leafs by single tree, for depth=32\n",
      "1E+00 1E+00\n",
      "26933.0 leafs by single tree, for depth=32\n",
      "1E+00 1E+00\n",
      "46656.0 leafs by single tree, for depth=32\n",
      "1E-01 1E-01\n",
      "24016.0 leafs by single tree, for depth=32\n",
      "3E-02 3E-02\n",
      "22282.0 leafs by single tree, for depth=32\n",
      "3E-02 3E-02\n"
     ]
    }
   ],
   "source": [
    "def update_slained_figs_ratios(n_unsaved_wounds_left,\n",
    "                               current_wound_n_damages_left,\n",
    "                               n_figs_slained_so_far,\n",
    "                               remaining_target_wounds,\n",
    "                               prob_node,\n",
    "                               start_target_wounds,\n",
    "                               fnp_fail_ratio,\n",
    "                               n_figs_slained_weighted_ratios,\n",
    "                               weapon_d,\n",
    "                               target_fnp,\n",
    "                               target_wounds,\n",
    "                               n_unsaved_wounds_init,\n",
    "                               prob_min_until_cut,\n",
    "                               current_wound_init_n_damages):\n",
    "    assert (remaining_target_wounds >= 0)\n",
    "    assert (n_unsaved_wounds_left >= 0)\n",
    "    assert (current_wound_n_damages_left >= 0)\n",
    "    if prob_node == 0:\n",
    "        return\n",
    "\n",
    "    # resolve a model kill\n",
    "    if remaining_target_wounds == 0:\n",
    "        remaining_target_wounds = target_wounds\n",
    "        n_figs_slained_so_far += 1\n",
    "        # additionnal damages are not propagated to other models\n",
    "        current_wound_n_damages_left = 0\n",
    "        update_slained_figs_ratios(n_unsaved_wounds_left,\n",
    "                                   current_wound_n_damages_left,\n",
    "                                   n_figs_slained_so_far,\n",
    "                                   remaining_target_wounds,\n",
    "                                   prob_node,\n",
    "                                   start_target_wounds,\n",
    "                                   fnp_fail_ratio,\n",
    "                                   n_figs_slained_weighted_ratios,\n",
    "                                   weapon_d=weapon_d, target_fnp=target_fnp, target_wounds=target_wounds,\n",
    "                                   n_unsaved_wounds_init=n_unsaved_wounds_init,\n",
    "                                   prob_min_until_cut=prob_min_until_cut,\n",
    "                                   current_wound_init_n_damages=current_wound_init_n_damages)\n",
    "        return\n",
    "\n",
    "    # leaf: no more damages to fnp no more wounds to consume or p(leaf) < threshold\n",
    "    if prob_node < prob_min_until_cut or (n_unsaved_wounds_left == 0 and current_wound_n_damages_left == 0):\n",
    "        # print(\"leaf: n_figs_slained_so_far =\", n_figs_slained_so_far, \"remaining_target_wounds=\", remaining_target_wounds )\n",
    "        if current_wound_n_damages_left > 0:\n",
    "            # wounds not used when branch is cut\n",
    "            unused_unsaved_wounds_portion = n_unsaved_wounds_left + current_wound_n_damages_left/current_wound_init_n_damages\n",
    "        else:\n",
    "            unused_unsaved_wounds_portion = n_unsaved_wounds_left\n",
    "        if n_unsaved_wounds_init == unused_unsaved_wounds_portion:\n",
    "            assert(n_figs_slained_so_far == 0)\n",
    "        else:\n",
    "            used_unsaved_wounds_portion = n_unsaved_wounds_init - unused_unsaved_wounds_portion\n",
    "            assert(used_unsaved_wounds_portion > 0)\n",
    "            n_figs_slained_weighted_ratios.append(\n",
    "                # prob, n_figs_slained_ratio_per_wound\n",
    "                (\n",
    "                        prob_node ,\n",
    "                        (n_figs_slained_so_far +\n",
    "                         (-1 + start_target_wounds / target_wounds) +  # portion of the first model cleaned\n",
    "                         (1 - remaining_target_wounds / target_wounds)) /  # portion of the last model injured\n",
    "                        (used_unsaved_wounds_portion)\n",
    "                )\n",
    "            )\n",
    "        return\n",
    "\n",
    "    # consume a wound\n",
    "    if current_wound_n_damages_left == 0:\n",
    "        n_unsaved_wounds_left -= 1\n",
    "        # random doms handling\n",
    "        for d, prob_d in prob_by_roll_result(weapon_d).items():\n",
    "            current_wound_n_damages_left = d\n",
    "            update_slained_figs_ratios(n_unsaved_wounds_left,\n",
    "                                       current_wound_n_damages_left,\n",
    "                                       n_figs_slained_so_far,\n",
    "                                       remaining_target_wounds,\n",
    "                                       prob_node * prob_d,\n",
    "                                       start_target_wounds,\n",
    "                                       fnp_fail_ratio,\n",
    "                                       n_figs_slained_weighted_ratios,\n",
    "                                       weapon_d=weapon_d, target_fnp=target_fnp, target_wounds=target_wounds,\n",
    "                                       n_unsaved_wounds_init=n_unsaved_wounds_init,\n",
    "                                       prob_min_until_cut=prob_min_until_cut,\n",
    "                                       current_wound_init_n_damages=current_wound_n_damages_left)\n",
    "        return\n",
    "\n",
    "    # FNP success\n",
    "    update_slained_figs_ratios(\n",
    "        n_unsaved_wounds_left,\n",
    "        current_wound_n_damages_left - 1,\n",
    "        n_figs_slained_so_far,\n",
    "        remaining_target_wounds,\n",
    "        prob_node * (1 - fnp_fail_ratio),\n",
    "        start_target_wounds,\n",
    "        fnp_fail_ratio,\n",
    "        n_figs_slained_weighted_ratios,\n",
    "        weapon_d=weapon_d, target_fnp=target_fnp, target_wounds=target_wounds,\n",
    "        n_unsaved_wounds_init=n_unsaved_wounds_init,\n",
    "        prob_min_until_cut=prob_min_until_cut,\n",
    "        current_wound_init_n_damages=current_wound_init_n_damages)\n",
    "\n",
    "    # FNP fail\n",
    "    update_slained_figs_ratios(\n",
    "        n_unsaved_wounds_left,\n",
    "        current_wound_n_damages_left - 1,\n",
    "        n_figs_slained_so_far,\n",
    "        remaining_target_wounds - 1,\n",
    "        prob_node * fnp_fail_ratio,\n",
    "        start_target_wounds,\n",
    "        fnp_fail_ratio,\n",
    "        n_figs_slained_weighted_ratios,\n",
    "        weapon_d=weapon_d, target_fnp=target_fnp, target_wounds=target_wounds,\n",
    "        n_unsaved_wounds_init=n_unsaved_wounds_init,\n",
    "        prob_min_until_cut=prob_min_until_cut,\n",
    "        current_wound_init_n_damages=current_wound_init_n_damages)\n",
    "\n",
    "\n",
    "def compute_slained_figs_ratios(weapon_d, target_fnp, target_wounds,\n",
    "                                n_unsaved_wounds_init=32,\n",
    "                                prob_min_until_cut=0.0001):\n",
    "    n_figs_slained_weighted_ratios = []\n",
    "    fnp_fail_ratio = 1 if target_fnp is None else 1 - compute_successes_ratio(target_fnp)\n",
    "    for start_target_wounds in range(target_wounds, target_wounds + 1):\n",
    "        update_slained_figs_ratios(\n",
    "            n_unsaved_wounds_left=n_unsaved_wounds_init,\n",
    "            current_wound_n_damages_left=0,\n",
    "            n_figs_slained_so_far=0,\n",
    "            remaining_target_wounds=start_target_wounds,\n",
    "            prob_node=1,\n",
    "            start_target_wounds=start_target_wounds,\n",
    "            fnp_fail_ratio=fnp_fail_ratio,\n",
    "            n_figs_slained_weighted_ratios=n_figs_slained_weighted_ratios,\n",
    "            weapon_d=weapon_d, target_fnp=target_fnp, target_wounds=target_wounds,\n",
    "            n_unsaved_wounds_init=n_unsaved_wounds_init,\n",
    "            prob_min_until_cut=prob_min_until_cut,\n",
    "            current_wound_init_n_damages=0)\n",
    "    # print(n_figs_slained_weighted_ratios)\n",
    "    print(f\"{len(n_figs_slained_weighted_ratios)/1} leafs by single tree, for depth={n_unsaved_wounds_init}\")\n",
    "    return sum(map(lambda tup: tup[0] * tup[1], n_figs_slained_weighted_ratios))/1\n",
    "\n",
    "# FNP\n",
    "assert(float_eq(compute_slained_figs_ratios(DiceExpr(1), 6, 1), 5/6, 0))\n",
    "assert(float_eq(compute_slained_figs_ratios(DiceExpr(1), 5, 1), 4/6, 0))\n",
    "assert(float_eq(compute_slained_figs_ratios(DiceExpr(1), 4, 1), 0.5, 0))\n",
    "# on W=2\n",
    "assert(float_eq(compute_slained_figs_ratios(DiceExpr(1), None, 2), 0.5, 0))\n",
    "assert(float_eq(compute_slained_figs_ratios(DiceExpr(2), None, 2), 1, 0))\n",
    "assert(float_eq(compute_slained_figs_ratios(DiceExpr(2, 3), None, 2), 1, 0))\n",
    "# random doms\n",
    "assert(float_eq(compute_slained_figs_ratios(DiceExpr(1, 6), None, 35), 0.1, 0))\n",
    "assert(float_eq(compute_slained_figs_ratios(DiceExpr(1, 6), 4, 70, n_unsaved_wounds_init=32, prob_min_until_cut=0.0001), 0.025, 0))\n",
    "assert(float_eq(compute_slained_figs_ratios(DiceExpr(1, 6), 5, 70, n_unsaved_wounds_init=32, prob_min_until_cut=0.0001), 2/60, 0))"
   ]
  },
  {
   "cell_type": "code",
   "execution_count": 24,
   "metadata": {},
   "outputs": [
    {
     "data": {
      "text/plain": [
       "0.06666666666666667"
      ]
     },
     "execution_count": 24,
     "metadata": {},
     "output_type": "execute_result"
    }
   ],
   "source": [
    "2/30"
   ]
  },
  {
   "cell_type": "code",
   "execution_count": null,
   "metadata": {},
   "outputs": [],
   "source": [
    "DiceExpr"
   ]
  },
  {
   "cell_type": "code",
   "execution_count": 93,
   "metadata": {},
   "outputs": [
    {
     "name": "stdout",
     "output_type": "stream",
     "text": [
      "158213.0 leafs by single tree, for depth=3\n",
      "CPU times: user 182 ms, sys: 0 ns, total: 182 ms\n",
      "Wall time: 181 ms\n"
     ]
    },
    {
     "data": {
      "text/plain": [
       "0.2665038738836544"
      ]
     },
     "execution_count": 93,
     "metadata": {},
     "output_type": "execute_result"
    }
   ],
   "source": [
    "%time compute_slained_figs_ratios(DiceExpr(1, 6), 5/6, 2, n_unsaved_wounds_init=3, prob_min_until_cut=0)"
   ]
  },
  {
   "cell_type": "code",
   "execution_count": 45,
   "metadata": {},
   "outputs": [
    {
     "data": {
      "text/plain": [
       "0.6661"
      ]
     },
     "execution_count": 45,
     "metadata": {},
     "output_type": "execute_result"
    }
   ],
   "source": [
    "(0.2222*1+0.222+0.444*2)/2"
   ]
  },
  {
   "cell_type": "code",
   "execution_count": 71,
   "metadata": {},
   "outputs": [
    {
     "name": "stdout",
     "output_type": "stream",
     "text": [
      "729.0 leafs by single tree, for depth=6\n",
      "CPU times: user 2.74 ms, sys: 0 ns, total: 2.74 ms\n",
      "Wall time: 2.66 ms\n"
     ]
    },
    {
     "data": {
      "text/plain": [
       "0.5746075293400396"
      ]
     },
     "execution_count": 71,
     "metadata": {},
     "output_type": "execute_result"
    }
   ],
   "source": [
    "%time compute_slained_figs_ratios(DiceExpr(1, 3), None, 3, n_unsaved_wounds_init=6, prob_min_until_cut=0)"
   ]
  },
  {
   "cell_type": "code",
   "execution_count": 64,
   "metadata": {},
   "outputs": [
    {
     "name": "stdout",
     "output_type": "stream",
     "text": [
      "243.0 leafs by single tree, for depth=6\n",
      "CPU times: user 811 µs, sys: 0 ns, total: 811 µs\n",
      "Wall time: 768 µs\n"
     ]
    },
    {
     "data": {
      "text/plain": [
       "0.28566529492455395"
      ]
     },
     "execution_count": 64,
     "metadata": {},
     "output_type": "execute_result"
    }
   ],
   "source": [
    "%time compute_slained_figs_ratios(DiceExpr(1, 3), None, 3, n_unsaved_wounds_init=6, prob_min_until_cut=0.01)"
   ]
  },
  {
   "cell_type": "code",
   "execution_count": 40,
   "metadata": {},
   "outputs": [
    {
     "name": "stdout",
     "output_type": "stream",
     "text": [
      "3492074.0 leafs by single tree, for depth=6\n",
      "CPU times: user 4.07 s, sys: 128 ms, total: 4.19 s\n",
      "Wall time: 4.19 s\n"
     ]
    },
    {
     "data": {
      "text/plain": [
       "0.10920222031093094"
      ]
     },
     "execution_count": 40,
     "metadata": {},
     "output_type": "execute_result"
    }
   ],
   "source": [
    "%time compute_slained_figs_ratios(DiceExpr(1, 3), 2, 3, n_unsaved_wounds_init=6, prob_min_until_cut=0)"
   ]
  },
  {
   "cell_type": "code",
   "execution_count": 41,
   "metadata": {},
   "outputs": [
    {
     "name": "stdout",
     "output_type": "stream",
     "text": [
      "20138.0 leafs by single tree, for depth=6\n",
      "CPU times: user 30.4 ms, sys: 0 ns, total: 30.4 ms\n",
      "Wall time: 30 ms\n"
     ]
    },
    {
     "data": {
      "text/plain": [
       "0.12574835986915847"
      ]
     },
     "execution_count": 41,
     "metadata": {},
     "output_type": "execute_result"
    }
   ],
   "source": [
    "%time compute_slained_figs_ratios(DiceExpr(1, 3), 2, 3, n_unsaved_wounds_init=6, prob_min_until_cut=0.0001)"
   ]
  },
  {
   "cell_type": "code",
   "execution_count": 32,
   "metadata": {},
   "outputs": [
    {
     "name": "stderr",
     "output_type": "stream",
     "text": [
      "IOPub data rate exceeded.\n",
      "The notebook server will temporarily stop sending output\n",
      "to the client in order to avoid crashing it.\n",
      "To change this limit, set the config variable\n",
      "`--NotebookApp.iopub_data_rate_limit`.\n",
      "\n",
      "Current values:\n",
      "NotebookApp.iopub_data_rate_limit=1000000.0 (bytes/sec)\n",
      "NotebookApp.rate_limit_window=3.0 (secs)\n",
      "\n"
     ]
    },
    {
     "ename": "TypeError",
     "evalue": "unsupported operand type(s) for +: 'int' and 'tuple'",
     "output_type": "error",
     "traceback": [
      "\u001b[0;31m---------------------------------------------------------------------------\u001b[0m",
      "\u001b[0;31mTypeError\u001b[0m                                 Traceback (most recent call last)",
      "\u001b[0;32m<ipython-input-32-431544aa3643>\u001b[0m in \u001b[0;36m<module>\u001b[0;34m\u001b[0m\n\u001b[1;32m      1\u001b[0m \u001b[0;31m# FNP\u001b[0m\u001b[0;34m\u001b[0m\u001b[0;34m\u001b[0m\u001b[0;34m\u001b[0m\u001b[0m\n\u001b[1;32m      2\u001b[0m (\n\u001b[0;32m----> 3\u001b[0;31m     \u001b[0mcompute_slained_figs_ratios\u001b[0m\u001b[0;34m(\u001b[0m\u001b[0mDiceExpr\u001b[0m\u001b[0;34m(\u001b[0m\u001b[0;36m2\u001b[0m\u001b[0;34m)\u001b[0m\u001b[0;34m,\u001b[0m \u001b[0;36m2\u001b[0m\u001b[0;34m,\u001b[0m \u001b[0;36m5\u001b[0m\u001b[0;34m,\u001b[0m \u001b[0mn_unsaved_wounds_init\u001b[0m\u001b[0;34m=\u001b[0m\u001b[0;36m10\u001b[0m\u001b[0;34m,\u001b[0m \u001b[0mprob_min_until_cut\u001b[0m\u001b[0;34m=\u001b[0m\u001b[0;36m0.000\u001b[0m\u001b[0;34m)\u001b[0m\u001b[0;34m,\u001b[0m\u001b[0;34m\u001b[0m\u001b[0;34m\u001b[0m\u001b[0m\n\u001b[0m\u001b[1;32m      4\u001b[0m     \u001b[0mcompute_slained_figs_ratios\u001b[0m\u001b[0;34m(\u001b[0m\u001b[0mDiceExpr\u001b[0m\u001b[0;34m(\u001b[0m\u001b[0;36m2\u001b[0m\u001b[0;34m)\u001b[0m\u001b[0;34m,\u001b[0m \u001b[0;36m2\u001b[0m\u001b[0;34m,\u001b[0m \u001b[0;36m5\u001b[0m\u001b[0;34m,\u001b[0m \u001b[0mn_unsaved_wounds_init\u001b[0m\u001b[0;34m=\u001b[0m\u001b[0;36m10\u001b[0m\u001b[0;34m,\u001b[0m \u001b[0mprob_min_until_cut\u001b[0m\u001b[0;34m=\u001b[0m\u001b[0;36m0.00001\u001b[0m\u001b[0;34m)\u001b[0m\u001b[0;34m,\u001b[0m\u001b[0;34m\u001b[0m\u001b[0;34m\u001b[0m\u001b[0m\n\u001b[1;32m      5\u001b[0m )\n",
      "\u001b[0;32m<ipython-input-31-63cb212b06e8>\u001b[0m in \u001b[0;36mcompute_slained_figs_ratios\u001b[0;34m(weapon_d, target_fnp, target_wounds, n_unsaved_wounds_init, prob_min_until_cut)\u001b[0m\n\u001b[1;32m    135\u001b[0m     \u001b[0mprint\u001b[0m\u001b[0;34m(\u001b[0m\u001b[0mn_figs_slained_weighted_ratios\u001b[0m\u001b[0;34m)\u001b[0m\u001b[0;34m\u001b[0m\u001b[0;34m\u001b[0m\u001b[0m\n\u001b[1;32m    136\u001b[0m     \u001b[0mprint\u001b[0m\u001b[0;34m(\u001b[0m\u001b[0;34mf\"{len(n_figs_slained_weighted_ratios)/1} leafs by single tree, for depth={n_unsaved_wounds_init}\"\u001b[0m\u001b[0;34m)\u001b[0m\u001b[0;34m\u001b[0m\u001b[0;34m\u001b[0m\u001b[0m\n\u001b[0;32m--> 137\u001b[0;31m     \u001b[0;32mreturn\u001b[0m \u001b[0msum\u001b[0m\u001b[0;34m(\u001b[0m\u001b[0mn_figs_slained_weighted_ratios\u001b[0m\u001b[0;34m)\u001b[0m\u001b[0;34m/\u001b[0m\u001b[0;36m1\u001b[0m\u001b[0;34m\u001b[0m\u001b[0;34m\u001b[0m\u001b[0m\n\u001b[0m",
      "\u001b[0;31mTypeError\u001b[0m: unsupported operand type(s) for +: 'int' and 'tuple'"
     ]
    }
   ],
   "source": [
    "# FNP\n",
    "(\n",
    "    compute_slained_figs_ratios(DiceExpr(2), 2, 5, n_unsaved_wounds_init=10, prob_min_until_cut=0.000),\n",
    "    compute_slained_figs_ratios(DiceExpr(2), 2, 5, n_unsaved_wounds_init=10, prob_min_until_cut=0.00001),\n",
    ")"
   ]
  },
  {
   "cell_type": "code",
   "execution_count": 22,
   "metadata": {},
   "outputs": [
    {
     "name": "stdout",
     "output_type": "stream",
     "text": [
      "23394.0 leafs by single tree, for depth=100\n",
      "CPU times: user 48.7 ms, sys: 4.09 ms, total: 52.8 ms\n",
      "Wall time: 51.4 ms\n"
     ]
    },
    {
     "data": {
      "text/plain": [
       "0.07567009146605616"
      ]
     },
     "execution_count": 22,
     "metadata": {},
     "output_type": "execute_result"
    }
   ],
   "source": [
    "%time compute_slained_figs_ratios(DiceExpr(2), 2, 5, n_unsaved_wounds_init=100, prob_min_until_cut=0.0001)"
   ]
  },
  {
   "cell_type": "code",
   "execution_count": 130,
   "metadata": {},
   "outputs": [
    {
     "name": "stdout",
     "output_type": "stream",
     "text": [
      "65536.0 leafs by single tree, for depth=16\n",
      "8.3333E-01 8.3333E-01\n",
      "CPU times: user 118 ms, sys: 0 ns, total: 118 ms\n",
      "Wall time: 117 ms\n"
     ]
    }
   ],
   "source": [
    "%time assert (float_eq(compute_slained_figs_ratios(DiceExpr(1), 6, 1, n_unsaved_wounds_init=16, prob_min_until_cut=0), 5 / 6, 4))\n"
   ]
  },
  {
   "cell_type": "code",
   "execution_count": 112,
   "metadata": {},
   "outputs": [
    {
     "name": "stdout",
     "output_type": "stream",
     "text": [
      "8.0 leafs by single tree, for depth=3\n",
      "1.7E-01 1.7E-01\n",
      "CPU times: user 1.13 ms, sys: 0 ns, total: 1.13 ms\n",
      "Wall time: 772 µs\n"
     ]
    },
    {
     "data": {
      "text/plain": [
       "True"
      ]
     },
     "execution_count": 112,
     "metadata": {},
     "output_type": "execute_result"
    }
   ],
   "source": [
    "%time  (float_eq(compute_slained_figs_ratios(DiceExpr(1), 2, 1, n_unsaved_wounds_init=10, prob_min_until_cut=0.00003), 1 / 6, 1))"
   ]
  },
  {
   "cell_type": "code",
   "execution_count": 70,
   "metadata": {},
   "outputs": [
    {
     "name": "stdout",
     "output_type": "stream",
     "text": [
      "423251.0 leafs by single tree, for depth=100\n",
      "8.0251331257E-01 1.0000000000E+00\n",
      "CPU times: user 814 ms, sys: 6.41 ms, total: 820 ms\n",
      "Wall time: 819 ms\n"
     ]
    },
    {
     "data": {
      "text/plain": [
       "False"
      ]
     },
     "execution_count": 70,
     "metadata": {},
     "output_type": "execute_result"
    }
   ],
   "source": [
    "%time float_eq(compute_slained_figs_ratios(DiceExpr(2, 6), None, 6, \\\n",
    "                                           n_unsaved_wounds_init=100, \\\n",
    "                                           prob_min_until_cut=0.00001), 1, 10)"
   ]
  },
  {
   "cell_type": "code",
   "execution_count": 72,
   "metadata": {},
   "outputs": [
    {
     "name": "stdout",
     "output_type": "stream",
     "text": [
      "8.0 leafs by single tree, for depth=3\n"
     ]
    }
   ],
   "source": [
    "assert (float_eq(compute_slained_figs_ratios(DiceExpr(1), 5, 1), 4 / 6, 4))"
   ]
  },
  {
   "cell_type": "code",
   "execution_count": 22,
   "metadata": {},
   "outputs": [
    {
     "name": "stdout",
     "output_type": "stream",
     "text": [
      "1.0 leafs by single tree, for depth=10\n",
      "1.0 leafs by single tree, for depth=10\n"
     ]
    }
   ],
   "source": [
    "assert (float_eq(compute_slained_figs_ratios(DiceExpr(1), None, 1), 1, 3))\n",
    "assert (float_eq(compute_slained_figs_ratios(DiceExpr(2), None, 1), 1, 3))"
   ]
  },
  {
   "cell_type": "code",
   "execution_count": 23,
   "metadata": {},
   "outputs": [
    {
     "name": "stdout",
     "output_type": "stream",
     "text": [
      "1.0 leafs by single tree, for depth=10\n"
     ]
    }
   ],
   "source": [
    "assert (float_eq(compute_slained_figs_ratios(DiceExpr(2), None, 5), 1 / 3, 0))"
   ]
  },
  {
   "cell_type": "code",
   "execution_count": 24,
   "metadata": {},
   "outputs": [
    {
     "name": "stdout",
     "output_type": "stream",
     "text": [
      "1.0 leafs by single tree, for depth=10\n",
      "1.0 leafs by single tree, for depth=10\n"
     ]
    }
   ],
   "source": [
    "assert (float_eq(compute_slained_figs_ratios(DiceExpr(3), None, 5), 0.5, 1))\n",
    "assert (float_eq(compute_slained_figs_ratios(DiceExpr(3), None, 5), 0.5, 1))"
   ]
  },
  {
   "cell_type": "code",
   "execution_count": 25,
   "metadata": {},
   "outputs": [
    {
     "name": "stdout",
     "output_type": "stream",
     "text": [
      "491.0 leafs by single tree, for depth=100\n"
     ]
    }
   ],
   "source": [
    "assert(compute_slained_figs_ratios(DiceExpr(2, 6), None, 7, \\\n",
    "                                           n_unsaved_wounds_init=100, \\\n",
    "                                           prob_min_until_cut=0.01) < 0.7)"
   ]
  },
  {
   "cell_type": "code",
   "execution_count": 26,
   "metadata": {},
   "outputs": [
    {
     "name": "stdout",
     "output_type": "stream",
     "text": [
      "491.0 leafs by single tree, for depth=100\n"
     ]
    }
   ],
   "source": [
    "assert(float_eq(compute_slained_figs_ratios(DiceExpr(2, 6), None, 70, \\\n",
    "                                           n_unsaved_wounds_init=100, \\\n",
    "                                           prob_min_until_cut=0.01), 0.1, 0))"
   ]
  },
  {
   "cell_type": "code",
   "execution_count": 119,
   "metadata": {},
   "outputs": [
    {
     "name": "stdout",
     "output_type": "stream",
     "text": [
      "152.0 leafs by single tree, for depth=100\n",
      "5.000E-02 5.000E-02\n",
      "CPU times: user 544 µs, sys: 0 ns, total: 544 µs\n",
      "Wall time: 409 µs\n"
     ]
    },
    {
     "data": {
      "text/plain": [
       "True"
      ]
     },
     "execution_count": 119,
     "metadata": {},
     "output_type": "execute_result"
    }
   ],
   "source": [
    "%time float_eq(compute_slained_figs_ratios(DiceExpr(2, 6), 4, 70, \\\n",
    "                                           n_unsaved_wounds_init=100, \\\n",
    "                                           prob_min_until_cut=0.01), 0.1/2, 3)"
   ]
  },
  {
   "cell_type": "code",
   "execution_count": 115,
   "metadata": {},
   "outputs": [
    {
     "name": "stdout",
     "output_type": "stream",
     "text": [
      "1.0 leafs by single tree, for depth=100\n",
      "1.0 leafs by single tree, for depth=19\n",
      "1.0 leafs by single tree, for depth=18\n",
      "1.0 leafs by single tree, for depth=17\n",
      "1.0 leafs by single tree, for depth=16\n",
      "1.0 leafs by single tree, for depth=15\n",
      "1.0 leafs by single tree, for depth=14\n",
      "1.0 leafs by single tree, for depth=13\n",
      "1.0 leafs by single tree, for depth=12\n",
      "1.0 leafs by single tree, for depth=11\n",
      "1.0 leafs by single tree, for depth=10\n",
      "1.0 leafs by single tree, for depth=9\n"
     ]
    },
    {
     "data": {
      "text/plain": [
       "(0.33399999999999996,\n",
       " 0.3368421052631579,\n",
       " 0.3377777777777778,\n",
       " 0.3364705882352942,\n",
       " 0.3375,\n",
       " 0.3386666666666666,\n",
       " 0.3371428571428572,\n",
       " 0.3384615384615385,\n",
       " 0.33999999999999997,\n",
       " 0.3381818181818182,\n",
       " 0.33999999999999997,\n",
       " 0.3422222222222222)"
      ]
     },
     "execution_count": 115,
     "metadata": {},
     "output_type": "execute_result"
    }
   ],
   "source": [
    "# 1, 3\n",
    "(compute_slained_figs_ratios(DiceExpr(2), None, 5, n_unsaved_wounds_init=100),\n",
    "compute_slained_figs_ratios(DiceExpr(2), None, 5, n_unsaved_wounds_init=19),\n",
    "compute_slained_figs_ratios(DiceExpr(2), None, 5, n_unsaved_wounds_init=18),\n",
    "compute_slained_figs_ratios(DiceExpr(2), None, 5, n_unsaved_wounds_init=17),\n",
    "compute_slained_figs_ratios(DiceExpr(2), None, 5, n_unsaved_wounds_init=16),\n",
    " compute_slained_figs_ratios(DiceExpr(2), None, 5, n_unsaved_wounds_init=15),\n",
    "compute_slained_figs_ratios(DiceExpr(2), None, 5, n_unsaved_wounds_init=14),\n",
    "compute_slained_figs_ratios(DiceExpr(2), None, 5, n_unsaved_wounds_init=13),\n",
    "compute_slained_figs_ratios(DiceExpr(2), None, 5, n_unsaved_wounds_init=12),\n",
    "compute_slained_figs_ratios(DiceExpr(2), None, 5, n_unsaved_wounds_init=11),\n",
    "compute_slained_figs_ratios(DiceExpr(2), None, 5, n_unsaved_wounds_init=10),\n",
    " compute_slained_figs_ratios(DiceExpr(2), None, 5, n_unsaved_wounds_init=9))"
   ]
  },
  {
   "cell_type": "code",
   "execution_count": null,
   "metadata": {},
   "outputs": [],
   "source": [
    "def smooth_compute_slained_figs_ratios(weapon_d, target_fnp, target_wounds, n_unsaved_wounds_init_max=7, n_variants=3):\n",
    "        return sum(\n",
    "            [\n",
    "                compute_slained_figs_ratios(\n",
    "                    weapon_d,\n",
    "                    target_fnp, \n",
    "                    target_wounds, \n",
    "                    n_unsaved_wounds_init_max - i)\n",
    "                for i in range(n_variants)\n",
    "            ])/n_variants\n",
    "    \n",
    "assert(float_eq(smooth_compute_slained_figs_ratios(\n",
    "    DiceExpr(3), \n",
    "    None, \n",
    "    5,\n",
    "    n_unsaved_wounds_init_max=17,\n",
    "    n_variants=3), 0.5, 2))"
   ]
  },
  {
   "cell_type": "code",
   "execution_count": 15,
   "metadata": {},
   "outputs": [
    {
     "name": "stdout",
     "output_type": "stream",
     "text": [
      "CPU times: user 53.5 ms, sys: 0 ns, total: 53.5 ms\n",
      "Wall time: 51.9 ms\n"
     ]
    },
    {
     "data": {
      "text/plain": [
       "0.9999999999999936"
      ]
     },
     "execution_count": 15,
     "metadata": {},
     "output_type": "execute_result"
    }
   ],
   "source": [
    "%time compute_slained_figs_ratios(DiceExpr(2, 6), None, 1, n_unsaved_wounds_init=4)"
   ]
  },
  {
   "cell_type": "code",
   "execution_count": null,
   "metadata": {},
   "outputs": [],
   "source": [
    "%time compute_slained_figs_ratios(DiceExpr(2, 6), None, 1)"
   ]
  },
  {
   "cell_type": "code",
   "execution_count": 26,
   "metadata": {},
   "outputs": [
    {
     "data": {
      "text/plain": [
       "{1: 1}"
      ]
     },
     "execution_count": 26,
     "metadata": {},
     "output_type": "execute_result"
    }
   ],
   "source": [
    "prob_by_roll_result(DiceExpr(1))"
   ]
  },
  {
   "cell_type": "code",
   "execution_count": 34,
   "metadata": {},
   "outputs": [
    {
     "name": "stdout",
     "output_type": "stream",
     "text": [
      "1E+00 2E+00\n"
     ]
    },
    {
     "data": {
      "text/plain": [
       "False"
      ]
     },
     "execution_count": 34,
     "metadata": {},
     "output_type": "execute_result"
    }
   ],
   "source": [
    "float_eq(1.4, 1.6, 0)"
   ]
  },
  {
   "cell_type": "markdown",
   "metadata": {},
   "source": [
    "# Attempt to elagate"
   ]
  },
  {
   "cell_type": "code",
   "execution_count": null,
   "metadata": {},
   "outputs": [],
   "source": [
    "def esperance_n_figs_slained_by_an_unsaved_wound(target_wounds, weapon_d, fnp_fail_ratio):\n",
    "    n_figs_slained_by_a_full_unsaved_wound_at_avg_damage = 1/math.ceil(target_wounds / weapon_d.avg)\n",
    "    return  n_figs_slained_by_a_full_unsaved_wound_at_avg_damage* fnp_fail_ratio\n",
    "\n",
    "def update_slained_figs_ratios(n_unsaved_wounds_left,\n",
    "                               current_wound_n_damages_left,\n",
    "                               n_figs_slained_so_far,\n",
    "                               remaining_target_wounds,\n",
    "                               prob_node,\n",
    "                               start_target_wounds,\n",
    "                               fnp_fail_ratio,\n",
    "                               n_figs_slained_weighted_ratios,\n",
    "                               weapon_d,\n",
    "                               target_fnp,\n",
    "                               target_wounds,\n",
    "                               n_unsaved_wounds_init,\n",
    "                               prob_min_until_cut,\n",
    "                               current_wound_init_n_damages):\n",
    "    assert (remaining_target_wounds >= 0)\n",
    "    assert (n_unsaved_wounds_left >= 0)\n",
    "    assert (current_wound_n_damages_left >= 0)\n",
    "    if prob_node == 0:\n",
    "        return\n",
    "\n",
    "    # resolve a model kill\n",
    "    if remaining_target_wounds == 0:\n",
    "        remaining_target_wounds = target_wounds\n",
    "        n_figs_slained_so_far += 1\n",
    "        # additionnal damages are not propagated to other models\n",
    "        current_wound_n_damages_left = 0\n",
    "        update_slained_figs_ratios(n_unsaved_wounds_left,\n",
    "                                   current_wound_n_damages_left,\n",
    "                                   n_figs_slained_so_far,\n",
    "                                   remaining_target_wounds,\n",
    "                                   prob_node,\n",
    "                                   start_target_wounds,\n",
    "                                   fnp_fail_ratio,\n",
    "                                   n_figs_slained_weighted_ratios,\n",
    "                                   weapon_d=weapon_d, target_fnp=target_fnp, target_wounds=target_wounds,\n",
    "                                   n_unsaved_wounds_init=n_unsaved_wounds_init,\n",
    "                                   prob_min_until_cut=prob_min_until_cut,\n",
    "                                   current_wound_init_n_damages=current_wound_init_n_damages)\n",
    "        return\n",
    "\n",
    "    # leaf: no more damages to fnp no more wounds to consume or p(leaf) < threshold\n",
    "    if prob_node < prob_min_until_cut or (n_unsaved_wounds_left == 0 and current_wound_n_damages_left == 0):\n",
    "        # print(\"leaf: n_figs_slained_so_far =\", n_figs_slained_so_far, \"remaining_target_wounds=\", remaining_target_wounds )\n",
    "        if current_wound_n_damages_left > 0:\n",
    "            # wounds not used when branch is cut\n",
    "            unused_unsaved_wounds_portion = n_unsaved_wounds_left + current_wound_n_damages_left/current_wound_init_n_damages\n",
    "        else:\n",
    "            unused_unsaved_wounds_portion = n_unsaved_wounds_left\n",
    "        if n_unsaved_wounds_init == unused_unsaved_wounds_portion:\n",
    "            assert(n_figs_slained_so_far == 0)\n",
    "        else:\n",
    "            used_unsaved_wounds_portion = n_unsaved_wounds_init - unused_unsaved_wounds_portion\n",
    "            assert(used_unsaved_wounds_portion > 0)\n",
    "            n_figs_slained_weighted_ratios.append(\n",
    "                # prob, n_figs_slained_ratio_per_wound\n",
    "                (\n",
    "                        prob_node ,\n",
    "                        ((n_figs_slained_so_far +\n",
    "                         (-1 + start_target_wounds / target_wounds) +  # portion of the first model cleaned\n",
    "                         (1 - remaining_target_wounds / target_wounds)) *  # portion of the last model injured\n",
    "                        (used_unsaved_wounds_portion)\n",
    "                        + esperance_n_figs_slained_by_an_unsaved_wound(\n",
    "                            target_wounds,\n",
    "                            weapon_d, \n",
    "                            fnp_fail_ratio)\n",
    "                         *unused_unsaved_wounds_portion)/\n",
    "                    n_unsaved_wounds_init**2\n",
    "                )\n",
    "            )\n",
    "        return\n",
    "\n",
    "    # consume a wound\n",
    "    if current_wound_n_damages_left == 0:\n",
    "        n_unsaved_wounds_left -= 1\n",
    "        # random doms handling\n",
    "        for d, prob_d in prob_by_roll_result(weapon_d).items():\n",
    "            current_wound_n_damages_left = d\n",
    "            update_slained_figs_ratios(n_unsaved_wounds_left,\n",
    "                                       current_wound_n_damages_left,\n",
    "                                       n_figs_slained_so_far,\n",
    "                                       remaining_target_wounds,\n",
    "                                       prob_node * prob_d,\n",
    "                                       start_target_wounds,\n",
    "                                       fnp_fail_ratio,\n",
    "                                       n_figs_slained_weighted_ratios,\n",
    "                                       weapon_d=weapon_d, target_fnp=target_fnp, target_wounds=target_wounds,\n",
    "                                       n_unsaved_wounds_init=n_unsaved_wounds_init,\n",
    "                                       prob_min_until_cut=prob_min_until_cut,\n",
    "                                       current_wound_init_n_damages=current_wound_n_damages_left)\n",
    "        return\n",
    "\n",
    "    # FNP success\n",
    "    update_slained_figs_ratios(\n",
    "        n_unsaved_wounds_left,\n",
    "        current_wound_n_damages_left - 1,\n",
    "        n_figs_slained_so_far,\n",
    "        remaining_target_wounds,\n",
    "        prob_node * (1 - fnp_fail_ratio),\n",
    "        start_target_wounds,\n",
    "        fnp_fail_ratio,\n",
    "        n_figs_slained_weighted_ratios,\n",
    "        weapon_d=weapon_d, target_fnp=target_fnp, target_wounds=target_wounds,\n",
    "        n_unsaved_wounds_init=n_unsaved_wounds_init,\n",
    "        prob_min_until_cut=prob_min_until_cut,\n",
    "        current_wound_init_n_damages=current_wound_init_n_damages)\n",
    "\n",
    "    # FNP fail\n",
    "    update_slained_figs_ratios(\n",
    "        n_unsaved_wounds_left,\n",
    "        current_wound_n_damages_left - 1,\n",
    "        n_figs_slained_so_far,\n",
    "        remaining_target_wounds - 1,\n",
    "        prob_node * fnp_fail_ratio,\n",
    "        start_target_wounds,\n",
    "        fnp_fail_ratio,\n",
    "        n_figs_slained_weighted_ratios,\n",
    "        weapon_d=weapon_d, target_fnp=target_fnp, target_wounds=target_wounds,\n",
    "        n_unsaved_wounds_init=n_unsaved_wounds_init,\n",
    "        prob_min_until_cut=prob_min_until_cut,\n",
    "        current_wound_init_n_damages=current_wound_init_n_damages)\n",
    "\n",
    "\n",
    "def compute_slained_figs_ratios(weapon_d, target_fnp, target_wounds, n_unsaved_wounds_init=3,\n",
    "                                prob_min_until_cut=0):\n",
    "    n_figs_slained_weighted_ratios = []\n",
    "    fnp_fail_ratio = 1 if target_fnp is None else 1 - compute_successes_ratio(target_fnp)\n",
    "    for start_target_wounds in range(target_wounds, target_wounds + 1):\n",
    "        update_slained_figs_ratios(\n",
    "            n_unsaved_wounds_left=n_unsaved_wounds_init,\n",
    "            current_wound_n_damages_left=0,\n",
    "            n_figs_slained_so_far=0,\n",
    "            remaining_target_wounds=start_target_wounds,\n",
    "            prob_node=1,\n",
    "            start_target_wounds=start_target_wounds,\n",
    "            fnp_fail_ratio=fnp_fail_ratio,\n",
    "            n_figs_slained_weighted_ratios=n_figs_slained_weighted_ratios,\n",
    "            weapon_d=weapon_d, target_fnp=target_fnp, target_wounds=target_wounds,\n",
    "            n_unsaved_wounds_init=n_unsaved_wounds_init,\n",
    "            prob_min_until_cut=prob_min_until_cut,\n",
    "            current_wound_init_n_damages=0)\n",
    "    # print(n_figs_slained_weighted_ratios)\n",
    "    print(f\"{len(n_figs_slained_weighted_ratios)/1} leafs by single tree, for depth={n_unsaved_wounds_init}\")\n",
    "    return sum(map(lambda tup: tup[0] * tup[1], n_figs_slained_weighted_ratios))/1"
   ]
  }
 ],
 "metadata": {
  "kernelspec": {
   "display_name": "Python 3",
   "language": "python",
   "name": "python3"
  },
  "language_info": {
   "codemirror_mode": {
    "name": "ipython",
    "version": 3
   },
   "file_extension": ".py",
   "mimetype": "text/x-python",
   "name": "python",
   "nbconvert_exporter": "python",
   "pygments_lexer": "ipython3",
   "version": "3.6.7"
  }
 },
 "nbformat": 4,
 "nbformat_minor": 2
}
