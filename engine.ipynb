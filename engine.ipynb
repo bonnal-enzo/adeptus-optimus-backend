{
 "cells": [
  {
   "cell_type": "markdown",
   "metadata": {},
   "source": [
    "# Adeptus Optimus Proto"
   ]
  },
  {
   "cell_type": "markdown",
   "metadata": {},
   "source": [
    "# Calculus"
   ]
  },
  {
   "cell_type": "code",
   "execution_count": 11,
   "metadata": {},
   "outputs": [],
   "source": [
    "import scipy.special\n",
    "import numpy as np\n",
    "import random\n",
    "import re\n",
    "import json"
   ]
  },
  {
   "cell_type": "code",
   "execution_count": 12,
   "metadata": {},
   "outputs": [],
   "source": [
    "# Utils\n",
    "def map_7_to_None(v):\n",
    "    return None if v == 7 else v\n",
    "\n",
    "class RequirementFailError(Exception):\n",
    "    pass\n",
    "\n",
    "def require(predicate, error_message):\n",
    "    if not(predicate):\n",
    "        raise RequirementFailError(error_message)\n",
    "\n",
    "require(True, \"bla\")\n",
    "\n",
    "thrown_message = \"\"\n",
    "try:\n",
    "    require(False, \"bla\")\n",
    "except RequirementFailError as e:\n",
    "    thrown_message = str(e)\n",
    "assert(thrown_message == \"bla\")\n",
    "    \n",
    "    \n",
    "    \n",
    "def roll_D6():\n",
    "    return random.randint(1, 6)\n",
    "assert(len({roll_D6() for _ in range(1000)}) == 6)\n",
    "\n",
    "def roll_D3():\n",
    "    return (random.randint(1, 6) + 1) // 2\n",
    "assert(len({roll_D3() for _ in range(1000)}) == 3)\n",
    "\n",
    "class DiceExpr:\n",
    "    def __init__(self, n, dices_type=None):\n",
    "        self.n = n\n",
    "        self.dices_type = dices_type\n",
    "        \n",
    "        if self.dices_type is None:\n",
    "            self.avg = n\n",
    "        else:\n",
    "            self.avg = n * (self.dices_type + 1)/2\n",
    "    \n",
    "    def roll(self):\n",
    "        if self.dices_type is None:\n",
    "            return self.n\n",
    "        else:\n",
    "            if self.dices_type == 3:\n",
    "                return sum([roll_D3() for _ in range(self.n)])\n",
    "            elif self.dices_type == 6:\n",
    "                return sum([roll_D6() for _ in range(self.n)])\n",
    "            else:\n",
    "                raise AttributeError(f\"Unsupported dices_type D{self.dices_type}\")\n",
    "    \n",
    "        \n",
    "    def __str__(self):\n",
    "        if self.dices_type is None:\n",
    "            return str(self.n)\n",
    "        else:\n",
    "            return f\"{self.n if self.n > 1 else ''}D{self.dices_type}\"\n",
    "\n",
    "        \n",
    "assert(str(DiceExpr(5, 3)) == \"5D3\")\n",
    "assert(str(DiceExpr(1, 6)) == \"D6\")\n",
    "assert(str(DiceExpr(10, None)) == \"10\")\n",
    "\n",
    "dice_5D3 = DiceExpr(5, 3)\n",
    "assert(len({dice_5D3.roll() for _ in range(10000)}) == 5*3 -5 + 1)\n",
    "dice_4D6 = DiceExpr(4, 6)\n",
    "assert(len({dice_4D6.roll() for _ in range(10000)}) == 4*6 -4 + 1)          \n",
    "    \n",
    "def parse_dice_expr(d, complexity_threshold=36):\n",
    "    assert(type(d) is str)\n",
    "    groups = re.fullmatch(r\"([1-9][0-9]*)?D([36])?|([0-9]+)\", d)\n",
    "    res = None\n",
    "    try:\n",
    "        if groups.group(1) is None:\n",
    "            n_dices = 1\n",
    "        else:\n",
    "            n_dices = int(groups.group(1))\n",
    "        dices_type = int(groups.group(2))\n",
    "        if(n_dices*(1 if dices_type is None else dices_type) > complexity_threshold):\n",
    "            res = None\n",
    "        else:\n",
    "            res = DiceExpr(n_dices, dices_type)\n",
    "    except TypeError:\n",
    "        try:\n",
    "            flat = int(groups.group(3))\n",
    "            res = DiceExpr(flat)\n",
    "        except TypeError:\n",
    "            res = None\n",
    "    finally:\n",
    "        return res\n",
    "    \n",
    "assert(parse_dice_expr(\"4D3\").avg == 8)\n",
    "assert(parse_dice_expr(\"5\").avg == 5)\n",
    "assert(parse_dice_expr(\"D7\") is None)\n",
    "assert(parse_dice_expr(\"0D6\") is None)\n",
    "assert(parse_dice_expr(\"0\").avg == 0)\n",
    "assert(parse_dice_expr(\"7D6\") is None)\n",
    "assert(parse_dice_expr(\"D3\").avg == 2)\n",
    "assert(parse_dice_expr(\"3D3\").avg == 6)\n",
    "assert(parse_dice_expr(\"D6\").avg == 3.5)\n",
    "\n",
    "def parse_roll(roll):\n",
    "    res = re.fullmatch(r\"([23456])\\+\", roll)\n",
    "    if res is None:\n",
    "        return None\n",
    "    else:\n",
    "        return int(res.group(1))\n",
    "\n",
    "assert(parse_roll(\"1+\") is None)\n",
    "assert(parse_roll(\"1+\") is None)\n",
    "assert(parse_roll(\"2+\") == 2)\n",
    "assert(parse_roll(\"3+\") == 3)\n",
    "assert(parse_roll(\"6+\") == 6)\n",
    "assert(parse_roll(\"7+\") is None)\n",
    "assert(parse_roll(\"3\") is None)\n",
    "\n",
    "def float_eq(a, b):\n",
    "    return np.isclose(a, b, rtol=1e-05, atol=1e-08, equal_nan=False)\n",
    "\n",
    "def prob_by_roll_result(dice_expr):\n",
    "    if dice_expr.dices_type is None:\n",
    "        return {dice_expr.n: 1}\n",
    "    else:\n",
    "        roll_results_counts = {}\n",
    "        def f(n, current_sum):\n",
    "            if n == 0:\n",
    "                roll_results_counts[current_sum] = roll_results_counts.get(current_sum, 0) + 1\n",
    "            else:\n",
    "                for i in range(1, dice_expr.dices_type + 1):\n",
    "                    f(n - 1, current_sum + i)\n",
    "        f(dice_expr.n, 0)\n",
    "        n_cases = sum(roll_results_counts.values())\n",
    "        for key in roll_results_counts.keys():\n",
    "            roll_results_counts[key] /= n_cases\n",
    "        return roll_results_counts\n",
    "    \n",
    "assert(prob_by_roll_result(parse_dice_expr(\"D3\")) == {1: 1/3, 2: 1/3, 3: 1/3})\n",
    "assert(prob_by_roll_result(parse_dice_expr(\"7\")) == {7: 1})\n",
    "assert(float_eq(1, sum(prob_by_roll_result(parse_dice_expr(\"2D6\")).values())))\n",
    "assert(prob_by_roll_result(parse_dice_expr(\"2D6\")) == {2: 1/36, 3: 2/36, 4: 3/36, 5: 4/36, 6: 5/36, 7: 6/36, 8: 5/36, 9: 4/36, 10: 3/36, 11: 2/36, 12: 1/36})"
   ]
  },
  {
   "cell_type": "code",
   "execution_count": null,
   "metadata": {},
   "outputs": [],
   "source": []
  },
  {
   "cell_type": "code",
   "execution_count": 13,
   "metadata": {},
   "outputs": [
    {
     "data": {
      "text/plain": [
       "<__main__.Target at 0x7fa1bc2783c8>"
      ]
     },
     "execution_count": 13,
     "metadata": {},
     "output_type": "execute_result"
    }
   ],
   "source": [
    "# Core Classes\n",
    "class Bonuses:\n",
    "    def __init__(self, to_hit, to_wound, props = None):\n",
    "        assert(to_hit in {-1, 0, 1})\n",
    "        assert(to_wound in {-1, 0, 1})\n",
    "\n",
    "        self.to_hit = to_hit\n",
    "        self.to_wound = to_wound\n",
    "        self.props = props if props is not None else {}\n",
    "        \n",
    "    @classmethod\n",
    "    def empty(cls):\n",
    "        return Bonuses(0, 0)\n",
    "    \n",
    "Bonuses.empty().to_hit = 0\n",
    "        \n",
    "class Weapon:\n",
    "    def __init__(self, hit, a, s, ap, d, bonuses, points=1):\n",
    "        self.hit      = parse_dice_expr(hit)\n",
    "        assert(self.hit is not None)\n",
    "        self.a        = parse_dice_expr(a)\n",
    "        assert(self.a is not None)\n",
    "        self.s        = parse_dice_expr(s)\n",
    "        assert(self.s is not None)\n",
    "        self.ap       = parse_dice_expr(ap)\n",
    "        assert(self.ap is not None)\n",
    "        self.d        = parse_dice_expr(d)\n",
    "        assert(self.d is not None)\n",
    "\n",
    "        self.bonuses  = bonuses   \n",
    "        assert(type(points) is int and points > 0)\n",
    "        self.points   = points\n",
    "        \n",
    "        \n",
    "Weapon(hit=\"5\", a=\"2\", s = \"4D3\", ap = \"1\", d=\"D3\", bonuses=Bonuses.empty())\n",
    "\n",
    "        \n",
    "class Target:\n",
    "    def __init__(self, t, sv, invu=None, fnp=None, w=1):\n",
    "\n",
    "        \n",
    "        assert(invu is None or (type(invu) is int and invu > 0 and invu <= 6))\n",
    "        self.invu   = invu\n",
    "        \n",
    "        assert(fnp is None or (type(fnp) is int and fnp > 0 and fnp <= 6))\n",
    "        self.fnp   = fnp\n",
    "        \n",
    "        assert(type(t) is int and t > 0)\n",
    "        self.t    = t\n",
    "        \n",
    "        assert(type(sv) is int and sv > 0 and sv <= 6)\n",
    "        self.sv   = sv\n",
    "        \n",
    "        assert(type(w) is int and w > 0)\n",
    "        self.w   = w\n",
    "\n",
    "\n",
    "Target(8, 3, 5, 6)\n",
    "Target(8, 3)"
   ]
  },
  {
   "cell_type": "code",
   "execution_count": 14,
   "metadata": {},
   "outputs": [],
   "source": [
    "# Engine v1\n",
    "\n",
    "def compute_successes_ratio(modified_necessary_roll, auto_success_on_6=True):\n",
    "    necessary_roll = modified_necessary_roll\n",
    "    if modified_necessary_roll <= 1:\n",
    "        necessary_roll = 2  # roll of 1 always fails\n",
    "    if modified_necessary_roll >= 7:\n",
    "        if auto_success_on_6:\n",
    "            necessary_roll = 6  # roll of 6 always succeeds\n",
    "        else:\n",
    "            return 0\n",
    "    return (7 - necessary_roll)/6\n",
    "\n",
    "def compute_n_hits_ratio(weapon):\n",
    "    return compute_successes_ratio(weapon.hit.avg - weapon.bonuses.to_hit)\n",
    "\n",
    "\n",
    "assert(compute_n_hits_ratio(Weapon(hit=\"2\", a=\"12\", s = \"4\", ap = \"1\", d=\"2D3\", bonuses=Bonuses.empty())) == 5/6)\n",
    "assert(compute_n_hits_ratio(Weapon(hit=\"5\", a=\"12\", s = \"4\", ap = \"1\", d=\"2D3\", bonuses=Bonuses.empty())) == 1/3)\n",
    "assert(compute_n_hits_ratio(Weapon(hit=\"3\", a=\"1\", s = \"4\", ap = \"1\",  d=\"2D3\", bonuses=Bonuses.empty())) == 2/3)\n",
    "assert(compute_n_hits_ratio(Weapon(hit=\"3\", a=\"1\", s = \"4\", ap = \"1\",  d=\"2D3\", bonuses=Bonuses(-1, 0))) == 1/2)\n",
    "assert(compute_n_hits_ratio(Weapon(hit=\"2\", a=\"1\", s = \"4\", ap = \"1\",  d=\"2D3\", bonuses=Bonuses(+1, 0))) == 5/6)  # roll of 1 always fails\n",
    "assert(compute_n_hits_ratio(Weapon(hit=\"6\", a=\"1\", s = \"4\", ap = \"1\",  d=\"2D3\", bonuses=Bonuses(-1, 0))) == 1/6)  # roll of 6 always succeeds\n",
    "\n",
    "def compute_necessary_wound_roll(f, e):\n",
    "    if f >= 2*e:\n",
    "        return 2\n",
    "    elif f > e:\n",
    "        return 3\n",
    "    elif f == e:\n",
    "        return 4\n",
    "    elif f <= e/2:\n",
    "        return 6\n",
    "    else:\n",
    "        assert(f < e)\n",
    "        return 5\n",
    "\n",
    "def compute_n_wounds_ratios(weapon, target):\n",
    "    return [prob*compute_successes_ratio(compute_necessary_wound_roll(f, target.t) - weapon.bonuses.to_wound)\n",
    "     for f, prob in prob_by_roll_result(weapon.s).items()]\n",
    "\n",
    "def compute_n_wounds_ratio(weapon, target):\n",
    "    return sum(compute_n_wounds_ratios(weapon, target))\n",
    "\n",
    "assert(compute_n_wounds_ratio(\n",
    "    Weapon(hit=\"2\", a=\"1\", s = \"4\", ap = \"1\", d=\"2D3\", bonuses=Bonuses(+1, 0)),\n",
    "    Target(t=4, sv=3)\n",
    ") == 1/2)\n",
    "\n",
    "assert(compute_n_wounds_ratio(\n",
    "    Weapon(hit=\"2\", a=\"12\", s = \"4\", ap = \"1\", d=\"2D3\", bonuses=Bonuses(+1, 0)),\n",
    "    Target(t=8, sv=3)\n",
    ") == 1/6)\n",
    "\n",
    "assert(compute_n_wounds_ratio(\n",
    "    Weapon(hit=\"2\", a=\"1\", s = \"4\", ap = \"1\", d=\"2D3\", bonuses=Bonuses(+1, -1)),\n",
    "    Target(t=8, sv=3)\n",
    ") == 1/6)  # roll of 6 always succeeds\n",
    "\n",
    "assert(compute_n_wounds_ratio(\n",
    "    Weapon(hit=\"2\", a=\"1\", s = \"4\", ap = \"1\", d=\"2D3\", bonuses=Bonuses(+1, 0)),\n",
    "    Target(t=2, sv=3)\n",
    ") == 5/6)\n",
    "\n",
    "assert(compute_n_wounds_ratio(\n",
    "    Weapon(hit=\"2\", a=\"1\", s = \"4\", ap = \"1\", d=\"2D3\", bonuses=Bonuses(+1, +1)),\n",
    "    Target(t=2, sv=3)\n",
    ") == 5/6)  # roll of 1 always fails\n",
    "\n",
    "assert(compute_n_wounds_ratio(\n",
    "    Weapon(hit=\"2\", a=\"1\", s = \"2D3\", ap = \"1\", d=\"2D3\", bonuses=Bonuses(+1, 0)),\n",
    "    Target(t=12, sv=3)\n",
    ") == 1/6)\n",
    "\n",
    "assert(float_eq(compute_n_wounds_ratio(\n",
    "    Weapon(hit=\"2\", a=\"1\", s = \"2D3\", ap = \"1\", d=\"2D3\", bonuses=Bonuses(+1, 0)),\n",
    "    Target(t=1, sv=3)\n",
    "), 5/6))\n",
    "\n",
    "assert(compute_n_wounds_ratio(\n",
    "    Weapon(hit=\"2\", a=\"1\", s = \"2D3\", ap = \"1\", d=\"2D3\", bonuses=Bonuses(+1, 0)),\n",
    "    Target(t=4, sv=3)\n",
    ")< 1/2)\n",
    "\n",
    "\n",
    "\n",
    "def n_figs_slained(weapon, target):\n",
    "    hit_ratio = compute_n_hits_ratio(weapon)\n",
    "    wound_ratio = compute_n_wounds_ratio(weapon, target)\n",
    "    return weapon.a.avg * hit_ratio * wound_ratio\n",
    "\n",
    "def total_n_figs_slained(weapons_list, target):\n",
    "    print(\"tatata\")"
   ]
  },
  {
   "cell_type": "code",
   "execution_count": 15,
   "metadata": {},
   "outputs": [
    {
     "data": {
      "text/plain": [
       "1.0"
      ]
     },
     "execution_count": 15,
     "metadata": {},
     "output_type": "execute_result"
    }
   ],
   "source": [
    "n_figs_slained(\n",
    "    Weapon(hit=\"5\", a=\"12\", s = \"4\", ap = \"1\", d=\"2D3\", bonuses=Bonuses(+1, 0)),\n",
    "    Target(t=8, sv=3)\n",
    ")"
   ]
  },
  {
   "cell_type": "code",
   "execution_count": 16,
   "metadata": {},
   "outputs": [],
   "source": [
    "# Engine v2\n",
    "def dispatch_density_key(previous_density_key, next_density_prob):\n",
    "    assert(type(previous_density_key) is int)\n",
    "    assert(previous_density_key >= 0)\n",
    "    assert(0 < next_density_prob and next_density_prob <= 1)\n",
    "    n = previous_density_key\n",
    "    p= next_density_prob\n",
    "    return {k: scipy.special.comb(n, k)*p**k*(1-p)**(n-k) for k in range(0, n + 1)}\n",
    "\n",
    "assert(dispatch_density_key(3, 0.5) == {0: 0.125, 1: 0.375, 2: 0.375, 3: 0.125})\n",
    "# new version:\n",
    "# 3 A, c 4, f 4 endu 4\n",
    "# [0, 0, 0, 1] attacks density\n",
    "def get_attack_density(weapon):\n",
    "    assert(isinstance(weapon, Weapon))\n",
    "    return {a: prob for a, prob in prob_by_roll_result(weapon.a).items()}\n",
    "# [1/8, 3/8, 3/8 ,1/8] hit density\n",
    "def get_hits_density(weapon, attack_density):\n",
    "    assert(isinstance(weapon, Weapon))\n",
    "    assert(isinstance(attack_density, dict))\n",
    "    hits_density = {}\n",
    "    for a, prob_a in attack_density.items(): \n",
    "        # {1: 0.3333333333333333, 2: 0.3333333333333333, 3: 0.3333333333333333}\n",
    "        for hit_roll, prob_hit_roll in prob_by_roll_result(weapon.hit).items():\n",
    "            # {5: 1}\n",
    "            hits_ratio = compute_successes_ratio(hit_roll - weapon.bonuses.to_hit)\n",
    "            # 0.5\n",
    "            for hits, prob_hits in dispatch_density_key(a, hits_ratio).items():\n",
    "                hits_density[hits] = hits_density.get(hits, 0) + prob_hits*prob_hit_roll*prob_a\n",
    "    return hits_density\n",
    "\n",
    "# [......]  woud density\n",
    "def get_wounds_density(weapon, target, hits_density):\n",
    "    assert(isinstance(weapon, Weapon))\n",
    "    assert(isinstance(target, Target))\n",
    "    assert(isinstance(hits_density, dict))\n",
    "    wounds_density = {}\n",
    "    for hits, prob_hits in hits_density.items(): \n",
    "        for s_roll, prob_s_roll in prob_by_roll_result(weapon.s).items():\n",
    "            wounds_ratio = compute_successes_ratio(compute_necessary_wound_roll(s_roll, target.t) - weapon.bonuses.to_wound)\n",
    "            for wounds, prob_wounds in dispatch_density_key(hits, wounds_ratio).items():\n",
    "                wounds_density[wounds] = wounds_density.get(wounds, 0) + prob_wounds*prob_s_roll*prob_hits\n",
    "    return wounds_density\n",
    "\n",
    "# [......] unsaved wounds density\n",
    "def get_unsaved_wounds_density(weapon, target, wounds_density):\n",
    "    assert(isinstance(weapon, Weapon))\n",
    "    assert(isinstance(target, Target))\n",
    "    assert(isinstance(wounds_density, dict))\n",
    "    unsaved_wounds_density = {}\n",
    "    for wounds, prob_wounds in wounds_density.items(): \n",
    "        for ap_roll, prob_ap_roll in prob_by_roll_result(weapon.ap).items():\n",
    "            save_roll = target.sv + ap_roll\n",
    "            if target.invu is not None:\n",
    "                save_roll = min(save_roll, target.invu)\n",
    "            unsaved_wounds_ratio = 1 - compute_successes_ratio(save_roll, auto_success_on_6=False)\n",
    "            for unsaved_wounds, prob_unsaved_wounds in dispatch_density_key(wounds, unsaved_wounds_ratio).items():\n",
    "                unsaved_wounds_density[unsaved_wounds] = unsaved_wounds_density.get(unsaved_wounds, 0) + prob_unsaved_wounds*prob_ap_roll*prob_wounds\n",
    "    return unsaved_wounds_density\n",
    "\n",
    "# last step numeric averaging: damage roll + fnp\n",
    "def get_avg_figs_fraction_slained(weapon, target, unsaved_wounds_density, N):\n",
    "    \"\"\"\n",
    "    El famoso montecarlo approach\n",
    "    :param N: number of simulations for each unsaved wounds entry\n",
    "    \"\"\"\n",
    "    assert(isinstance(weapon, Weapon))\n",
    "    assert(isinstance(target, Target))\n",
    "    assert(isinstance(unsaved_wounds_density, dict))\n",
    "    figs_fraction_slained_total_weighted = 0\n",
    "    adapted_N = (N // target.w) + 1\n",
    "    for unsaved_wounds, prob_unsaved_wounds in unsaved_wounds_density.items():\n",
    "        figs_fraction_slained_total_sum = 0\n",
    "        for _ in range(adapted_N):\n",
    "            figs_fraction_slained_total = 0\n",
    "            for start_health in range(1, target.w + 1):\n",
    "                n_figs_slained = 0\n",
    "                remaining_health = start_health\n",
    "                for wound in range(unsaved_wounds):\n",
    "                    damages = weapon.d.roll()\n",
    "                    if target.fnp is not None:\n",
    "                        for damage in range(damages):\n",
    "                            if roll_D6() >= target.fnp:\n",
    "                                damages -= 1  # fnp success\n",
    "                    remaining_health -= damages\n",
    "                    if remaining_health <= 0:\n",
    "                        n_figs_slained += 1\n",
    "                        remaining_health = target.w\n",
    "                # e.g. remaining = 1,slained 2, w=3, start = 2: frac = 2 - (1 - 2/3) + (1 - 1/3) \n",
    "                first_slain_fraction = start_health/target.w\n",
    "                remaining_fraction = remaining_health/target.w\n",
    "                figs_fraction_slained_total += \\\n",
    "                    n_figs_slained - (1 - first_slain_fraction) + (1 - remaining_fraction)\n",
    "\n",
    "            figs_fraction_slained_total_sum += figs_fraction_slained_total\n",
    "\n",
    "        figs_fraction_slained_total_weighted += \\\n",
    "            prob_unsaved_wounds * figs_fraction_slained_total_sum/(adapted_N*target.w) # target_wounds is here because of start_health loop\n",
    "\n",
    "    return figs_fraction_slained_total_weighted\n",
    "\n",
    "def score_weapon_on_target(w, t, N):\n",
    "    \"\"\"\n",
    "    avg_figs_fraction_slained by point\n",
    "    \"\"\"\n",
    "    a_d = get_attack_density(w)\n",
    "    assert(float_eq(sum(a_d.values()), 1))\n",
    "    h_d = get_hits_density(w, a_d)\n",
    "    assert(float_eq(sum(h_d.values()), 1))\n",
    "    w_d = get_wounds_density(w, t, h_d)\n",
    "    assert(float_eq(sum(w_d.values()), 1))\n",
    "    uw_d = get_unsaved_wounds_density(w, t, w_d)\n",
    "    assert(float_eq(sum(uw_d.values()), 1))\n",
    "    return get_avg_figs_fraction_slained(w, t, uw_d, N)/w.points\n",
    "\n",
    "# Sv=1 : ignore PA -1\n",
    "wea = Weapon(hit=\"4\", a=\"4\", s = \"4\", ap = \"1\", d=\"3\", bonuses=Bonuses(0, 0), points=120)\n",
    "wea2 = Weapon(hit=\"4\", a=\"4\", s = \"4\", ap = \"0\", d=\"3\", bonuses=Bonuses(0, 0), points=120)\n",
    "tar = Target(t=4, sv=1, invu=5, fnp=6, w=16)\n",
    "assert(abs(score_weapon_on_target(wea, tar, 1000) / score_weapon_on_target(wea2, tar, 100) - 1) <= 0.25)\n",
    "\n",
    "def scores_to_comparison_score(score_a, score_b):\n",
    "    if score_a > score_b:\n",
    "        return + (1 - score_b / score_a)\n",
    "    else:\n",
    "        return - (1 - score_a / score_b)\n",
    "\n",
    "assert(scores_to_comparison_score(10000, 1) == 0.9999) \n",
    "assert(scores_to_comparison_score(1, 10000) == -0.9999) \n",
    "assert(scores_to_comparison_score(1, 1) == 0) \n",
    "\n",
    "def y_dims_to_str(l):\n",
    "    return f\"\"\"{l[0]}/{l[1]}/{\"-\" if l[2] is None else f\"{l[2]}+\"}\"\"\"\n",
    "\n",
    "def x_dims_to_str(l):\n",
    "    return  f\"\"\"{\"-\" if l[0] is None else f\"{l[0]}+\"}/{\"-\" if l[1] is None else f\"{l[1]}+\"}\"\"\"\n",
    "def compute_matrix(weapon_a, weapon_b, N):    \n",
    "    ws_ts_fnps = []\n",
    "    for w, ts in zip(\n",
    "        [1,2,3,4,6,8,10,12,16], \n",
    "        [\n",
    "            [2,3,4],\n",
    "            [2,3,4,5],\n",
    "            [2,3,4,5,6],\n",
    "            [2,3,4,5,6],\n",
    "            [3,4,5,6,8],\n",
    "            [4,5,6,8],\n",
    "            [5,6,8],\n",
    "            [6,8],\n",
    "            [6,8]\n",
    "        ]\n",
    "    ) :\n",
    "        fnps = [7] if w > 6 else [7, 6, 5]\n",
    "        for fnp in fnps:\n",
    "            for t in ts:\n",
    "                ws_ts_fnps.append((t, w, fnp))\n",
    "                \n",
    "    ws_ts_fnps.sort(key=lambda e: e[2] * 10000 - e[0]*100 - e[1])\n",
    "    ws_ts_fnps = list(map(lambda l: list(map(map_7_to_None, l)), ws_ts_fnps))\n",
    "    \n",
    "    print(list(map(y_dims_to_str, ws_ts_fnps)), )\n",
    "    \n",
    "    svs = []\n",
    "    for invu in [2, 3, 4, 5, 6, 7]:\n",
    "        for sv in range(1, min(invu + 1, 6 + 1)):\n",
    "            svs.append((sv, invu))\n",
    "    svs.sort(key=lambda e: -e[0]*10 + -e[1])\n",
    "    svs = list(map(lambda l: list(map(map_7_to_None, l)), svs))\n",
    "    \n",
    "    print(list(map(x_dims_to_str, svs)))\n",
    "    \n",
    "    \n",
    "    return  \\\n",
    "        [\n",
    "            [\n",
    "                scores_to_comparison_score(\n",
    "                    score_weapon_on_target(\n",
    "                        weapon_a, \n",
    "                        Target(t, sv, invu=invu, fnp=fnp, w=w),\n",
    "                        N), \n",
    "                    score_weapon_on_target(\n",
    "                    weapon_b, \n",
    "                    Target(t, sv, invu=invu, fnp=fnp, w=w),\n",
    "                    N)\n",
    "                )\n",
    "                for sv, invu in svs\n",
    "            ]\n",
    "            for w, t, fnp in ws_ts_fnps\n",
    "        ]"
   ]
  },
  {
   "cell_type": "code",
   "execution_count": 17,
   "metadata": {},
   "outputs": [],
   "source": [
    "# SAG vs Battlewagon under KFF and fnp 6+\n",
    "sag = Weapon(hit=\"5\", a=\"2D6\", s = \"2D6\", ap = \"5\", d=\"D6\", bonuses=Bonuses(0, 0), points=120)\n",
    "bat = Target(t=8, sv=4, invu=5, fnp=6, w=16)\n",
    "\n",
    "# SAG vs Battlewagon under KFF and fnp 6+\n",
    "bolt = Weapon(hit=\"3\", a=\"2\", s = \"4\", ap = \"1\", d=\"1\", bonuses=Bonuses(0, 0), points=20)"
   ]
  },
  {
   "cell_type": "code",
   "execution_count": 336,
   "metadata": {},
   "outputs": [
    {
     "name": "stdout",
     "output_type": "stream",
     "text": [
      "['8/6/5+', '6/6/5+', '6/4/5+', '6/3/5+', '5/6/5+', '5/4/5+', '5/3/5+', '5/2/5+', '4/6/5+', '4/4/5+', '4/3/5+', '4/2/5+', '4/1/5+', '3/6/5+', '3/4/5+', '3/3/5+', '3/2/5+', '3/1/5+', '2/4/5+', '2/3/5+', '2/2/5+', '2/1/5+', '8/6/6+', '6/6/6+', '6/4/6+', '6/3/6+', '5/6/6+', '5/4/6+', '5/3/6+', '5/2/6+', '4/6/6+', '4/4/6+', '4/3/6+', '4/2/6+', '4/1/6+', '3/6/6+', '3/4/6+', '3/3/6+', '3/2/6+', '3/1/6+', '2/4/6+', '2/3/6+', '2/2/6+', '2/1/6+', '8/16/-', '8/12/-', '8/10/-', '8/8/-', '8/6/-', '6/16/-', '6/12/-', '6/10/-', '6/8/-', '6/6/-', '6/4/-', '6/3/-', '5/10/-', '5/8/-', '5/6/-', '5/4/-', '5/3/-', '5/2/-', '4/8/-', '4/6/-', '4/4/-', '4/3/-', '4/2/-', '4/1/-', '3/6/-', '3/4/-', '3/3/-', '3/2/-', '3/1/-', '2/4/-', '2/3/-', '2/2/-', '2/1/-']\n",
      "['6+/-', '6+/6+', '5+/-', '5+/6+', '5+/5+', '4+/-', '4+/6+', '4+/5+', '4+/4+', '3+/-', '3+/6+', '3+/5+', '3+/4+', '3+/3+', '2+/-', '2+/6+', '2+/5+', '2+/4+', '2+/3+', '2+/2+', '1+/-', '1+/6+', '1+/5+', '1+/4+', '1+/3+', '1+/2+']\n"
     ]
    }
   ],
   "source": [
    "compute_matrix(sag, bolt, 1000)"
   ]
  },
  {
   "cell_type": "code",
   "execution_count": 341,
   "metadata": {},
   "outputs": [
    {
     "name": "stdout",
     "output_type": "stream",
     "text": [
      "['8/6/5+', '6/6/5+', '6/4/5+', '6/3/5+', '5/6/5+', '5/4/5+', '5/3/5+', '5/2/5+', '4/6/5+', '4/4/5+', '4/3/5+', '4/2/5+', '4/1/5+', '3/6/5+', '3/4/5+', '3/3/5+', '3/2/5+', '3/1/5+', '2/4/5+', '2/3/5+', '2/2/5+', '2/1/5+', '8/6/6+', '6/6/6+', '6/4/6+', '6/3/6+', '5/6/6+', '5/4/6+', '5/3/6+', '5/2/6+', '4/6/6+', '4/4/6+', '4/3/6+', '4/2/6+', '4/1/6+', '3/6/6+', '3/4/6+', '3/3/6+', '3/2/6+', '3/1/6+', '2/4/6+', '2/3/6+', '2/2/6+', '2/1/6+', '8/16/-', '8/12/-', '8/10/-', '8/8/-', '8/6/-', '6/16/-', '6/12/-', '6/10/-', '6/8/-', '6/6/-', '6/4/-', '6/3/-', '5/10/-', '5/8/-', '5/6/-', '5/4/-', '5/3/-', '5/2/-', '4/8/-', '4/6/-', '4/4/-', '4/3/-', '4/2/-', '4/1/-', '3/6/-', '3/4/-', '3/3/-', '3/2/-', '3/1/-', '2/4/-', '2/3/-', '2/2/-', '2/1/-']\n",
      "['6+/-', '6+/6+', '5+/-', '5+/6+', '5+/5+', '4+/-', '4+/6+', '4+/5+', '4+/4+', '3+/-', '3+/6+', '3+/5+', '3+/4+', '3+/3+', '2+/-', '2+/6+', '2+/5+', '2+/4+', '2+/3+', '2+/2+', '1+/-', '1+/6+', '1+/5+', '1+/4+', '1+/3+', '1+/2+']\n",
      "[[0.2900064411566179, 0.3211634453674935, 0.42322194269666447, 0.3031240455065376, 0.27298308711313424, 0.5238397308028245, 0.431156423527173, 0.29673630008000595, 0.28197794583096847, 0.6633164474047712, 0.5778577149387802, 0.47713774442939505, 0.3091270034246266, 0.3157299800293678, 0.7616221886604362, 0.7041798724486326, 0.6577105444929329, 0.5319511897023068, 0.28556538662454545, 0.28003829739090846, 0.8580074673695398, 0.8585908580787444, 0.8242419574366199, 0.7642305026153327, 0.6529048777941165, 0.284061779375005], [0.2872914934340043, 0.27333122299291956, 0.37616760231645496, 0.28316342682040363, 0.2572262914015464, 0.5020867481808583, 0.4064754146142947, 0.2743815677115208, 0.25763345436056506, 0.6281668003646115, 0.5603838562420611, 0.4620890330522647, 0.2735613567264562, 0.23843359519413965, 0.7481149432611567, 0.7127944337567349, 0.6220468854041288, 0.5082112031215229, 0.26312491617012346, 0.2534090079392285, 0.8515059047057207, 0.8565517680726674, 0.8218076932501599, 0.7525460492601652, 0.6413873337502258, 0.25392849487813207], [0.12566051817412893, 0.13615663129893685, 0.2905771066086462, 0.15198805069187793, 0.15100224650368654, 0.41494698350722536, 0.2917192140577263, 0.12237043172143791, 0.1431409334611955, 0.5686162843485714, 0.46413331524173795, 0.3494135263922895, 0.1496353433152201, 0.1589743121756566, 0.7168321563893849, 0.6481584439277552, 0.5744192680851459, 0.4066576172066896, 0.1949451238556078, 0.17817833743500067, 0.8222437551897541, 0.835610177136314, 0.7734673734451607, 0.7138248066415728, 0.5551031880244524, 0.14327474358904635], [-0.03139409513005387, -0.015162770148361315, 0.14817902178898756, -0.028485555179346478, -0.03153142288010291, 0.3324249103034007, 0.1803327760724287, -0.033354232277392426, -0.028033073602820147, 0.49447673366972034, 0.371588906109692, 0.23599581636753375, -0.03024922781963435, -0.044537328018053546, 0.65406316888206, 0.5830547988196289, 0.4895261729332996, 0.31068749378935645, -0.0020953295711374498, -0.01043010913723863, 0.7919086798263457, 0.7905616305685454, 0.7448569841468553, 0.6549801528362926, 0.4726358916525024, 0.028713296357837037], [0.26088907920982196, 0.2627260531861424, 0.360355400989225, 0.21071647908250124, 0.22916958844887314, 0.5026457745024391, 0.37611727266074524, 0.22185365852604444, 0.21961749408704723, 0.6274500108277636, 0.5517087376783306, 0.44002327037568567, 0.21341952391625163, 0.21957713650826127, 0.7479638733746774, 0.7006187384742986, 0.6162112488697563, 0.5182856552735209, 0.23808050339635056, 0.22486461940652613, 0.8514500397011124, 0.8480399810482234, 0.8176862811901258, 0.7417201881337547, 0.62803354732306, 0.2494731249294363], [0.08280189718250586, 0.10941350866417499, 0.2421151987163116, 0.13085136276621956, 0.08280336215328588, 0.40427902607459554, 0.28593104502516975, 0.13112655313838228, 0.114551464792498, 0.5622719049473296, 0.4652924447442759, 0.33276476081634576, 0.11559351641503879, 0.1287180443396344, 0.7037096138065655, 0.6535641858344414, 0.5628533427320277, 0.39547677283233795, 0.09254570891719927, 0.08504650346481857, 0.8218013861375382, 0.8164055813530848, 0.774171357160301, 0.7044974958259924, 0.5513829130957831, 0.07916944606751675], [-0.0655159237180275, -0.04555722041396382, 0.09483321843234493, -0.07109645853457336, -0.053554993441430665, 0.29288459568896996, 0.1392672451485928, -0.06874626424107222, -0.05148728601499608, 0.46567148893694965, 0.3524919467252059, 0.20676264751410445, -0.10074613955157019, -0.09543287918068455, 0.6515898461633987, 0.5879917882212407, 0.4594201899010949, 0.3026140571463526, -0.037092238987271764, -0.11168631665729534, 0.7887966679274513, 0.7861358748065925, 0.7337148035312422, 0.6523092066182159, 0.47425568747586555, -0.08131232468404226], [-0.1976909907937272, -0.21814566563853177, -0.067913775102869, -0.18789661959265913, -0.20520003939357956, 0.17036604279139378, 0.009923497395069258, -0.20898584588015046, -0.21526946629439847, 0.38392196362214637, 0.22657646467658443, 0.054001422464441284, -0.206305140566578, -0.23084539607193677, 0.5827661362786432, 0.49458899698091263, 0.3575928077820776, 0.1339616693967417, -0.24187857021239212, -0.21331261922948497, 0.7552525232649945, 0.7442447993519277, 0.6864743909174309, 0.5882915241472478, 0.37365394766252613, -0.2650466212124566], [0.20090076876959206, 0.20249265079080625, 0.3227390057352567, 0.20628753176600667, 0.21176220477255125, 0.47432709611821167, 0.34510191865275597, 0.19891388312743685, 0.18013155658257707, 0.6050496736486871, 0.5228147079243675, 0.4089152902455224, 0.14915482535295355, 0.16815515475733545, 0.7202526341887623, 0.6890374268223767, 0.6005381297877836, 0.4801846546990176, 0.16650091329154681, 0.1652797793325662, 0.8420417305761669, 0.8389179499480698, 0.8004914213077042, 0.7251486936462979, 0.5945241235262583, 0.1775378777807246], [0.06836909698335203, 0.055476884490657574, 0.21922755745242184, 0.039669979497163665, 0.03100678970480486, 0.3611855296024531, 0.2812032103798998, 0.0704675996372095, 0.043969723977484776, 0.5220220063871448, 0.4289721570647429, 0.2968467771175973, 0.05601150993396309, 0.05615185926437216, 0.6957936017592483, 0.6246748473140785, 0.5273749955089655, 0.36319177324881713, 0.04418321520474733, 0.031654514770056874, 0.8079199268562215, 0.8195937504825073, 0.7639612225273494, 0.6822067410657993, 0.5386520079558741, 0.04790745015942666], [-0.1135632882604829, -0.12047923299110352, 0.06841250817150468, -0.09676205440771402, -0.10502341500971923, 0.2357841268478561, 0.1301741194417021, -0.09924511397649882, -0.12835719728192863, 0.4493894162291152, 0.3495895491245722, 0.1591478773139985, -0.10930952826992191, -0.12470262506941632, 0.6202749778337536, 0.5323338577362684, 0.4519165665338243, 0.21209964013427007, -0.11296148870478306, -0.1541265096627752, 0.7697257723242148, 0.7706419114475606, 0.7116773912697574, 0.6176246621165917, 0.43249879677125525, -0.13328955998646574], [-0.23313877536927186, -0.22813294150342545, -0.0842085810835107, -0.2223238113439654, -0.25344904687031, 0.12624806120229737, -0.023241329530319654, -0.24737342062217726, -0.2593242397139669, 0.35412923963991116, 0.22078421404713444, 0.0008844055228685033, -0.23500889262177338, -0.25419772053619993, 0.5667388387650834, 0.4800869429297042, 0.3417370246029402, 0.08810097170543274, -0.26490108764053355, -0.2432408287596507, 0.7332341302311962, 0.7391091663319431, 0.6677703526428121, 0.5671895629236274, 0.32237598268047885, -0.2843870785836622], [-0.24034300495909755, -0.23578351561014999, -0.05913390542595465, -0.23765949950533227, -0.20969003191069358, 0.14746683626377932, -0.050334997963294104, -0.21326401777489634, -0.24321947765947105, 0.364227684318721, 0.21444516970275007, 0.006897454372164824, -0.2608424615335265, -0.23783718237950235, 0.5690462927464859, 0.49044189369524205, 0.3532446307625774, 0.1552653640914189, -0.2467686598042641, -0.2788792983517677, 0.7344880404795325, 0.747016078022028, 0.6745825685317179, 0.5629134238461755, 0.3344483391104094, -0.27251487695787524], [0.11214195702789065, 0.07701950611443253, 0.2687862137469156, 0.11941327309679817, 0.11965377217758533, 0.41228969493997103, 0.2846283632801766, 0.13547290333361361, 0.09186311112596734, 0.5638365856185801, 0.4677484532281536, 0.34147351897795086, 0.08289632500173916, 0.09306743521916161, 0.718221594212419, 0.6490524072541537, 0.57497102013043, 0.38834565350726813, 0.07466332685526711, 0.0722563908934497, 0.8254058029136897, 0.8233797348588016, 0.7778835786691246, 0.6985027497380278, 0.5385614351667709, 0.08196937379480485], [-0.017511881604855284, -0.043564418813301864, 0.14824420523438475, -0.032232659067103486, -0.056131690297584025, 0.3321735892363943, 0.1676903458222052, 0.012033414997031922, -0.0543637568535732, 0.4860168887783056, 0.40083003830081376, 0.2115310122147176, -0.03231964257317077, -0.03722129147477138, 0.6678128331325068, 0.5769160399733022, 0.4865128850127727, 0.3054752876025024, -0.06893233481059835, -0.09141424218811722, 0.7893627852804419, 0.7975557881404067, 0.743835033734682, 0.6629481035002149, 0.48105071953136713, -0.05408004564145752], [-0.17225836906999104, -0.18976404502099997, -0.020101817107528452, -0.19446518794338352, -0.19794511668272308, 0.19700945996305308, -0.0016469415269416698, -0.1650458110515941, -0.17033663658457932, 0.38950697979394033, 0.24945792258942479, 0.0649186236949203, -0.21327467879953776, -0.22320000926855177, 0.5976487328334182, 0.5058452496928081, 0.37653110760334385, 0.15849614813519985, -0.23235476602326943, -0.19289407977427453, 0.7488415237619068, 0.758317974643272, 0.6858410891752585, 0.5868387088199774, 0.36118740393443904, -0.20928584823810437], [-0.30690387878980085, -0.29722155429996755, -0.16868717824299873, -0.299002636135545, -0.32546414355051134, 0.04335773223475259, -0.12432754795888479, -0.2964778304712108, -0.3062367651917606, 0.2592492908961622, 0.1523175638035208, -0.09564250144954811, -0.3214842485488709, -0.30312668938529974, 0.5254358815157256, 0.43248061094145707, 0.28395645049875207, 0.028585953036677214, -0.344000959192843, -0.34945135150119, 0.7092660811857314, 0.7074490369957249, 0.6557242797238998, 0.5221625512994648, 0.2680653795057302, -0.36170751688943825], [-0.2863556396789969, -0.28174594839113665, -0.14084510034903308, -0.2997147082220818, -0.29183741902024496, 0.08153948826696711, -0.11691587337307174, -0.2841209155606975, -0.3107389585073308, 0.2943801668066539, 0.14120559450015036, -0.08241407071028573, -0.3125745975135058, -0.3108809657765248, 0.5378088522274291, 0.4312816695682785, 0.26840914461058996, 0.07374306474525183, -0.32469435296817484, -0.33469053989506115, 0.7068706720481108, 0.7118197033945348, 0.6495112906063729, 0.5182296959665114, 0.28193367430830085, -0.31470372949723957], [-0.16564630960781757, -0.19584290695471696, -0.024333062846487175, -0.17972502192234663, -0.19234271834090322, 0.18872827725669872, 0.04939646930452213, -0.20795056783662857, -0.25640869625241414, 0.36594907834137547, 0.28081453450111293, 0.06123451451626627, -0.20164555058318312, -0.19303019974529168, 0.6053281790691325, 0.5010545671744218, 0.389524151782787, 0.1630212440102824, -0.21229901200322987, -0.22738301027009844, 0.7497644506563094, 0.7551357778849511, 0.6881385348560694, 0.5743168985492229, 0.38416423942322064, -0.23834464324853388], [-0.30841630505462225, -0.31794144717155515, -0.18891576136295918, -0.31141144688387346, -0.32117417394157277, 0.03878323425892505, -0.1306544892286866, -0.3222054091894917, -0.3525684854547797, 0.27733942063862005, 0.15487903133831638, -0.11988315491587764, -0.3186554956881341, -0.3426393383052807, 0.5109529418531031, 0.39602552654736034, 0.2594142246198641, -0.0021076960821154733, -0.3233701629346193, -0.3556762573485388, 0.7048091887538122, 0.6991180458810349, 0.6240961880235039, 0.5115444701542501, 0.21128473406246617, -0.35643736806922777], [-0.42103192965168845, -0.40733468867225875, -0.2962097789990018, -0.4260699821894962, -0.4304285954403748, -0.14068753042533566, -0.29476697313534905, -0.41654863987483315, -0.3986379320222696, 0.1584427441667321, -0.03554400826116444, -0.220146930069691, -0.4272761676924748, -0.43530716539235126, 0.42569357456886947, 0.3112719263237471, 0.16203459627464878, -0.14892556669888268, -0.45733723433645446, -0.44674332979292974, 0.6424184058308238, 0.6526479932727736, 0.5511499375979397, 0.39264624528912107, 0.10290661677593238, -0.46330850532831813], [-0.4055552371130655, -0.4053476990416973, -0.2965390120283182, -0.40182390721845695, -0.42478694377840476, -0.09903024982463371, -0.23876412187800355, -0.43421164403900125, -0.42989967692948605, 0.15283717891140758, -0.042144112097736386, -0.20505116906685106, -0.4331599026715146, -0.43939491174265677, 0.44350892501165873, 0.3219572520485574, 0.14030538628038913, -0.13587707015711437, -0.4277098696347893, -0.44914602180675667, 0.6612166208040672, 0.6660718903214857, 0.5748970358555109, 0.43605202083935524, 0.11334475740478855, -0.4400680302072961], [0.2737864424094879, 0.2739389611922469, 0.3999900498794774, 0.2752076895733446, 0.2889810182176813, 0.5157875739515483, 0.4176353304742785, 0.25500403757986256, 0.28144477201258256, 0.6376023763786862, 0.5688679979121193, 0.45170971415249705, 0.28586367241978006, 0.2776531803292265, 0.7606699716406113, 0.7091692676647763, 0.634071567255077, 0.5091591279431337, 0.2791388730317016, 0.2839255205529633, 0.857794474195392, 0.8559067033393867, 0.8176777088644757, 0.7521336323535672, 0.6326653166812051, 0.25794416798829545], [0.254456476302084, 0.23205960374973356, 0.37104389970784346, 0.22340252778793224, 0.21828760822246673, 0.4798746370208452, 0.39005044138929656, 0.224364111189033, 0.2394191775953588, 0.6150056407364333, 0.5326556383089172, 0.418412670104114, 0.2456440709136204, 0.2335015087532002, 0.7462991624741231, 0.6871212550383266, 0.6130086815738301, 0.4858571173396393, 0.22128384248428157, 0.2258654361039174, 0.8462789593577938, 0.8451151629684056, 0.8099233653309508, 0.7525437666441088, 0.6112003358700695, 0.25393407838055326], [0.09645598140951217, 0.10603188182842138, 0.24008134992953378, 0.11406934259229884, 0.06754161033255024, 0.39878933908104486, 0.28229691778318744, 0.0886568505369324, 0.09252659612860847, 0.5588232636720496, 0.4604561101047445, 0.3072450170196689, 0.0946896949631294, 0.08642394303487677, 0.6996892971284588, 0.6351072668801031, 0.551637025398765, 0.39809726152507885, 0.07331215997387774, 0.09599142064523758, 0.8176581397888386, 0.8190519106149854, 0.7684796105457987, 0.6959991586103669, 0.538210814788054, 0.1001169901259209], [-0.06314026752354374, -0.06640332447627406, 0.09568605170516453, -0.0626269401320868, -0.059281522749516924, 0.28840510668200925, 0.1358698042689055, -0.06706503708495137, -0.08948866259729793, 0.4712901937103475, 0.3667383689872685, 0.19332788060888273, -0.07887304687445074, -0.06861849937706521, 0.6342184368302799, 0.5840717775963769, 0.45224448158591246, 0.2707520459707443, -0.09437588697403798, -0.08739268674381773, 0.7804390928847817, 0.7899082663581533, 0.727651260830866, 0.6507831285440002, 0.44565990447400283, -0.06495669356206846], [0.22219872878747915, 0.19181212642995416, 0.33776598608837827, 0.19129999992205993, 0.20159464251305403, 0.47640620452607985, 0.36577234790404944, 0.21104485120168603, 0.19128740106720266, 0.5987158432900039, 0.5132293516335432, 0.3953408575621703, 0.18710895592947885, 0.14286696392959852, 0.7348693178538007, 0.6914840230509327, 0.6022265323973992, 0.47830783076703953, 0.17901405679377025, 0.18035634273217382, 0.8402835095223655, 0.8434351797569541, 0.8000290373920367, 0.7324130799247963, 0.5824449871160733, 0.17600142631569704], [0.07795766302436424, 0.07051781973505444, 0.21577534484321492, 0.0740235992995818, 0.07068082566473455, 0.3748546372318222, 0.2497615770274284, 0.06919973699692106, 0.04739212625352951, 0.5326245145099502, 0.45786174566250726, 0.2879785026556959, 0.05850189498807379, 0.04532895093143163, 0.693712669658386, 0.6229127524916886, 0.5368739804900056, 0.3761137232444266, 0.04528751535096298, 0.04090598288576386, 0.8121965675307729, 0.8105950094918419, 0.7660123994063419, 0.6952546662058139, 0.5230886513892716, 0.04748251601551179], [-0.08817675856183638, -0.109936417112664, 0.059940640622250574, -0.09474081482495145, -0.12213320632091018, 0.26588715274072316, 0.08320244467806381, -0.10946154535916353, -0.13043967673308843, 0.4433082920866951, 0.3184719124631603, 0.15167876633858957, -0.11735305728087064, -0.11485937047926731, 0.6329481101006407, 0.5555696192126607, 0.4522301959662568, 0.2352956371640551, -0.13380479373906085, -0.13275464824359196, 0.7789986739754876, 0.7775779389557473, 0.7156436659685639, 0.614677106682336, 0.41096500060443486, -0.14181049840899573], [-0.24647335476894883, -0.2368773581748158, -0.08375131014996218, -0.24114277634211545, -0.24123864467243628, 0.14010395222797556, -0.055695067513159446, -0.24051239940896452, -0.2571220655333214, 0.3417234428672645, 0.2216249182906158, 0.008782952598997196, -0.25551387348643917, -0.26577749400326933, 0.5649265245560842, 0.47289663683644256, 0.33266323972921985, 0.10989096234195939, -0.25838692273922215, -0.25993938423908247, 0.7335529284831253, 0.734604876430961, 0.6685694364286604, 0.5553106457190874, 0.3079002139089345, -0.24470771474821362], [0.14361233296315445, 0.1207911744797241, 0.2825268831660004, 0.14668021918566287, 0.14556280943740996, 0.42923879808900456, 0.3034497686476876, 0.11788194036178556, 0.14029917517529733, 0.5749504640239325, 0.4940463523285745, 0.3467294158022699, 0.12724456454168054, 0.09746661670013368, 0.714019729193243, 0.655480930890106, 0.5694625990758562, 0.41189823510078993, 0.1264895801726842, 0.12241650412673688, 0.8307676448943039, 0.8254276051462546, 0.7794200421002397, 0.70266628303434, 0.5445748605913283, 0.11514197910484669], [-0.010683816592925499, 0.010260202941883678, 0.16516742271481855, -0.014109127583304626, 0.008033419852215173, 0.3379116345940154, 0.19105457443012774, -0.011538640606329476, -0.042400756154838626, 0.49859829400388245, 0.4058748654501976, 0.25291622371597977, -0.02044061266498376, -0.025227354505852784, 0.6737633440779849, 0.602382095111854, 0.4904557072619091, 0.32160324468306045, -0.023674106862028532, -0.05518762336633387, 0.8048650592903412, 0.7987211897840305, 0.745401439953203, 0.6604507977843979, 0.47734620592377575, -0.07159781703527379], [-0.17637123618975026, -0.1560876169248845, 0.011341351875055694, -0.15178313263278365, -0.1664466422620352, 0.2107015075915304, 0.052040427259848254, -0.15374009992432125, -0.18805617924078244, 0.40664125489906633, 0.28181185972140443, 0.09230405862959445, -0.18002376317246904, -0.19199921449307245, 0.6071786567052764, 0.5171303191490544, 0.40292401956296386, 0.17857230154081594, -0.20167886570756233, -0.2111193195594252, 0.7603881269388294, 0.765172361424081, 0.7006467468572546, 0.5853706767099678, 0.38178040642269717, -0.21178039413298655], [-0.26779434893574805, -0.27955000602879465, -0.13676202431401896, -0.28575006087116994, -0.2907226033095015, 0.05696832697261034, -0.11290113716465955, -0.2965560128096173, -0.29517584624600746, 0.3047981189741117, 0.1604230788144857, -0.05084714273314306, -0.30208602895490677, -0.3317427587014914, 0.5444417145561999, 0.4515148296173873, 0.28781616629235807, 0.05740307002628864, -0.3036651465616418, -0.3373026737285436, 0.7178035505113183, 0.7159639869706853, 0.635795420565713, 0.521095454281, 0.27619229363945896, -0.32944261701974353], [-0.27111295848647776, -0.26804848984200835, -0.11203873556919453, -0.28983157799293036, -0.27819921648209733, 0.11253692506353852, -0.0934151589231016, -0.2859126687111959, -0.3038927853153144, 0.3114591007017371, 0.18402736876734216, -0.05208172876285433, -0.2912029009948023, -0.29773247438784145, 0.5405194041022632, 0.4557013246678877, 0.2990090238770996, 0.07920705153564, -0.29284519844518186, -0.31124745947196863, 0.7230095298915251, 0.718436883318148, 0.6549156497929589, 0.5329693062282259, 0.2981169073591622, -0.3090523475277901], [0.037147564414091394, 0.024382197507645698, 0.191019485330146, 0.018419881327919274, 0.020191896840497603, 0.3630228014212131, 0.23085869893535726, 0.025459894914986236, 0.012749960597161047, 0.5219751359814433, 0.42623660722723544, 0.2707128612642935, -0.0020274352522986483, -0.00023744501788069972, 0.6835972728585344, 0.6072768651255056, 0.5076238148801717, 0.34172040667588255, -0.03687417197757603, -0.02543081136728842, 0.8026259700210631, 0.8041751194838423, 0.7526617414815854, 0.6780318369851441, 0.5000737025460509, -0.038728707044946575], [-0.11242562104889509, -0.11476211786406876, 0.05119186977927259, -0.12026578138962973, -0.13286134203921574, 0.2546941085758304, 0.08417135010714238, -0.12232681831779169, -0.11924741035758812, 0.44263370128192214, 0.3086310244343654, 0.12592729428884442, -0.12997165572823988, -0.15391376866612627, 0.6271974090884394, 0.5451459299304149, 0.4176878884474423, 0.22535728847542957, -0.15657078499642907, -0.18547712420277707, 0.7817987444364989, 0.7708296138145382, 0.7102840338048385, 0.6040040963987258, 0.4199715147870775, -0.16268521345610198], [-0.25246744979771785, -0.2529975479253399, -0.1006228026069309, -0.27372374783676345, -0.27356292609945254, 0.11563264136976548, -0.0736376237648585, -0.25562042972653554, -0.27490355233591246, 0.3430322226162298, 0.199065094007028, -0.0012577522456784784, -0.25704107626510575, -0.29303111145188854, 0.5644827531156267, 0.46886809146929453, 0.31379401222010106, 0.09498072934716073, -0.29147776447864115, -0.3134012113541137, 0.735613651003618, 0.7340852081147917, 0.6566314053361089, 0.529030714891584, 0.30389241216286045, -0.30632035339290786], [-0.36723246876162197, -0.3716227172194182, -0.2272067511369863, -0.3618501806396578, -0.375728559891209, -0.054947423195461975, -0.19893623784458458, -0.39392747892912017, -0.38389686741878515, 0.22425288299815926, 0.058160832727277234, -0.17851011448169474, -0.3925625398994793, -0.4056515934899646, 0.4768959332295304, 0.38378581744721507, 0.21184737365875306, -0.07746006638804914, -0.40161615668473594, -0.41729261799036055, 0.6863569408328921, 0.6823143948262633, 0.5927441242904992, 0.4562624445046807, 0.16706428137194884, -0.4039240864654451], [-0.35762534723079054, -0.36081014391279076, -0.20825389162796115, -0.34635440602422696, -0.3572720819616142, -0.013339436529078985, -0.21118081617514062, -0.36731546803267556, -0.3619587352763729, 0.2366353763975544, 0.0753241659275321, -0.1407976102194327, -0.3702552518263649, -0.38701361795154765, 0.4857329847068619, 0.4005698474134327, 0.24003293210755006, -0.0416849744167157, -0.3844381785685581, -0.40199166637182737, 0.6923670247648464, 0.6866604017727876, 0.6134861071504846, 0.4709807053027967, 0.1667401301197461, -0.3958069268387332], [-0.2688379230522252, -0.29749120886024216, -0.12871097325902203, -0.29328998166653875, -0.2908089726998263, 0.09681986411829735, -0.09287637866465615, -0.30490514552307857, -0.3229323803683498, 0.2950231380446644, 0.136432470436035, -0.053395251476232586, -0.3190168302648786, -0.3188296810175877, 0.5410818457559348, 0.4512068111053893, 0.29485701440347245, 0.04312873190130084, -0.32887828452107115, -0.32192006746899793, 0.7166076379666797, 0.723463094704714, 0.6430144195735459, 0.5156591750972492, 0.27902890169155636, -0.3234399371921778], [-0.40422536186468505, -0.4010233408632222, -0.27620152268342135, -0.40519221261864646, -0.3900421626562106, -0.09479139276257265, -0.25440216553065575, -0.4170252508978771, -0.4142346563220174, 0.18581997390835403, 0.009610879877352763, -0.2134369477302489, -0.4124055295700082, -0.4360136578446059, 0.4500740916756102, 0.322921716272487, 0.14920733487120963, -0.12067576296654126, -0.4346999862755909, -0.4561582901059641, 0.668603439523239, 0.6674214564505758, 0.5763430515697103, 0.4161493626036863, 0.13268866806148993, -0.4402702808143042], [-0.48505451719280324, -0.49351370861639865, -0.3940563905387485, -0.4958248727734146, -0.4972360329257872, -0.22516546962797745, -0.36729282330161306, -0.4969634731844219, -0.5014243995190091, 0.04490288152112243, -0.1482516259882959, -0.34211463684766985, -0.5073011486182886, -0.4926470018815794, 0.3458401532532229, 0.19903839662792577, -0.0009737690258568854, -0.2596450474048746, -0.5172108213440793, -0.5216102718356599, 0.6102324546231475, 0.6060404009149136, 0.5003235504750017, 0.32936675243591296, 0.0035917502324784856, -0.5291201032134498], [-0.4742625859099312, -0.46923587815915824, -0.3623988673355698, -0.47997721464949317, -0.4890952520356352, -0.2021732144549886, -0.34229338079792593, -0.4844932274641297, -0.48015352720557114, 0.05429067800786702, -0.13388254881212458, -0.29938812077564647, -0.49256072026020337, -0.50851409647242, 0.36746699104224345, 0.24748906649119062, 0.024917891371235013, -0.22111250270689675, -0.5084453342448172, -0.5099351516904098, 0.6278914897661546, 0.6206713327754234, 0.5085033197820353, 0.3268215638758545, 0.0059706575205334955, -0.5086727220396582], [0.031003253691550214, 0.0258467052854775, 0.18928683874782237, 0.04367072734843913, 0.02040564282595847, 0.3518163459178356, 0.22292407095360733, 0.02049587795815022, 0.031623574036615754, 0.5140876120989815, 0.4210374091760811, 0.27217315534203523, 0.02938720833610764, 0.03644083661487307, 0.67912172039779, 0.615434435776437, 0.5177123354155451, 0.35156239607937945, 0.04253058436359103, 0.03498512080516791, 0.8085237102871594, 0.809251501373941, 0.7548491129692272, 0.6712974110804599, 0.523299145929152, 0.052726064142815554], [0.23104564194014232, 0.22240322156355374, 0.37239683510999966, 0.23361437436310495, 0.2281480815569915, 0.4893730370631557, 0.38267308090049124, 0.23694574786940392, 0.2381612584570364, 0.6167523675189766, 0.5435716438358207, 0.42777274838758017, 0.2388693015250718, 0.2250296267114419, 0.7454776070098285, 0.6945189928008102, 0.6155050018006663, 0.4835264349917465, 0.2273789919856829, 0.23331164939298432, 0.8465373423402617, 0.8480772759762218, 0.8082573581255991, 0.7417798456727454, 0.6176149633268977, 0.2434274580804754], [0.37669544378666864, 0.3708985342824138, 0.48172738486798417, 0.37949015472227676, 0.3769721399253716, 0.5840919436713696, 0.5030192753685747, 0.37176478987422445, 0.37356798931991797, 0.691370123919128, 0.6215731647181155, 0.5273730708462847, 0.36734466956245293, 0.37153076292491083, 0.79435167190437, 0.7495387648922576, 0.6881509294609295, 0.5884743783692556, 0.37432493439415326, 0.3733906133355397, 0.8754128328237912, 0.8757935361917555, 0.8454431768113251, 0.7915334221972437, 0.6904116629021868, 0.36504612788717294], [0.5154886009796464, 0.5094468172376119, 0.5969875867768055, 0.5140295506624948, 0.5143047544552866, 0.6745670691442777, 0.6108107694816484, 0.5139082016310341, 0.5058624830267231, 0.7580127207704987, 0.7082631140901412, 0.6365241364700114, 0.5205817947888948, 0.5143894449736691, 0.8388258586107384, 0.8059549743070461, 0.7577725995843758, 0.6778085435503474, 0.5068363655979902, 0.5157177397274836, 0.9031411581300974, 0.9027005297912558, 0.8775775422957977, 0.8361290427512548, 0.754162415912768, 0.5107087662310779], [0.250106281692251, 0.24075248636107072, 0.3736423380082803, 0.24588365292201309, 0.24956138920080662, 0.4981100504859648, 0.39863181672132986, 0.24309698138785218, 0.24264179966136634, 0.627463753536831, 0.5445394977824464, 0.4351706840619006, 0.24412546092330323, 0.23802534962288968, 0.7514869924231076, 0.6965881078001224, 0.6285105598134122, 0.5022337892390145, 0.24710207776152793, 0.22714048836681489, 0.8480250601796671, 0.8486956919251079, 0.8130250722310157, 0.7477231809465952, 0.6181708375408175, 0.23988576501974368], [-0.0448690849298079, -0.04128629293968811, 0.13439669193953885, -0.05053030448059037, -0.05158575962035694, 0.30151843306945836, 0.16619091703873756, -0.029409357810419867, -0.06267429283194415, 0.49055157804833927, 0.37550481254944135, 0.20986956822250136, -0.037272451279443564, -0.05237212875524466, 0.6493557692168865, 0.5872860657588691, 0.47893887720298345, 0.29993351445783145, -0.04634270231481474, -0.052955778933597375, 0.7936988782946239, 0.7919982645262132, 0.7331852438593365, 0.6515951600943332, 0.4764156822463028, -0.05577818685218683], [0.18336891292448987, 0.17694343324693262, 0.3269658715952578, 0.19293402665881776, 0.18943131981609496, 0.46184679237846493, 0.34464200720046545, 0.1781104479875617, 0.17024391668396244, 0.5934375941248329, 0.5129682903660955, 0.38044521220727434, 0.16938529314454787, 0.17389092812813256, 0.7281775108021189, 0.6715094250820239, 0.5958941920425057, 0.45069553282817243, 0.16125878257643145, 0.18656657093331275, 0.8361555191721763, 0.8375129627942222, 0.7942927461729169, 0.7208466413925538, 0.5770214295773967, 0.1771939772087997], [0.33854842577489097, 0.3364355564787088, 0.44832488157633654, 0.3379117951870475, 0.3354061107367001, 0.5549583115616812, 0.4659244294506466, 0.32953905187549337, 0.31747539491385235, 0.6742036159542554, 0.5944949797463257, 0.5015406710359411, 0.32296102979729546, 0.31393801280181666, 0.7780036651559573, 0.733663951084417, 0.6604773268792876, 0.5524916119082068, 0.3162692417807844, 0.32595863556665416, 0.8655852244576652, 0.8677902281185459, 0.8324100103860673, 0.7769404860209345, 0.6551720260836366, 0.31474874921546037], [0.4853844431645231, 0.4912225575883903, 0.5723811159312473, 0.4872850483194733, 0.4804200884438736, 0.6594174346200627, 0.5892940033657983, 0.4806359662768458, 0.48129536963941133, 0.7437970717230737, 0.6877463908310859, 0.6073351790022063, 0.4758425231127261, 0.47180902549379433, 0.829896038929586, 0.7916627052395286, 0.7431165704925162, 0.6543969524891187, 0.4780634616887023, 0.4695479249929415, 0.8975364587373327, 0.8971816645230788, 0.8708793588371988, 0.8266993864041048, 0.7326568677465304, 0.4769991923494684], [0.20301503942977306, 0.21302916887606282, 0.3315054098193849, 0.21090305739589277, 0.19359479472297225, 0.47203905171914484, 0.36677975215001446, 0.19318493208760934, 0.18845750772034586, 0.6018459757894021, 0.5198861857528999, 0.3894430576681721, 0.19423496630122394, 0.18996577133034376, 0.7350598169673966, 0.6824527506588899, 0.5969078842769705, 0.46152580254126585, 0.19587477648323126, 0.16012745721323896, 0.8402567052135925, 0.8408612016840953, 0.7992342488616355, 0.732397347749839, 0.5951124871514251, 0.1884155498116491], [0.0786991783024582, 0.06791016840754494, 0.2243954621302815, 0.06341422059376012, 0.056423587121521734, 0.38379689318336485, 0.251889378621419, 0.06499296342415206, 0.05356249965584814, 0.5366392748848055, 0.4448999911767737, 0.2961061260664757, 0.06264970294341599, 0.045250373978513725, 0.6915546851090741, 0.6269358301295255, 0.5323560692914509, 0.3698160378398456, 0.06435473214349319, 0.021460018367696287, 0.8120247936463435, 0.8143597966675695, 0.766812001269292, 0.6809246565425815, 0.5289980514034542, 0.03737475643666821], [-0.10017770985454177, -0.10786476564780001, 0.0780310105825256, -0.10228726570282543, -0.10118565832257698, 0.2576010787143779, 0.10547469368236617, -0.10745983422008198, -0.11853582566526799, 0.44067598415903164, 0.32173288310262094, 0.15963998344323405, -0.1252643245745474, -0.12156133262664948, 0.6298873583165152, 0.5525327484210191, 0.4452588743241186, 0.2448945032944171, -0.13249201762231722, -0.13699155685053022, 0.7761939578659087, 0.7774167559597582, 0.7223635489031037, 0.617807445890156, 0.42925656209240015, -0.14098136922242488], [0.2888053741575157, 0.29703390514048633, 0.41479614589331637, 0.28452224861427056, 0.284155773437626, 0.5331071097723123, 0.432482882319949, 0.27515261921909284, 0.27932274334209506, 0.6496945562148426, 0.5769631293208446, 0.4667894084316817, 0.27272943439943675, 0.26907894186335246, 0.7659726395370237, 0.7184184004582854, 0.6420394784640696, 0.5249277601009497, 0.26462845180508865, 0.26620621972161995, 0.8598752789147877, 0.8586240511647903, 0.8225195815094382, 0.7635797888175537, 0.6356041275763182, 0.2606474403826933], [0.45703921720609164, 0.4512915741129777, 0.5489962387674571, 0.45880963426308485, 0.4542794041950483, 0.6386472480754182, 0.5604221622452528, 0.44927930409629124, 0.4517470926397844, 0.7274498051611885, 0.6717751618076069, 0.594265529209904, 0.44403757896475526, 0.43671955902629067, 0.8187799059162082, 0.7803139584084429, 0.7260308105337411, 0.6268824026766306, 0.4292313950883203, 0.42495964060831104, 0.8909081421193592, 0.890918734682331, 0.8617413915305467, 0.8165977255736759, 0.7153614376656827, 0.41533483437035656], [0.1599542929875949, 0.1560063732140181, 0.297440188469701, 0.16436983272592864, 0.15288525710927658, 0.43930109242903115, 0.3228500440370823, 0.1556720493500574, 0.14760879850493602, 0.5807250355467999, 0.5036710851457883, 0.36332863643104907, 0.1441514572024276, 0.12902354130046845, 0.7232124025012509, 0.6634591433365782, 0.5737034633032968, 0.4305377453166722, 0.12344328743024291, 0.1054842675922969, 0.8313199965675088, 0.8303518296314899, 0.7885309779627376, 0.7147915440576145, 0.5676171801250717, 0.10462760406226623], [0.022457420921870752, 0.02744398182229124, 0.1857223241180228, 0.021370595434965667, 0.004235969832314113, 0.34804362619356577, 0.21621171811819984, 0.011741760268671686, -0.004846921391782777, 0.5125873408811196, 0.40764559338105155, 0.25711697563115277, -0.005940446922764964, -0.018437062317639863, 0.6752536697378796, 0.6065589219423297, 0.5004123732905899, 0.320499943456364, -0.01618684806402626, -0.03654637416027329, 0.8020354996358385, 0.8040843272091549, 0.7544883009389219, 0.6648445902593498, 0.4922664806581454, -0.03073390753848615], [-0.13585677678706065, -0.144531635328627, 0.03615332723551479, -0.15251428197574624, -0.15263511531613538, 0.2251384041146115, 0.06060292925706379, -0.15302539510020186, -0.16974578822596786, 0.4154057071965396, 0.3007921780374465, 0.12360761718582358, -0.16745675245457237, -0.1833065125700445, 0.6144939083583958, 0.5325304742191715, 0.41487480935033805, 0.2051647527130387, -0.19490307662888928, -0.20014802027594314, 0.7648460512345823, 0.7652245498751324, 0.7031133072439866, 0.5978779291813925, 0.390590520043283, -0.18575124323849324], [-0.2733668408273646, -0.2763623655608529, -0.12108645401910112, -0.27765347088491577, -0.2807114904968935, 0.09221878828200292, -0.09741451090361974, -0.28047422927765975, -0.2958924010792998, 0.31260225418822174, 0.17355541925834006, -0.0486303582305182, -0.29530182286153694, -0.29757045319975894, 0.5433305388032039, 0.4495915018099508, 0.3011602888459841, 0.062056780285977386, -0.3100655921129146, -0.3135461300122414, 0.7231338002226212, 0.7236835609518517, 0.651337087469144, 0.527496095160682, 0.2853056711613078, -0.31319607283231077], [0.4084341408844616, 0.3968675142670507, 0.5053061251763324, 0.3987473451391875, 0.38562174885869704, 0.607635089426003, 0.5233316070887575, 0.3910924741049533, 0.3828399852078842, 0.7012917530258413, 0.6395873182475623, 0.547558902644646, 0.3788153442260488, 0.3727540803667386, 0.8000952276180531, 0.7598030635665384, 0.6977926634200347, 0.5900668675648835, 0.37182151190086044, 0.3677732517426747, 0.8813226812274991, 0.8794145441557955, 0.8472717229924719, 0.7968833130418476, 0.6853292764858181, 0.3594663730553225], [0.08627029710409351, 0.0732584278595062, 0.23711287369709066, 0.08076340477319521, 0.06151963265777449, 0.39218661564147583, 0.2593660006960662, 0.06117170481278, 0.0584534299725753, 0.5455051124769703, 0.4478173110152879, 0.30196440381934464, 0.05067281914050681, 0.028687738554692865, 0.6958884576877011, 0.6308846921562108, 0.5338965582219287, 0.3715040972404985, 0.03858414772236052, 0.01312845656585282, 0.815324445362878, 0.8142561146030334, 0.7651770703056844, 0.6788462581179763, 0.5179648772563861, 0.01593449273544778], [-0.060888439640289116, -0.057799704442446864, 0.1153052089748734, -0.06999610023621938, -0.07959462865835654, 0.29035054726847354, 0.13673792755640168, -0.08009103940881757, -0.09956343947665358, 0.4705762976096698, 0.3498121607664305, 0.18152994292667957, -0.09518653983921022, -0.10491321384190544, 0.6445658975487745, 0.5718713400643023, 0.45748544516114353, 0.2646879091279615, -0.1214394438413926, -0.13836001368655748, 0.7852227023015314, 0.7854781223336118, 0.7300386435705688, 0.630776290146662, 0.4408605142666019, -0.13257670394404963], [-0.21103902043899514, -0.21531071255379153, -0.04997402950189467, -0.2205335564838018, -0.2293513123710118, 0.15334687426796134, -0.02393641506507249, -0.2285153623192988, -0.23348204052184918, 0.36434354352155496, 0.2316035569098246, 0.02518690415645053, -0.23666219554817236, -0.25473596737324067, 0.5752413847012174, 0.488395345027573, 0.3565531215990738, 0.12702328417690623, -0.25325227028977926, -0.2847618511732125, 0.7430909339467022, 0.7463138389791041, 0.680031699143633, 0.559155418585628, 0.32898472232169174, -0.2674034051670444], [-0.32490494321651475, -0.3386711535496917, -0.2017236593203915, -0.3377770538972168, -0.33792567029916454, 0.008938667657860555, -0.16887119571983855, -0.33604207581749823, -0.3513536658969121, 0.2640677018320371, 0.08875298533685749, -0.12433011111747871, -0.3512689230493524, -0.3679589915116078, 0.507074081850637, 0.39531732692488986, 0.2468994334184872, -0.02290992835593142, -0.3613325920878998, -0.38012412534006446, 0.6979153433952526, 0.7003758195773795, 0.6195657350756095, 0.48531206054649156, 0.21273324967766127, -0.38314144844392517], [-0.3200482277934237, -0.323973667156901, -0.17280858708724556, -0.31715809029931274, -0.3273809995988123, 0.028757366078371982, -0.14320668583652574, -0.327216428013947, -0.3399819014716473, 0.2706789705203859, 0.11976572110061223, -0.10114324887056347, -0.3416150616013298, -0.3523359635664203, 0.5175203575307634, 0.4106279071544745, 0.24818509389838372, -0.0144504105956349, -0.35003341838740776, -0.3672861625354358, 0.7067257448779984, 0.7050654160328469, 0.6280012098149739, 0.49580385270637317, 0.2328710558242425, -0.35993402813386477], [-0.051421414742894966, -0.06105458201815839, 0.12109295518490071, -0.060983376849719884, -0.07142394254415207, 0.2937850877219679, 0.1516322885866903, -0.08215403500872143, -0.08919840125701395, 0.47073783450840945, 0.358245927860937, 0.18273932303569584, -0.09114122646249267, -0.10945379336427064, 0.6483410821601796, 0.5690783308610975, 0.45723797798706833, 0.25716387498930626, -0.1026825176103352, -0.12879629284394, 0.7844775540149019, 0.7845372565234346, 0.7284221989274645, 0.6320313996412699, 0.4361741704902684, -0.1407140824901174], [-0.18825095229507893, -0.20013124770884427, -0.022240632743337874, -0.19965878826675076, -0.21216367227737976, 0.18326007538966316, 6.94612255430771e-05, -0.2084939909279826, -0.2135417383727518, 0.38358552581722105, 0.2568319368673452, 0.05945603789420928, -0.22115967960591254, -0.24027975934409196, 0.5911770886770767, 0.5052229365967691, 0.3672163336515787, 0.15024291074131602, -0.24183350563865447, -0.26076144159982595, 0.7504232837685744, 0.7513959551248724, 0.6870595839022358, 0.5723818794405949, 0.34522542937314415, -0.25459752518816514], [-0.3144646429094139, -0.3259323172141504, -0.1762814112599006, -0.32707263140173526, -0.3336778455560546, 0.028650514340122446, -0.14910705027953375, -0.3314195696485194, -0.3469005775971067, 0.2645174714663664, 0.11488149332221753, -0.12213847963462476, -0.3506800360130431, -0.36434314769424114, 0.514705700378622, 0.41156355379927034, 0.24774912091688717, -0.014574083164827223, -0.3585122505120014, -0.3836413486265202, 0.7040780228425391, 0.7034898603637144, 0.626559239219741, 0.4883118272625354, 0.2178499496022197, -0.3820742011931815], [-0.4219340629849899, -0.42928816125846636, -0.2993408774133941, -0.4272312197659929, -0.4341970646724519, -0.12875197389280846, -0.2780249621180728, -0.4318620838834827, -0.4421331064695726, 0.13774515805092513, -0.049630282448299035, -0.24234183749096172, -0.4452883116230014, -0.4626563384243254, 0.4274692642951199, 0.3036128898687134, 0.11830085589436068, -0.1688086728016014, -0.45182758645807164, -0.4745092246643978, 0.6535193273822952, 0.6508395687283939, 0.5564957939309398, 0.40260079824973793, 0.08309876510513048, -0.47815277132901834], [-0.40358491273677044, -0.4113663511816654, -0.2803556695385857, -0.4130048384817082, -0.4211735768919277, -0.10789132449193695, -0.26304697860410986, -0.42556715717183047, -0.4316289785536347, 0.15202869073789105, -0.018078455707344676, -0.2240608524576404, -0.43176904585052467, -0.4451669649446982, 0.44134408829466143, 0.316081202656309, 0.143566382027416, -0.1408967615931892, -0.44343461284468266, -0.45814299964064253, 0.6600813902938405, 0.6580296317419427, 0.5684217060582241, 0.41339903738799055, 0.10525333993473363, -0.45725749949287864], [-0.36190752899958734, -0.3688882786792679, -0.23465956671233956, -0.36585920438355934, -0.3763122450053654, -0.04071121090793195, -0.21381517235787606, -0.37755864319434096, -0.38458179080409016, 0.21282390647562333, 0.0476048632510212, -0.1667394515735312, -0.3848358137843769, -0.39849307784893795, 0.476969167026442, 0.36415992192734936, 0.19320966378074256, -0.0837713395270534, -0.3993938368465395, -0.41405160074426417, 0.6834480684572515, 0.6828634530405839, 0.5981257318224098, 0.4540666520728044, 0.17179396525479307, -0.4137963485383075], [-0.46677907671955543, -0.46973629679557904, -0.36033183317487605, -0.47045144869907407, -0.47771169610016984, -0.20028566745895138, -0.3352334407989388, -0.47470608773081646, -0.48512841895714265, 0.06656449007345189, -0.12070437878935603, -0.30444850794555267, -0.48690987426704513, -0.4937034956223979, 0.3779089969971198, 0.2441075124412766, 0.04541907338686646, -0.23268224073592259, -0.4950051823496864, -0.5088116646847207, 0.6233055074242739, 0.6196862516675661, 0.5195074607126333, 0.3527927339867435, 0.002467171364427756, -0.508274848273786], [-0.5450359563963025, -0.546716590634758, -0.45504241557387004, -0.5471100577611387, -0.5557846018203263, -0.31686085563688304, -0.43869660782763376, -0.5549393365583963, -0.5633275971941089, -0.09065804221316165, -0.24914244978667488, -0.405436654786663, -0.56202814275479, -0.5694619749552133, 0.2680033414119277, 0.1150741545926166, -0.11123178512500764, -0.3421927521841335, -0.5692807188416004, -0.5855911531374887, 0.55502842850465, 0.5570670637009894, 0.43293441697264967, 0.23666561833523625, -0.138652381250294, -0.581050896908937], [-0.5336609096975136, -0.538922026518563, -0.4395062505566243, -0.5404078689571674, -0.5442742437238276, -0.30197818267205334, -0.42285649964353555, -0.5464962373386621, -0.5529732619112434, -0.0718910477664294, -0.2301340862063992, -0.3911908876562378, -0.5532260470746806, -0.5618859526718072, 0.2809434681845714, 0.12991101485848844, -0.08895738982891543, -0.3306065634285742, -0.5594240550993235, -0.5722074610227708, 0.5667355170048347, 0.565156486928869, 0.45141614870138413, 0.2544658226633718, -0.12709398928375604, -0.5714151443242192]]\n",
      "CPU times: user 8min 46s, sys: 63.5 ms, total: 8min 46s\n",
      "Wall time: 8min 46s\n"
     ]
    }
   ],
   "source": [
    "import numpy as np\n",
    "%time print(compute_matrix(sag, bolt, 1000))"
   ]
  },
  {
   "cell_type": "code",
   "execution_count": 242,
   "metadata": {},
   "outputs": [
    {
     "data": {
      "text/plain": [
       "2052"
      ]
     },
     "execution_count": 242,
     "metadata": {},
     "output_type": "execute_result"
    }
   ],
   "source": [
    "w=len([1,2,3,4,6,8,10,12,16])\n",
    "t=len([2,3,4,5,6,8])\n",
    "svs=len(range(1, 19 + 1))\n",
    "fnp=len(range(1, 2 + 1))\n",
    "w*t*svs*fnp  # 3200"
   ]
  },
  {
   "cell_type": "code",
   "execution_count": 35,
   "metadata": {},
   "outputs": [
    {
     "data": {
      "text/plain": [
       "55"
      ]
     },
     "execution_count": 35,
     "metadata": {},
     "output_type": "execute_result"
    }
   ],
   "source": [
    "w_t_fnp = sum([\n",
    "    1 * len([2,3,4])*2,      #w=1 # w * t possible *2 if fnp variant\n",
    "    1 * len([2,3,4,5])*2,    #w=2\n",
    "    1 * len([2,3,4,5,6])*2,  #w=3\n",
    "    1 * len([2,3,4,5,6])*2,  #w=4\n",
    "    1 * len([3,4,5,6,8])*2,#w=6\n",
    "    1 * len([4,5,6,8]),#w=8\n",
    "    1 * len([5,6,8]),#w=10\n",
    "    1 * len([6,8]),#w=16\n",
    "    1 * len([6,8]) #w=28\n",
    "])\n",
    "w_t_fnp"
   ]
  },
  {
   "cell_type": "code",
   "execution_count": 36,
   "metadata": {},
   "outputs": [
    {
     "data": {
      "text/plain": [
       "1045"
      ]
     },
     "execution_count": 36,
     "metadata": {},
     "output_type": "execute_result"
    }
   ],
   "source": [
    "svs*w_t_fnp"
   ]
  },
  {
   "cell_type": "code",
   "execution_count": 32,
   "metadata": {},
   "outputs": [
    {
     "name": "stdout",
     "output_type": "stream",
     "text": [
      "1.11 ms ± 5.79 µs per loop (mean ± std. dev. of 7 runs, 1000 loops each)\n"
     ]
    }
   ],
   "source": [
    "%timeit score_weapon_on_target(bolt, bat, 200)"
   ]
  },
  {
   "cell_type": "code",
   "execution_count": 33,
   "metadata": {},
   "outputs": [
    {
     "name": "stdout",
     "output_type": "stream",
     "text": [
      "75.9 ms ± 538 µs per loop (mean ± std. dev. of 7 runs, 10 loops each)\n"
     ]
    }
   ],
   "source": [
    "%timeit score_weapon_on_target(sag, bat, 200)"
   ]
  },
  {
   "cell_type": "code",
   "execution_count": 38,
   "metadata": {},
   "outputs": [
    {
     "data": {
      "text/plain": [
       "0.017416666666666667"
      ]
     },
     "execution_count": 38,
     "metadata": {},
     "output_type": "execute_result"
    }
   ],
   "source": [
    "1*1045/1000/60"
   ]
  },
  {
   "cell_type": "code",
   "execution_count": null,
   "metadata": {},
   "outputs": [],
   "source": [
    "# put FNP only on endu < 7"
   ]
  },
  {
   "cell_type": "code",
   "execution_count": 275,
   "metadata": {},
   "outputs": [
    {
     "data": {
      "text/plain": [
       "(0.014493157072157503, 0.021757435705378997)"
      ]
     },
     "execution_count": 275,
     "metadata": {},
     "output_type": "execute_result"
    }
   ],
   "source": [
    "score_weapon_on_target(sag, bat, 1000), score_weapon_on_target(bolt, bat, 1000)"
   ]
  },
  {
   "cell_type": "code",
   "execution_count": 198,
   "metadata": {},
   "outputs": [],
   "source": [
    "w = sag\n",
    "t = bat"
   ]
  },
  {
   "cell_type": "code",
   "execution_count": 190,
   "metadata": {},
   "outputs": [
    {
     "data": {
      "text/plain": [
       "{2: 0.027777777777777776,\n",
       " 3: 0.05555555555555555,\n",
       " 4: 0.08333333333333333,\n",
       " 5: 0.1111111111111111,\n",
       " 6: 0.1388888888888889,\n",
       " 7: 0.16666666666666666,\n",
       " 8: 0.1388888888888889,\n",
       " 9: 0.1111111111111111,\n",
       " 10: 0.08333333333333333,\n",
       " 11: 0.05555555555555555,\n",
       " 12: 0.027777777777777776}"
      ]
     },
     "execution_count": 190,
     "metadata": {},
     "output_type": "execute_result"
    }
   ],
   "source": [
    "a_d = get_attack_density(w)\n",
    "a_d"
   ]
  },
  {
   "cell_type": "code",
   "execution_count": 191,
   "metadata": {},
   "outputs": [
    {
     "data": {
      "text/plain": [
       "({0: 0.09245826180349491,\n",
       "  1: 0.2239853530307222,\n",
       "  2: 0.26620813348361666,\n",
       "  3: 0.21083128491947162,\n",
       "  4: 0.12367835752228379,\n",
       "  5: 0.05596105682474631,\n",
       "  6: 0.019891044662844356,\n",
       "  7: 0.005563176345069349,\n",
       "  8: 0.0012047433299274988,\n",
       "  9: 0.00019485804737601263,\n",
       "  10: 2.210969797211731e-05,\n",
       "  11: 1.5680636859657664e-06,\n",
       "  12: 5.226878953219221e-08},\n",
       " 1.0000000000000002)"
      ]
     },
     "execution_count": 191,
     "metadata": {},
     "output_type": "execute_result"
    }
   ],
   "source": [
    "h_d = get_hits_density(w, a_d)\n",
    "h_d, sum(h_d.values())"
   ]
  },
  {
   "cell_type": "code",
   "execution_count": 192,
   "metadata": {},
   "outputs": [
    {
     "data": {
      "text/plain": [
       "({0: 0.4029500867053239,\n",
       "  1: 0.3367914778591636,\n",
       "  2: 0.1689350056321175,\n",
       "  3: 0.06478956365764589,\n",
       "  4: 0.020154421512724424,\n",
       "  5: 0.00512477251439623,\n",
       "  6: 0.0010565739623414905,\n",
       "  7: 0.00017367555510426272,\n",
       "  8: 2.216603219186902e-05,\n",
       "  9: 2.1100352269821476e-06,\n",
       "  10: 1.405806713069297e-07,\n",
       "  11: 5.83937585822815e-09,\n",
       "  12: 1.1371713614420627e-10},\n",
       " 1.0000000000000004)"
      ]
     },
     "execution_count": 192,
     "metadata": {},
     "output_type": "execute_result"
    }
   ],
   "source": [
    "w_d = get_wounds_density(w, t, h_d)\n",
    "w_d, sum(w_d.values())"
   ]
  },
  {
   "cell_type": "code",
   "execution_count": 193,
   "metadata": {},
   "outputs": [
    {
     "data": {
      "text/plain": [
       "({0: 0.5366555241737849,\n",
       "  1: 0.3162275735568333,\n",
       "  2: 0.11078687649773596,\n",
       "  3: 0.029102035242819145,\n",
       "  4: 0.006064610751263366,\n",
       "  5: 0.0010130132279732571,\n",
       "  6: 0.00013499857838335794,\n",
       "  7: 1.415632468850579e-05,\n",
       "  8: 1.1407205971613996e-06,\n",
       "  9: 6.802863136706233e-08,\n",
       "  10: 2.8236457380877304e-09,\n",
       "  11: 7.27678850725364e-11,\n",
       "  12: 8.764573859500293e-13},\n",
       " 1.0000000000000007)"
      ]
     },
     "execution_count": 193,
     "metadata": {},
     "output_type": "execute_result"
    }
   ],
   "source": [
    "uw_d = get_unsaved_wounds_density(w, t, w_d)\n",
    "uw_d, sum(uw_d.values())"
   ]
  },
  {
   "cell_type": "markdown",
   "metadata": {},
   "source": [
    "# New last step"
   ]
  },
  {
   "cell_type": "code",
   "execution_count": 79,
   "metadata": {},
   "outputs": [
    {
     "data": {
      "text/plain": [
       "(0.16783812500000003, 0.0028725681970799216, 0.017115111343623035)"
      ]
     },
     "execution_count": 79,
     "metadata": {},
     "output_type": "execute_result"
    }
   ],
   "source": [
    "# last step numeric averaging: damage roll + fnp\n",
    "def get_avg_figs_fraction_slained_per_unsaved_wound(weapon, target, N):\n",
    "    \"\"\"\n",
    "    El famoso montecarlo approach\n",
    "    :param N: number of consecutive wounds resolved: N=1000 leads to a result precise at +- 1.5%\n",
    "    \"\"\"\n",
    "    assert (isinstance(weapon, Weapon))\n",
    "    assert (isinstance(target, Target))\n",
    "    n_figs_slained = 0\n",
    "    remaining_health = target.w\n",
    "    for _ in range(N):\n",
    "        damages = weapon.d.roll()\n",
    "        if target.fnp is not None:\n",
    "            for damage in range(damages):\n",
    "                if roll_D6() >= target.fnp:\n",
    "                    damages -= 1  # fnp success\n",
    "        remaining_health -= damages\n",
    "        if remaining_health <= 0:\n",
    "            n_figs_slained += 1\n",
    "            remaining_health = target.w\n",
    "    # e.g. remaining = 1,slained 2, w=3, frac = 2 + (1 - 1/3) \n",
    "    remaining_fraction = remaining_health / target.w\n",
    "    return (n_figs_slained + (1 - remaining_fraction))/N\n",
    "\n",
    "run = [get_avg_figs_fraction_slained_per_unsaved_wound(sag, bat, 1000) for _ in range(100)]\n",
    "sum(run)/len(run), np.std(np.array(run)), np.std(run)/(sum(run)/len(run))"
   ]
  },
  {
   "cell_type": "code",
   "execution_count": 80,
   "metadata": {},
   "outputs": [
    {
     "name": "stdout",
     "output_type": "stream",
     "text": [
      "1.11 ms ± 4.43 µs per loop (mean ± std. dev. of 7 runs, 1000 loops each)\n"
     ]
    }
   ],
   "source": [
    "%timeit get_presimu_avg_figs_fraction_slained_by_unsaved_wound(bolt, bat, 1000)"
   ]
  },
  {
   "cell_type": "code",
   "execution_count": 75,
   "metadata": {},
   "outputs": [
    {
     "data": {
      "text/plain": [
       "0.052375"
      ]
     },
     "execution_count": 75,
     "metadata": {},
     "output_type": "execute_result"
    }
   ],
   "source": [
    "get_presimu_avg_figs_fraction_slained_by_unsaved_wound(bolt, bat, 2000)"
   ]
  },
  {
   "cell_type": "code",
   "execution_count": null,
   "metadata": {},
   "outputs": [],
   "source": []
  }
 ],
 "metadata": {
  "kernelspec": {
   "display_name": "Python 3",
   "language": "python",
   "name": "python3"
  },
  "language_info": {
   "codemirror_mode": {
    "name": "ipython",
    "version": 3
   },
   "file_extension": ".py",
   "mimetype": "text/x-python",
   "name": "python",
   "nbconvert_exporter": "python",
   "pygments_lexer": "ipython3",
   "version": "3.6.7"
  }
 },
 "nbformat": 4,
 "nbformat_minor": 2
}
