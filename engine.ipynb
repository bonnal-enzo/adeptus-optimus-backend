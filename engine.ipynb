{
 "cells": [
  {
   "cell_type": "markdown",
   "metadata": {},
   "source": [
    "# Adeptus Optimus Proto"
   ]
  },
  {
   "cell_type": "markdown",
   "metadata": {},
   "source": [
    "# Calculus"
   ]
  },
  {
   "cell_type": "code",
   "execution_count": 8,
   "metadata": {},
   "outputs": [],
   "source": [
    "import scipy.special\n",
    "import numpy as np\n",
    "import random\n",
    "import re\n",
    "import json"
   ]
  },
  {
   "cell_type": "code",
   "execution_count": 102,
   "metadata": {},
   "outputs": [],
   "source": [
    "# Utils\n",
    "def map_7_to_None(v):\n",
    "    return None if v == 7 else v\n",
    "\n",
    "class RequirementFailError(Exception):\n",
    "    pass\n",
    "\n",
    "def require(predicate, error_message):\n",
    "    if not(predicate):\n",
    "        raise RequirementFailError(error_message)\n",
    "\n",
    "require(True, \"bla\")\n",
    "\n",
    "thrown_message = \"\"\n",
    "try:\n",
    "    require(False, \"bla\")\n",
    "except RequirementFailError as e:\n",
    "    thrown_message = str(e)\n",
    "assert(thrown_message == \"bla\")\n",
    "    \n",
    "    \n",
    "    \n",
    "def roll_D6():\n",
    "    return random.randint(1, 6)\n",
    "assert(len({roll_D6() for _ in range(1000)}) == 6)\n",
    "\n",
    "def roll_D3():\n",
    "    return (random.randint(1, 6) + 1) // 2\n",
    "assert(len({roll_D3() for _ in range(1000)}) == 3)\n",
    "\n",
    "class DiceExpr:\n",
    "    def __init__(self, n, dices_type=None):\n",
    "        self.n = n\n",
    "        self.dices_type = dices_type\n",
    "        \n",
    "        if self.dices_type is None:\n",
    "            self.avg = n\n",
    "        else:\n",
    "            self.avg = n * (self.dices_type + 1)/2\n",
    "    \n",
    "    def roll(self):\n",
    "        if self.dices_type is None:\n",
    "            return self.n\n",
    "        else:\n",
    "            if self.dices_type == 3:\n",
    "                return sum([roll_D3() for _ in range(self.n)])\n",
    "            elif self.dices_type == 6:\n",
    "                return sum([roll_D6() for _ in range(self.n)])\n",
    "            else:\n",
    "                raise AttributeError(f\"Unsupported dices_type D{self.dices_type}\")\n",
    "    \n",
    "        \n",
    "    def __str__(self):\n",
    "        if self.dices_type is None:\n",
    "            return str(self.n)\n",
    "        else:\n",
    "            return f\"{self.n if self.n > 1 else ''}D{self.dices_type}\"\n",
    "\n",
    "        \n",
    "assert(str(DiceExpr(5, 3)) == \"5D3\")\n",
    "assert(str(DiceExpr(1, 6)) == \"D6\")\n",
    "assert(str(DiceExpr(10, None)) == \"10\")\n",
    "\n",
    "dice_5D3 = DiceExpr(5, 3)\n",
    "assert(len({dice_5D3.roll() for _ in range(10000)}) == 5*3 -5 + 1)\n",
    "dice_4D6 = DiceExpr(4, 6)\n",
    "assert(len({dice_4D6.roll() for _ in range(10000)}) == 4*6 -4 + 1)          \n",
    "    \n",
    "def parse_dice_expr(d, complexity_threshold=36):\n",
    "    assert(type(d) is str)\n",
    "    groups = re.fullmatch(r\"([1-9][0-9]*)?D([36])?|([0-9]+)\", d)\n",
    "    res = None\n",
    "    try:\n",
    "        if groups.group(1) is None:\n",
    "            n_dices = 1\n",
    "        else:\n",
    "            n_dices = int(groups.group(1))\n",
    "        dices_type = int(groups.group(2))\n",
    "        if(n_dices*(1 if dices_type is None else dices_type) > complexity_threshold):\n",
    "            res = None\n",
    "        else:\n",
    "            res = DiceExpr(n_dices, dices_type)\n",
    "    except TypeError:\n",
    "        try:\n",
    "            flat = int(groups.group(3))\n",
    "            res = DiceExpr(flat)\n",
    "        except TypeError:\n",
    "            res = None\n",
    "    finally:\n",
    "        return res\n",
    "    \n",
    "assert(parse_dice_expr(\"4D3\").avg == 8)\n",
    "assert(parse_dice_expr(\"5\").avg == 5)\n",
    "assert(parse_dice_expr(\"D7\") is None)\n",
    "assert(parse_dice_expr(\"0D6\") is None)\n",
    "assert(parse_dice_expr(\"0\").avg == 0)\n",
    "assert(parse_dice_expr(\"7D6\") is None)\n",
    "assert(parse_dice_expr(\"D3\").avg == 2)\n",
    "assert(parse_dice_expr(\"3D3\").avg == 6)\n",
    "assert(parse_dice_expr(\"D6\").avg == 3.5)\n",
    "\n",
    "def parse_roll(roll):\n",
    "    res = re.fullmatch(r\"([23456])\\+\", roll)\n",
    "    if res is None:\n",
    "        return None\n",
    "    else:\n",
    "        return int(res.group(1))\n",
    "\n",
    "assert(parse_roll(\"1+\") is None)\n",
    "assert(parse_roll(\"1+\") is None)\n",
    "assert(parse_roll(\"2+\") == 2)\n",
    "assert(parse_roll(\"3+\") == 3)\n",
    "assert(parse_roll(\"6+\") == 6)\n",
    "assert(parse_roll(\"7+\") is None)\n",
    "assert(parse_roll(\"3\") is None)\n",
    "\n",
    "def float_eq(a, b):\n",
    "    return np.isclose(a, b, rtol=1e-05, atol=1e-08, equal_nan=False)\n",
    "\n",
    "def prob_by_roll_result(dice_expr):\n",
    "    if dice_expr.dices_type is None:\n",
    "        return {dice_expr.n: 1}\n",
    "    else:\n",
    "        roll_results_counts = {}\n",
    "        def f(n, current_sum):\n",
    "            if n == 0:\n",
    "                roll_results_counts[current_sum] = roll_results_counts.get(current_sum, 0) + 1\n",
    "            else:\n",
    "                for i in range(1, dice_expr.dices_type + 1):\n",
    "                    f(n - 1, current_sum + i)\n",
    "        f(dice_expr.n, 0)\n",
    "        n_cases = sum(roll_results_counts.values())\n",
    "        for key in roll_results_counts.keys():\n",
    "            roll_results_counts[key] /= n_cases\n",
    "        return roll_results_counts\n",
    "    \n",
    "assert(prob_by_roll_result(parse_dice_expr(\"D3\")) == {1: 1/3, 2: 1/3, 3: 1/3})\n",
    "assert(prob_by_roll_result(parse_dice_expr(\"7\")) == {7: 1})\n",
    "assert(float_eq(1, sum(prob_by_roll_result(parse_dice_expr(\"2D6\")).values())))\n",
    "assert(prob_by_roll_result(parse_dice_expr(\"2D6\")) == {2: 1/36, 3: 2/36, 4: 3/36, 5: 4/36, 6: 5/36, 7: 6/36, 8: 5/36, 9: 4/36, 10: 3/36, 11: 2/36, 12: 1/36})"
   ]
  },
  {
   "cell_type": "code",
   "execution_count": null,
   "metadata": {},
   "outputs": [],
   "source": []
  },
  {
   "cell_type": "code",
   "execution_count": 337,
   "metadata": {},
   "outputs": [
    {
     "data": {
      "text/plain": [
       "<__main__.Target at 0x7f055d3d25f8>"
      ]
     },
     "execution_count": 337,
     "metadata": {},
     "output_type": "execute_result"
    }
   ],
   "source": [
    "# Core Classes\n",
    "class Bonuses:\n",
    "    def __init__(self, to_hit, to_wound, props = None):\n",
    "        assert(to_hit in {-1, 0, 1})\n",
    "        assert(to_wound in {-1, 0, 1})\n",
    "\n",
    "        self.to_hit = to_hit\n",
    "        self.to_wound = to_wound\n",
    "        self.props = props if props is not None else {}\n",
    "        \n",
    "    @classmethod\n",
    "    def empty(cls):\n",
    "        return Bonuses(0, 0)\n",
    "    \n",
    "Bonuses.empty().to_hit = 0\n",
    "        \n",
    "class Weapon:\n",
    "    def __init__(self, hit, a, s, ap, d, bonuses, points=1):\n",
    "        self.hit      = parse_dice_expr(hit)\n",
    "        assert(self.hit is not None)\n",
    "        self.a        = parse_dice_expr(a)\n",
    "        assert(self.a is not None)\n",
    "        self.s        = parse_dice_expr(s)\n",
    "        assert(self.s is not None)\n",
    "        self.ap       = parse_dice_expr(ap)\n",
    "        assert(self.ap is not None)\n",
    "        self.d        = parse_dice_expr(d)\n",
    "        assert(self.d is not None)\n",
    "\n",
    "        self.bonuses  = bonuses   \n",
    "        assert(type(points) is int and points > 0)\n",
    "        self.points   = points\n",
    "        \n",
    "        \n",
    "Weapon(hit=\"5\", a=\"2\", s = \"4D3\", ap = \"1\", d=\"D3\", bonuses=Bonuses.empty())\n",
    "\n",
    "        \n",
    "class Target:\n",
    "    def __init__(self, t, sv, invu=None, fnp=None, w=1):\n",
    "\n",
    "        \n",
    "        assert(invu is None or (type(invu) is int and invu > 0 and invu <= 6))\n",
    "        self.invu   = invu\n",
    "        \n",
    "        assert(fnp is None or (type(fnp) is int and fnp > 0 and fnp <= 6))\n",
    "        self.fnp   = fnp\n",
    "        \n",
    "        assert(type(t) is int and t > 0)\n",
    "        self.t    = t\n",
    "        \n",
    "        assert(type(sv) is int and sv > 0 and sv <= 6)\n",
    "        self.sv   = sv\n",
    "        \n",
    "        assert(type(w) is int and w > 0)\n",
    "        self.w   = w\n",
    "\n",
    "\n",
    "Target(8, 3, 5, 6)\n",
    "Target(8, 3)"
   ]
  },
  {
   "cell_type": "code",
   "execution_count": 229,
   "metadata": {},
   "outputs": [],
   "source": [
    "# Engine v1\n",
    "\n",
    "def compute_successes_ratio(modified_necessary_roll, auto_success_on_6=True):\n",
    "    necessary_roll = modified_necessary_roll\n",
    "    if modified_necessary_roll <= 1:\n",
    "        necessary_roll = 2  # roll of 1 always fails\n",
    "    if modified_necessary_roll >= 7:\n",
    "        if auto_success_on_6:\n",
    "            necessary_roll = 6  # roll of 6 always succeeds\n",
    "        else:\n",
    "            return 0\n",
    "    return (7 - necessary_roll)/6\n",
    "\n",
    "def compute_n_hits_ratio(weapon):\n",
    "    return compute_successes_ratio(weapon.hit.avg - weapon.bonuses.to_hit)\n",
    "\n",
    "\n",
    "assert(compute_n_hits_ratio(Weapon(hit=\"2\", a=\"12\", s = \"4\", ap = \"1\", d=\"2D3\", bonuses=Bonuses.empty())) == 5/6)\n",
    "assert(compute_n_hits_ratio(Weapon(hit=\"5\", a=\"12\", s = \"4\", ap = \"1\", d=\"2D3\", bonuses=Bonuses.empty())) == 1/3)\n",
    "assert(compute_n_hits_ratio(Weapon(hit=\"3\", a=\"1\", s = \"4\", ap = \"1\",  d=\"2D3\", bonuses=Bonuses.empty())) == 2/3)\n",
    "assert(compute_n_hits_ratio(Weapon(hit=\"3\", a=\"1\", s = \"4\", ap = \"1\",  d=\"2D3\", bonuses=Bonuses(-1, 0))) == 1/2)\n",
    "assert(compute_n_hits_ratio(Weapon(hit=\"2\", a=\"1\", s = \"4\", ap = \"1\",  d=\"2D3\", bonuses=Bonuses(+1, 0))) == 5/6)  # roll of 1 always fails\n",
    "assert(compute_n_hits_ratio(Weapon(hit=\"6\", a=\"1\", s = \"4\", ap = \"1\",  d=\"2D3\", bonuses=Bonuses(-1, 0))) == 1/6)  # roll of 6 always succeeds\n",
    "\n",
    "def compute_necessary_wound_roll(f, e):\n",
    "    if f >= 2*e:\n",
    "        return 2\n",
    "    elif f > e:\n",
    "        return 3\n",
    "    elif f == e:\n",
    "        return 4\n",
    "    elif f <= e/2:\n",
    "        return 6\n",
    "    else:\n",
    "        assert(f < e)\n",
    "        return 5\n",
    "\n",
    "def compute_n_wounds_ratios(weapon, target):\n",
    "    return [prob*compute_successes_ratio(compute_necessary_wound_roll(f, target.t) - weapon.bonuses.to_wound)\n",
    "     for f, prob in prob_by_roll_result(weapon.s).items()]\n",
    "\n",
    "def compute_n_wounds_ratio(weapon, target):\n",
    "    return sum(compute_n_wounds_ratios(weapon, target))\n",
    "\n",
    "assert(compute_n_wounds_ratio(\n",
    "    Weapon(hit=\"2\", a=\"1\", s = \"4\", ap = \"1\", d=\"2D3\", bonuses=Bonuses(+1, 0)),\n",
    "    Target(t=4, sv=3)\n",
    ") == 1/2)\n",
    "\n",
    "assert(compute_n_wounds_ratio(\n",
    "    Weapon(hit=\"2\", a=\"12\", s = \"4\", ap = \"1\", d=\"2D3\", bonuses=Bonuses(+1, 0)),\n",
    "    Target(t=8, sv=3)\n",
    ") == 1/6)\n",
    "\n",
    "assert(compute_n_wounds_ratio(\n",
    "    Weapon(hit=\"2\", a=\"1\", s = \"4\", ap = \"1\", d=\"2D3\", bonuses=Bonuses(+1, -1)),\n",
    "    Target(t=8, sv=3)\n",
    ") == 1/6)  # roll of 6 always succeeds\n",
    "\n",
    "assert(compute_n_wounds_ratio(\n",
    "    Weapon(hit=\"2\", a=\"1\", s = \"4\", ap = \"1\", d=\"2D3\", bonuses=Bonuses(+1, 0)),\n",
    "    Target(t=2, sv=3)\n",
    ") == 5/6)\n",
    "\n",
    "assert(compute_n_wounds_ratio(\n",
    "    Weapon(hit=\"2\", a=\"1\", s = \"4\", ap = \"1\", d=\"2D3\", bonuses=Bonuses(+1, +1)),\n",
    "    Target(t=2, sv=3)\n",
    ") == 5/6)  # roll of 1 always fails\n",
    "\n",
    "assert(compute_n_wounds_ratio(\n",
    "    Weapon(hit=\"2\", a=\"1\", s = \"2D3\", ap = \"1\", d=\"2D3\", bonuses=Bonuses(+1, 0)),\n",
    "    Target(t=12, sv=3)\n",
    ") == 1/6)\n",
    "\n",
    "assert(float_eq(compute_n_wounds_ratio(\n",
    "    Weapon(hit=\"2\", a=\"1\", s = \"2D3\", ap = \"1\", d=\"2D3\", bonuses=Bonuses(+1, 0)),\n",
    "    Target(t=1, sv=3)\n",
    "), 5/6))\n",
    "\n",
    "assert(compute_n_wounds_ratio(\n",
    "    Weapon(hit=\"2\", a=\"1\", s = \"2D3\", ap = \"1\", d=\"2D3\", bonuses=Bonuses(+1, 0)),\n",
    "    Target(t=4, sv=3)\n",
    ")< 1/2)\n",
    "\n",
    "\n",
    "\n",
    "def n_figs_slained(weapon, target):\n",
    "    hit_ratio = compute_n_hits_ratio(weapon)\n",
    "    wound_ratio = compute_n_wounds_ratio(weapon, target)\n",
    "    return weapon.a.avg * hit_ratio * wound_ratio\n",
    "\n",
    "def total_n_figs_slained(weapons_list, target):\n",
    "    print(\"tatata\")"
   ]
  },
  {
   "cell_type": "code",
   "execution_count": 230,
   "metadata": {},
   "outputs": [
    {
     "data": {
      "text/plain": [
       "1.0"
      ]
     },
     "execution_count": 230,
     "metadata": {},
     "output_type": "execute_result"
    }
   ],
   "source": [
    "n_figs_slained(\n",
    "    Weapon(hit=\"5\", a=\"12\", s = \"4\", ap = \"1\", d=\"2D3\", bonuses=Bonuses(+1, 0)),\n",
    "    Target(t=8, sv=3)\n",
    ")"
   ]
  },
  {
   "cell_type": "code",
   "execution_count": 339,
   "metadata": {},
   "outputs": [],
   "source": [
    "# Engine v2\n",
    "def dispatch_density_key(previous_density_key, next_density_prob):\n",
    "    assert(type(previous_density_key) is int)\n",
    "    assert(previous_density_key >= 0)\n",
    "    assert(0 < next_density_prob and next_density_prob <= 1)\n",
    "    n = previous_density_key\n",
    "    p= next_density_prob\n",
    "    return {k: scipy.special.comb(n, k)*p**k*(1-p)**(n-k) for k in range(0, n + 1)}\n",
    "\n",
    "assert(dispatch_density_key(3, 0.5) == {0: 0.125, 1: 0.375, 2: 0.375, 3: 0.125})\n",
    "# new version:\n",
    "# 3 A, c 4, f 4 endu 4\n",
    "# [0, 0, 0, 1] attacks density\n",
    "def get_attack_density(weapon):\n",
    "    assert(isinstance(weapon, Weapon))\n",
    "    return {a: prob for a, prob in prob_by_roll_result(weapon.a).items()}\n",
    "# [1/8, 3/8, 3/8 ,1/8] hit density\n",
    "def get_hits_density(weapon, attack_density):\n",
    "    assert(isinstance(weapon, Weapon))\n",
    "    assert(isinstance(attack_density, dict))\n",
    "    hits_density = {}\n",
    "    for a, prob_a in attack_density.items(): \n",
    "        # {1: 0.3333333333333333, 2: 0.3333333333333333, 3: 0.3333333333333333}\n",
    "        for hit_roll, prob_hit_roll in prob_by_roll_result(weapon.hit).items():\n",
    "            # {5: 1}\n",
    "            hits_ratio = compute_successes_ratio(hit_roll - weapon.bonuses.to_hit)\n",
    "            # 0.5\n",
    "            for hits, prob_hits in dispatch_density_key(a, hits_ratio).items():\n",
    "                hits_density[hits] = hits_density.get(hits, 0) + prob_hits*prob_hit_roll*prob_a\n",
    "    return hits_density\n",
    "\n",
    "# [......]  woud density\n",
    "def get_wounds_density(weapon, target, hits_density):\n",
    "    assert(isinstance(weapon, Weapon))\n",
    "    assert(isinstance(target, Target))\n",
    "    assert(isinstance(hits_density, dict))\n",
    "    wounds_density = {}\n",
    "    for hits, prob_hits in hits_density.items(): \n",
    "        for s_roll, prob_s_roll in prob_by_roll_result(weapon.s).items():\n",
    "            wounds_ratio = compute_successes_ratio(compute_necessary_wound_roll(s_roll, target.t) - weapon.bonuses.to_wound)\n",
    "            for wounds, prob_wounds in dispatch_density_key(hits, wounds_ratio).items():\n",
    "                wounds_density[wounds] = wounds_density.get(wounds, 0) + prob_wounds*prob_s_roll*prob_hits\n",
    "    return wounds_density\n",
    "\n",
    "# [......] unsaved wounds density\n",
    "def get_unsaved_wounds_density(weapon, target, wounds_density):\n",
    "    assert(isinstance(weapon, Weapon))\n",
    "    assert(isinstance(target, Target))\n",
    "    assert(isinstance(wounds_density, dict))\n",
    "    unsaved_wounds_density = {}\n",
    "    for wounds, prob_wounds in wounds_density.items(): \n",
    "        for ap_roll, prob_ap_roll in prob_by_roll_result(weapon.ap).items():\n",
    "            save_roll = target.sv + ap_roll\n",
    "            if target.invu is not None:\n",
    "                save_roll = min(save_roll, target.invu)\n",
    "            unsaved_wounds_ratio = 1 - compute_successes_ratio(save_roll, auto_success_on_6=False)\n",
    "            for unsaved_wounds, prob_unsaved_wounds in dispatch_density_key(wounds, unsaved_wounds_ratio).items():\n",
    "                unsaved_wounds_density[unsaved_wounds] = unsaved_wounds_density.get(unsaved_wounds, 0) + prob_unsaved_wounds*prob_ap_roll*prob_wounds\n",
    "    return unsaved_wounds_density\n",
    "\n",
    "# last step numeric averaging: damage roll + fnp\n",
    "def get_avg_figs_fraction_slained(weapon, target, unsaved_wounds_density, N):\n",
    "    \"\"\"\n",
    "    El famoso montecarlo approach\n",
    "    :param N: number of simulations for each unsaved wounds entry\n",
    "    \"\"\"\n",
    "    assert(isinstance(weapon, Weapon))\n",
    "    assert(isinstance(target, Target))\n",
    "    assert(isinstance(unsaved_wounds_density, dict))\n",
    "    figs_fraction_slained_total_weighted = 0\n",
    "    adapted_N = (N // target.w) + 1\n",
    "    for unsaved_wounds, prob_unsaved_wounds in unsaved_wounds_density.items():\n",
    "        figs_fraction_slained_total_sum = 0\n",
    "        for _ in range(adapted_N):\n",
    "            figs_fraction_slained_total = 0\n",
    "            for start_health in range(1, target.w + 1):\n",
    "                n_figs_slained = 0\n",
    "                remaining_health = start_health\n",
    "                for wound in range(unsaved_wounds):\n",
    "                    damages = weapon.d.roll()\n",
    "                    if target.fnp is not None:\n",
    "                        for damage in range(damages):\n",
    "                            if roll_D6() >= target.fnp:\n",
    "                                damages -= 1  # fnp success\n",
    "                    remaining_health -= damages\n",
    "                    if remaining_health <= 0:\n",
    "                        n_figs_slained += 1\n",
    "                        remaining_health = target.w\n",
    "                # e.g. remaining = 1,slained 2, w=3, start = 2: frac = 2 - (1 - 2/3) + (1 - 1/3) \n",
    "                first_slain_fraction = start_health/target.w\n",
    "                remaining_fraction = remaining_health/target.w\n",
    "                figs_fraction_slained_total += \\\n",
    "                    n_figs_slained - (1 - first_slain_fraction) + (1 - remaining_fraction)\n",
    "\n",
    "            figs_fraction_slained_total_sum += figs_fraction_slained_total\n",
    "\n",
    "        figs_fraction_slained_total_weighted += \\\n",
    "            prob_unsaved_wounds * figs_fraction_slained_total_sum/(adapted_N*target.w) # target_wounds is here because of start_health loop\n",
    "\n",
    "    return figs_fraction_slained_total_weighted\n",
    "\n",
    "def score_weapon_on_target(w, t, N):\n",
    "    \"\"\"\n",
    "    avg_figs_fraction_slained by point\n",
    "    \"\"\"\n",
    "    a_d = get_attack_density(w)\n",
    "    assert(float_eq(sum(a_d.values()), 1))\n",
    "    h_d = get_hits_density(w, a_d)\n",
    "    assert(float_eq(sum(h_d.values()), 1))\n",
    "    w_d = get_wounds_density(w, t, h_d)\n",
    "    assert(float_eq(sum(w_d.values()), 1))\n",
    "    uw_d = get_unsaved_wounds_density(w, t, w_d)\n",
    "    assert(float_eq(sum(uw_d.values()), 1))\n",
    "    return get_avg_figs_fraction_slained(w, t, uw_d, N)/w.points\n",
    "\n",
    "# Sv=1 : ignore PA -1\n",
    "wea = Weapon(hit=\"4\", a=\"4\", s = \"4\", ap = \"1\", d=\"3\", bonuses=Bonuses(0, 0), points=120)\n",
    "wea2 = Weapon(hit=\"4\", a=\"4\", s = \"4\", ap = \"0\", d=\"3\", bonuses=Bonuses(0, 0), points=120)\n",
    "tar = Target(t=4, sv=1, invu=5, fnp=6, w=16)\n",
    "assert(abs(score_weapon_on_target(wea, tar, 1000) / score_weapon_on_target(wea2, tar, 100) - 1) <= 0.25)\n",
    "\n",
    "def scores_to_comparison_score(score_a, score_b):\n",
    "    if score_a > score_b:\n",
    "        return + (1 - score_b / score_a)\n",
    "    else:\n",
    "        return - (1 - score_a / score_b)\n",
    "\n",
    "assert(scores_to_comparison_score(10000, 1) == 0.9999) \n",
    "assert(scores_to_comparison_score(1, 10000) == -0.9999) \n",
    "assert(scores_to_comparison_score(1, 1) == 0) \n",
    "\n",
    "def y_dims_to_str(l):\n",
    "    return f\"\"\"{l[0]}/{l[1]}/{\"-\" if l[2] is None else f\"{l[2]}+\"}\"\"\"\n",
    "\n",
    "def x_dims_to_str(l):\n",
    "    return  f\"\"\"{\"-\" if l[0] is None else f\"{l[0]}+\"}/{\"-\" if l[1] is None else f\"{l[1]}+\"}\"\"\"\n",
    "def compute_matrix(weapon_a, weapon_b, N):    \n",
    "    ws_ts_fnps = []\n",
    "    for w, ts in zip(\n",
    "        [1,2,3,4,6,8,10,12,16], \n",
    "        [\n",
    "            [2,3,4],\n",
    "            [2,3,4,5],\n",
    "            [2,3,4,5,6],\n",
    "            [2,3,4,5,6],\n",
    "            [3,4,5,6,8],\n",
    "            [4,5,6,8],\n",
    "            [5,6,8],\n",
    "            [6,8],\n",
    "            [6,8]\n",
    "        ]\n",
    "    ) :\n",
    "        fnps = [7] if w > 6 else [7, 6, 5]\n",
    "        for fnp in fnps:\n",
    "            for t in ts:\n",
    "                ws_ts_fnps.append((t, w, fnp))\n",
    "                \n",
    "    ws_ts_fnps.sort(key=lambda e: e[2] * 10000 - e[0]*100 - e[1])\n",
    "    ws_ts_fnps = list(map(lambda l: list(map(map_7_to_None, l)), ws_ts_fnps))\n",
    "    \n",
    "    print(list(map(y_dims_to_str, ws_ts_fnps)), )\n",
    "    \n",
    "    svs = []\n",
    "    for invu in [2, 3, 4, 5, 6, 7]:\n",
    "        for sv in range(1, min(invu + 1, 6 + 1)):\n",
    "            svs.append((sv, invu))\n",
    "    svs.sort(key=lambda e: -e[0]*10 + -e[1])\n",
    "    svs = list(map(lambda l: list(map(map_7_to_None, l)), svs))\n",
    "    \n",
    "    print(list(map(x_dims_to_str, svs)))\n",
    "    \n",
    "    \n",
    "    return  \\\n",
    "        [\n",
    "            [\n",
    "                scores_to_comparison_score(\n",
    "                    score_weapon_on_target(\n",
    "                        weapon_a, \n",
    "                        Target(t, sv, invu=invu, fnp=fnp, w=w),\n",
    "                        N), \n",
    "                    score_weapon_on_target(\n",
    "                    weapon_b, \n",
    "                    Target(t, sv, invu=invu, fnp=fnp, w=w),\n",
    "                    N)\n",
    "                )\n",
    "                for sv, invu in svs\n",
    "            ]\n",
    "            for w, t, fnp in ws_ts_fnps\n",
    "        ]"
   ]
  },
  {
   "cell_type": "code",
   "execution_count": 340,
   "metadata": {},
   "outputs": [],
   "source": [
    "# SAG vs Battlewagon under KFF and fnp 6+\n",
    "sag = Weapon(hit=\"5\", a=\"2D6\", s = \"2D6\", ap = \"5\", d=\"D6\", bonuses=Bonuses(0, 0), points=120)\n",
    "bat = Target(t=8, sv=4, invu=5, fnp=6, w=16)\n",
    "\n",
    "# SAG vs Battlewagon under KFF and fnp 6+\n",
    "bolt = Weapon(hit=\"3\", a=\"2\", s = \"4\", ap = \"1\", d=\"1\", bonuses=Bonuses(0, 0), points=20)"
   ]
  },
  {
   "cell_type": "code",
   "execution_count": 336,
   "metadata": {},
   "outputs": [
    {
     "name": "stdout",
     "output_type": "stream",
     "text": [
      "['8/6/5+', '6/6/5+', '6/4/5+', '6/3/5+', '5/6/5+', '5/4/5+', '5/3/5+', '5/2/5+', '4/6/5+', '4/4/5+', '4/3/5+', '4/2/5+', '4/1/5+', '3/6/5+', '3/4/5+', '3/3/5+', '3/2/5+', '3/1/5+', '2/4/5+', '2/3/5+', '2/2/5+', '2/1/5+', '8/6/6+', '6/6/6+', '6/4/6+', '6/3/6+', '5/6/6+', '5/4/6+', '5/3/6+', '5/2/6+', '4/6/6+', '4/4/6+', '4/3/6+', '4/2/6+', '4/1/6+', '3/6/6+', '3/4/6+', '3/3/6+', '3/2/6+', '3/1/6+', '2/4/6+', '2/3/6+', '2/2/6+', '2/1/6+', '8/16/-', '8/12/-', '8/10/-', '8/8/-', '8/6/-', '6/16/-', '6/12/-', '6/10/-', '6/8/-', '6/6/-', '6/4/-', '6/3/-', '5/10/-', '5/8/-', '5/6/-', '5/4/-', '5/3/-', '5/2/-', '4/8/-', '4/6/-', '4/4/-', '4/3/-', '4/2/-', '4/1/-', '3/6/-', '3/4/-', '3/3/-', '3/2/-', '3/1/-', '2/4/-', '2/3/-', '2/2/-', '2/1/-']\n",
      "['6+/-', '6+/6+', '5+/-', '5+/6+', '5+/5+', '4+/-', '4+/6+', '4+/5+', '4+/4+', '3+/-', '3+/6+', '3+/5+', '3+/4+', '3+/3+', '2+/-', '2+/6+', '2+/5+', '2+/4+', '2+/3+', '2+/2+', '1+/-', '1+/6+', '1+/5+', '1+/4+', '1+/3+', '1+/2+']\n"
     ]
    }
   ],
   "source": [
    "compute_matrix(sag, bolt, 1000)"
   ]
  },
  {
   "cell_type": "code",
   "execution_count": 341,
   "metadata": {},
   "outputs": [
    {
     "name": "stdout",
     "output_type": "stream",
     "text": [
      "['8/6/5+', '6/6/5+', '6/4/5+', '6/3/5+', '5/6/5+', '5/4/5+', '5/3/5+', '5/2/5+', '4/6/5+', '4/4/5+', '4/3/5+', '4/2/5+', '4/1/5+', '3/6/5+', '3/4/5+', '3/3/5+', '3/2/5+', '3/1/5+', '2/4/5+', '2/3/5+', '2/2/5+', '2/1/5+', '8/6/6+', '6/6/6+', '6/4/6+', '6/3/6+', '5/6/6+', '5/4/6+', '5/3/6+', '5/2/6+', '4/6/6+', '4/4/6+', '4/3/6+', '4/2/6+', '4/1/6+', '3/6/6+', '3/4/6+', '3/3/6+', '3/2/6+', '3/1/6+', '2/4/6+', '2/3/6+', '2/2/6+', '2/1/6+', '8/16/-', '8/12/-', '8/10/-', '8/8/-', '8/6/-', '6/16/-', '6/12/-', '6/10/-', '6/8/-', '6/6/-', '6/4/-', '6/3/-', '5/10/-', '5/8/-', '5/6/-', '5/4/-', '5/3/-', '5/2/-', '4/8/-', '4/6/-', '4/4/-', '4/3/-', '4/2/-', '4/1/-', '3/6/-', '3/4/-', '3/3/-', '3/2/-', '3/1/-', '2/4/-', '2/3/-', '2/2/-', '2/1/-']\n",
      "['6+/-', '6+/6+', '5+/-', '5+/6+', '5+/5+', '4+/-', '4+/6+', '4+/5+', '4+/4+', '3+/-', '3+/6+', '3+/5+', '3+/4+', '3+/3+', '2+/-', '2+/6+', '2+/5+', '2+/4+', '2+/3+', '2+/2+', '1+/-', '1+/6+', '1+/5+', '1+/4+', '1+/3+', '1+/2+']\n",
      "[[0.2900064411566179, 0.3211634453674935, 0.42322194269666447, 0.3031240455065376, 0.27298308711313424, 0.5238397308028245, 0.431156423527173, 0.29673630008000595, 0.28197794583096847, 0.6633164474047712, 0.5778577149387802, 0.47713774442939505, 0.3091270034246266, 0.3157299800293678, 0.7616221886604362, 0.7041798724486326, 0.6577105444929329, 0.5319511897023068, 0.28556538662454545, 0.28003829739090846, 0.8580074673695398, 0.8585908580787444, 0.8242419574366199, 0.7642305026153327, 0.6529048777941165, 0.284061779375005], [0.2872914934340043, 0.27333122299291956, 0.37616760231645496, 0.28316342682040363, 0.2572262914015464, 0.5020867481808583, 0.4064754146142947, 0.2743815677115208, 0.25763345436056506, 0.6281668003646115, 0.5603838562420611, 0.4620890330522647, 0.2735613567264562, 0.23843359519413965, 0.7481149432611567, 0.7127944337567349, 0.6220468854041288, 0.5082112031215229, 0.26312491617012346, 0.2534090079392285, 0.8515059047057207, 0.8565517680726674, 0.8218076932501599, 0.7525460492601652, 0.6413873337502258, 0.25392849487813207], [0.12566051817412893, 0.13615663129893685, 0.2905771066086462, 0.15198805069187793, 0.15100224650368654, 0.41494698350722536, 0.2917192140577263, 0.12237043172143791, 0.1431409334611955, 0.5686162843485714, 0.46413331524173795, 0.3494135263922895, 0.1496353433152201, 0.1589743121756566, 0.7168321563893849, 0.6481584439277552, 0.5744192680851459, 0.4066576172066896, 0.1949451238556078, 0.17817833743500067, 0.8222437551897541, 0.835610177136314, 0.7734673734451607, 0.7138248066415728, 0.5551031880244524, 0.14327474358904635], [-0.03139409513005387, -0.015162770148361315, 0.14817902178898756, -0.028485555179346478, -0.03153142288010291, 0.3324249103034007, 0.1803327760724287, -0.033354232277392426, -0.028033073602820147, 0.49447673366972034, 0.371588906109692, 0.23599581636753375, -0.03024922781963435, -0.044537328018053546, 0.65406316888206, 0.5830547988196289, 0.4895261729332996, 0.31068749378935645, -0.0020953295711374498, -0.01043010913723863, 0.7919086798263457, 0.7905616305685454, 0.7448569841468553, 0.6549801528362926, 0.4726358916525024, 0.028713296357837037], [0.26088907920982196, 0.2627260531861424, 0.360355400989225, 0.21071647908250124, 0.22916958844887314, 0.5026457745024391, 0.37611727266074524, 0.22185365852604444, 0.21961749408704723, 0.6274500108277636, 0.5517087376783306, 0.44002327037568567, 0.21341952391625163, 0.21957713650826127, 0.7479638733746774, 0.7006187384742986, 0.6162112488697563, 0.5182856552735209, 0.23808050339635056, 0.22486461940652613, 0.8514500397011124, 0.8480399810482234, 0.8176862811901258, 0.7417201881337547, 0.62803354732306, 0.2494731249294363], [0.08280189718250586, 0.10941350866417499, 0.2421151987163116, 0.13085136276621956, 0.08280336215328588, 0.40427902607459554, 0.28593104502516975, 0.13112655313838228, 0.114551464792498, 0.5622719049473296, 0.4652924447442759, 0.33276476081634576, 0.11559351641503879, 0.1287180443396344, 0.7037096138065655, 0.6535641858344414, 0.5628533427320277, 0.39547677283233795, 0.09254570891719927, 0.08504650346481857, 0.8218013861375382, 0.8164055813530848, 0.774171357160301, 0.7044974958259924, 0.5513829130957831, 0.07916944606751675], [-0.0655159237180275, -0.04555722041396382, 0.09483321843234493, -0.07109645853457336, -0.053554993441430665, 0.29288459568896996, 0.1392672451485928, -0.06874626424107222, -0.05148728601499608, 0.46567148893694965, 0.3524919467252059, 0.20676264751410445, -0.10074613955157019, -0.09543287918068455, 0.6515898461633987, 0.5879917882212407, 0.4594201899010949, 0.3026140571463526, -0.037092238987271764, -0.11168631665729534, 0.7887966679274513, 0.7861358748065925, 0.7337148035312422, 0.6523092066182159, 0.47425568747586555, -0.08131232468404226], [-0.1976909907937272, -0.21814566563853177, -0.067913775102869, -0.18789661959265913, -0.20520003939357956, 0.17036604279139378, 0.009923497395069258, -0.20898584588015046, -0.21526946629439847, 0.38392196362214637, 0.22657646467658443, 0.054001422464441284, -0.206305140566578, -0.23084539607193677, 0.5827661362786432, 0.49458899698091263, 0.3575928077820776, 0.1339616693967417, -0.24187857021239212, -0.21331261922948497, 0.7552525232649945, 0.7442447993519277, 0.6864743909174309, 0.5882915241472478, 0.37365394766252613, -0.2650466212124566], [0.20090076876959206, 0.20249265079080625, 0.3227390057352567, 0.20628753176600667, 0.21176220477255125, 0.47432709611821167, 0.34510191865275597, 0.19891388312743685, 0.18013155658257707, 0.6050496736486871, 0.5228147079243675, 0.4089152902455224, 0.14915482535295355, 0.16815515475733545, 0.7202526341887623, 0.6890374268223767, 0.6005381297877836, 0.4801846546990176, 0.16650091329154681, 0.1652797793325662, 0.8420417305761669, 0.8389179499480698, 0.8004914213077042, 0.7251486936462979, 0.5945241235262583, 0.1775378777807246], [0.06836909698335203, 0.055476884490657574, 0.21922755745242184, 0.039669979497163665, 0.03100678970480486, 0.3611855296024531, 0.2812032103798998, 0.0704675996372095, 0.043969723977484776, 0.5220220063871448, 0.4289721570647429, 0.2968467771175973, 0.05601150993396309, 0.05615185926437216, 0.6957936017592483, 0.6246748473140785, 0.5273749955089655, 0.36319177324881713, 0.04418321520474733, 0.031654514770056874, 0.8079199268562215, 0.8195937504825073, 0.7639612225273494, 0.6822067410657993, 0.5386520079558741, 0.04790745015942666], [-0.1135632882604829, -0.12047923299110352, 0.06841250817150468, -0.09676205440771402, -0.10502341500971923, 0.2357841268478561, 0.1301741194417021, -0.09924511397649882, -0.12835719728192863, 0.4493894162291152, 0.3495895491245722, 0.1591478773139985, -0.10930952826992191, -0.12470262506941632, 0.6202749778337536, 0.5323338577362684, 0.4519165665338243, 0.21209964013427007, -0.11296148870478306, -0.1541265096627752, 0.7697257723242148, 0.7706419114475606, 0.7116773912697574, 0.6176246621165917, 0.43249879677125525, -0.13328955998646574], [-0.23313877536927186, -0.22813294150342545, -0.0842085810835107, -0.2223238113439654, -0.25344904687031, 0.12624806120229737, -0.023241329530319654, -0.24737342062217726, -0.2593242397139669, 0.35412923963991116, 0.22078421404713444, 0.0008844055228685033, -0.23500889262177338, -0.25419772053619993, 0.5667388387650834, 0.4800869429297042, 0.3417370246029402, 0.08810097170543274, -0.26490108764053355, -0.2432408287596507, 0.7332341302311962, 0.7391091663319431, 0.6677703526428121, 0.5671895629236274, 0.32237598268047885, -0.2843870785836622], [-0.24034300495909755, -0.23578351561014999, -0.05913390542595465, -0.23765949950533227, -0.20969003191069358, 0.14746683626377932, -0.050334997963294104, -0.21326401777489634, -0.24321947765947105, 0.364227684318721, 0.21444516970275007, 0.006897454372164824, -0.2608424615335265, -0.23783718237950235, 0.5690462927464859, 0.49044189369524205, 0.3532446307625774, 0.1552653640914189, -0.2467686598042641, -0.2788792983517677, 0.7344880404795325, 0.747016078022028, 0.6745825685317179, 0.5629134238461755, 0.3344483391104094, -0.27251487695787524], [0.11214195702789065, 0.07701950611443253, 0.2687862137469156, 0.11941327309679817, 0.11965377217758533, 0.41228969493997103, 0.2846283632801766, 0.13547290333361361, 0.09186311112596734, 0.5638365856185801, 0.4677484532281536, 0.34147351897795086, 0.08289632500173916, 0.09306743521916161, 0.718221594212419, 0.6490524072541537, 0.57497102013043, 0.38834565350726813, 0.07466332685526711, 0.0722563908934497, 0.8254058029136897, 0.8233797348588016, 0.7778835786691246, 0.6985027497380278, 0.5385614351667709, 0.08196937379480485], [-0.017511881604855284, -0.043564418813301864, 0.14824420523438475, -0.032232659067103486, -0.056131690297584025, 0.3321735892363943, 0.1676903458222052, 0.012033414997031922, -0.0543637568535732, 0.4860168887783056, 0.40083003830081376, 0.2115310122147176, -0.03231964257317077, -0.03722129147477138, 0.6678128331325068, 0.5769160399733022, 0.4865128850127727, 0.3054752876025024, -0.06893233481059835, -0.09141424218811722, 0.7893627852804419, 0.7975557881404067, 0.743835033734682, 0.6629481035002149, 0.48105071953136713, -0.05408004564145752], [-0.17225836906999104, -0.18976404502099997, -0.020101817107528452, -0.19446518794338352, -0.19794511668272308, 0.19700945996305308, -0.0016469415269416698, -0.1650458110515941, -0.17033663658457932, 0.38950697979394033, 0.24945792258942479, 0.0649186236949203, -0.21327467879953776, -0.22320000926855177, 0.5976487328334182, 0.5058452496928081, 0.37653110760334385, 0.15849614813519985, -0.23235476602326943, -0.19289407977427453, 0.7488415237619068, 0.758317974643272, 0.6858410891752585, 0.5868387088199774, 0.36118740393443904, -0.20928584823810437], [-0.30690387878980085, -0.29722155429996755, -0.16868717824299873, -0.299002636135545, -0.32546414355051134, 0.04335773223475259, -0.12432754795888479, -0.2964778304712108, -0.3062367651917606, 0.2592492908961622, 0.1523175638035208, -0.09564250144954811, -0.3214842485488709, -0.30312668938529974, 0.5254358815157256, 0.43248061094145707, 0.28395645049875207, 0.028585953036677214, -0.344000959192843, -0.34945135150119, 0.7092660811857314, 0.7074490369957249, 0.6557242797238998, 0.5221625512994648, 0.2680653795057302, -0.36170751688943825], [-0.2863556396789969, -0.28174594839113665, -0.14084510034903308, -0.2997147082220818, -0.29183741902024496, 0.08153948826696711, -0.11691587337307174, -0.2841209155606975, -0.3107389585073308, 0.2943801668066539, 0.14120559450015036, -0.08241407071028573, -0.3125745975135058, -0.3108809657765248, 0.5378088522274291, 0.4312816695682785, 0.26840914461058996, 0.07374306474525183, -0.32469435296817484, -0.33469053989506115, 0.7068706720481108, 0.7118197033945348, 0.6495112906063729, 0.5182296959665114, 0.28193367430830085, -0.31470372949723957], [-0.16564630960781757, -0.19584290695471696, -0.024333062846487175, -0.17972502192234663, -0.19234271834090322, 0.18872827725669872, 0.04939646930452213, -0.20795056783662857, -0.25640869625241414, 0.36594907834137547, 0.28081453450111293, 0.06123451451626627, -0.20164555058318312, -0.19303019974529168, 0.6053281790691325, 0.5010545671744218, 0.389524151782787, 0.1630212440102824, -0.21229901200322987, -0.22738301027009844, 0.7497644506563094, 0.7551357778849511, 0.6881385348560694, 0.5743168985492229, 0.38416423942322064, -0.23834464324853388], [-0.30841630505462225, -0.31794144717155515, -0.18891576136295918, -0.31141144688387346, -0.32117417394157277, 0.03878323425892505, -0.1306544892286866, -0.3222054091894917, -0.3525684854547797, 0.27733942063862005, 0.15487903133831638, -0.11988315491587764, -0.3186554956881341, -0.3426393383052807, 0.5109529418531031, 0.39602552654736034, 0.2594142246198641, -0.0021076960821154733, -0.3233701629346193, -0.3556762573485388, 0.7048091887538122, 0.6991180458810349, 0.6240961880235039, 0.5115444701542501, 0.21128473406246617, -0.35643736806922777], [-0.42103192965168845, -0.40733468867225875, -0.2962097789990018, -0.4260699821894962, -0.4304285954403748, -0.14068753042533566, -0.29476697313534905, -0.41654863987483315, -0.3986379320222696, 0.1584427441667321, -0.03554400826116444, -0.220146930069691, -0.4272761676924748, -0.43530716539235126, 0.42569357456886947, 0.3112719263237471, 0.16203459627464878, -0.14892556669888268, -0.45733723433645446, -0.44674332979292974, 0.6424184058308238, 0.6526479932727736, 0.5511499375979397, 0.39264624528912107, 0.10290661677593238, -0.46330850532831813], [-0.4055552371130655, -0.4053476990416973, -0.2965390120283182, -0.40182390721845695, -0.42478694377840476, -0.09903024982463371, -0.23876412187800355, -0.43421164403900125, -0.42989967692948605, 0.15283717891140758, -0.042144112097736386, -0.20505116906685106, -0.4331599026715146, -0.43939491174265677, 0.44350892501165873, 0.3219572520485574, 0.14030538628038913, -0.13587707015711437, -0.4277098696347893, -0.44914602180675667, 0.6612166208040672, 0.6660718903214857, 0.5748970358555109, 0.43605202083935524, 0.11334475740478855, -0.4400680302072961], [0.2737864424094879, 0.2739389611922469, 0.3999900498794774, 0.2752076895733446, 0.2889810182176813, 0.5157875739515483, 0.4176353304742785, 0.25500403757986256, 0.28144477201258256, 0.6376023763786862, 0.5688679979121193, 0.45170971415249705, 0.28586367241978006, 0.2776531803292265, 0.7606699716406113, 0.7091692676647763, 0.634071567255077, 0.5091591279431337, 0.2791388730317016, 0.2839255205529633, 0.857794474195392, 0.8559067033393867, 0.8176777088644757, 0.7521336323535672, 0.6326653166812051, 0.25794416798829545], [0.254456476302084, 0.23205960374973356, 0.37104389970784346, 0.22340252778793224, 0.21828760822246673, 0.4798746370208452, 0.39005044138929656, 0.224364111189033, 0.2394191775953588, 0.6150056407364333, 0.5326556383089172, 0.418412670104114, 0.2456440709136204, 0.2335015087532002, 0.7462991624741231, 0.6871212550383266, 0.6130086815738301, 0.4858571173396393, 0.22128384248428157, 0.2258654361039174, 0.8462789593577938, 0.8451151629684056, 0.8099233653309508, 0.7525437666441088, 0.6112003358700695, 0.25393407838055326], [0.09645598140951217, 0.10603188182842138, 0.24008134992953378, 0.11406934259229884, 0.06754161033255024, 0.39878933908104486, 0.28229691778318744, 0.0886568505369324, 0.09252659612860847, 0.5588232636720496, 0.4604561101047445, 0.3072450170196689, 0.0946896949631294, 0.08642394303487677, 0.6996892971284588, 0.6351072668801031, 0.551637025398765, 0.39809726152507885, 0.07331215997387774, 0.09599142064523758, 0.8176581397888386, 0.8190519106149854, 0.7684796105457987, 0.6959991586103669, 0.538210814788054, 0.1001169901259209], [-0.06314026752354374, -0.06640332447627406, 0.09568605170516453, -0.0626269401320868, -0.059281522749516924, 0.28840510668200925, 0.1358698042689055, -0.06706503708495137, -0.08948866259729793, 0.4712901937103475, 0.3667383689872685, 0.19332788060888273, -0.07887304687445074, -0.06861849937706521, 0.6342184368302799, 0.5840717775963769, 0.45224448158591246, 0.2707520459707443, -0.09437588697403798, -0.08739268674381773, 0.7804390928847817, 0.7899082663581533, 0.727651260830866, 0.6507831285440002, 0.44565990447400283, -0.06495669356206846], [0.22219872878747915, 0.19181212642995416, 0.33776598608837827, 0.19129999992205993, 0.20159464251305403, 0.47640620452607985, 0.36577234790404944, 0.21104485120168603, 0.19128740106720266, 0.5987158432900039, 0.5132293516335432, 0.3953408575621703, 0.18710895592947885, 0.14286696392959852, 0.7348693178538007, 0.6914840230509327, 0.6022265323973992, 0.47830783076703953, 0.17901405679377025, 0.18035634273217382, 0.8402835095223655, 0.8434351797569541, 0.8000290373920367, 0.7324130799247963, 0.5824449871160733, 0.17600142631569704], [0.07795766302436424, 0.07051781973505444, 0.21577534484321492, 0.0740235992995818, 0.07068082566473455, 0.3748546372318222, 0.2497615770274284, 0.06919973699692106, 0.04739212625352951, 0.5326245145099502, 0.45786174566250726, 0.2879785026556959, 0.05850189498807379, 0.04532895093143163, 0.693712669658386, 0.6229127524916886, 0.5368739804900056, 0.3761137232444266, 0.04528751535096298, 0.04090598288576386, 0.8121965675307729, 0.8105950094918419, 0.7660123994063419, 0.6952546662058139, 0.5230886513892716, 0.04748251601551179], [-0.08817675856183638, -0.109936417112664, 0.059940640622250574, -0.09474081482495145, -0.12213320632091018, 0.26588715274072316, 0.08320244467806381, -0.10946154535916353, -0.13043967673308843, 0.4433082920866951, 0.3184719124631603, 0.15167876633858957, -0.11735305728087064, -0.11485937047926731, 0.6329481101006407, 0.5555696192126607, 0.4522301959662568, 0.2352956371640551, -0.13380479373906085, -0.13275464824359196, 0.7789986739754876, 0.7775779389557473, 0.7156436659685639, 0.614677106682336, 0.41096500060443486, -0.14181049840899573], [-0.24647335476894883, -0.2368773581748158, -0.08375131014996218, -0.24114277634211545, -0.24123864467243628, 0.14010395222797556, -0.055695067513159446, -0.24051239940896452, -0.2571220655333214, 0.3417234428672645, 0.2216249182906158, 0.008782952598997196, -0.25551387348643917, -0.26577749400326933, 0.5649265245560842, 0.47289663683644256, 0.33266323972921985, 0.10989096234195939, -0.25838692273922215, -0.25993938423908247, 0.7335529284831253, 0.734604876430961, 0.6685694364286604, 0.5553106457190874, 0.3079002139089345, -0.24470771474821362], [0.14361233296315445, 0.1207911744797241, 0.2825268831660004, 0.14668021918566287, 0.14556280943740996, 0.42923879808900456, 0.3034497686476876, 0.11788194036178556, 0.14029917517529733, 0.5749504640239325, 0.4940463523285745, 0.3467294158022699, 0.12724456454168054, 0.09746661670013368, 0.714019729193243, 0.655480930890106, 0.5694625990758562, 0.41189823510078993, 0.1264895801726842, 0.12241650412673688, 0.8307676448943039, 0.8254276051462546, 0.7794200421002397, 0.70266628303434, 0.5445748605913283, 0.11514197910484669], [-0.010683816592925499, 0.010260202941883678, 0.16516742271481855, -0.014109127583304626, 0.008033419852215173, 0.3379116345940154, 0.19105457443012774, -0.011538640606329476, -0.042400756154838626, 0.49859829400388245, 0.4058748654501976, 0.25291622371597977, -0.02044061266498376, -0.025227354505852784, 0.6737633440779849, 0.602382095111854, 0.4904557072619091, 0.32160324468306045, -0.023674106862028532, -0.05518762336633387, 0.8048650592903412, 0.7987211897840305, 0.745401439953203, 0.6604507977843979, 0.47734620592377575, -0.07159781703527379], [-0.17637123618975026, -0.1560876169248845, 0.011341351875055694, -0.15178313263278365, -0.1664466422620352, 0.2107015075915304, 0.052040427259848254, -0.15374009992432125, -0.18805617924078244, 0.40664125489906633, 0.28181185972140443, 0.09230405862959445, -0.18002376317246904, -0.19199921449307245, 0.6071786567052764, 0.5171303191490544, 0.40292401956296386, 0.17857230154081594, -0.20167886570756233, -0.2111193195594252, 0.7603881269388294, 0.765172361424081, 0.7006467468572546, 0.5853706767099678, 0.38178040642269717, -0.21178039413298655], [-0.26779434893574805, -0.27955000602879465, -0.13676202431401896, -0.28575006087116994, -0.2907226033095015, 0.05696832697261034, -0.11290113716465955, -0.2965560128096173, -0.29517584624600746, 0.3047981189741117, 0.1604230788144857, -0.05084714273314306, -0.30208602895490677, -0.3317427587014914, 0.5444417145561999, 0.4515148296173873, 0.28781616629235807, 0.05740307002628864, -0.3036651465616418, -0.3373026737285436, 0.7178035505113183, 0.7159639869706853, 0.635795420565713, 0.521095454281, 0.27619229363945896, -0.32944261701974353], [-0.27111295848647776, -0.26804848984200835, -0.11203873556919453, -0.28983157799293036, -0.27819921648209733, 0.11253692506353852, -0.0934151589231016, -0.2859126687111959, -0.3038927853153144, 0.3114591007017371, 0.18402736876734216, -0.05208172876285433, -0.2912029009948023, -0.29773247438784145, 0.5405194041022632, 0.4557013246678877, 0.2990090238770996, 0.07920705153564, -0.29284519844518186, -0.31124745947196863, 0.7230095298915251, 0.718436883318148, 0.6549156497929589, 0.5329693062282259, 0.2981169073591622, -0.3090523475277901], [0.037147564414091394, 0.024382197507645698, 0.191019485330146, 0.018419881327919274, 0.020191896840497603, 0.3630228014212131, 0.23085869893535726, 0.025459894914986236, 0.012749960597161047, 0.5219751359814433, 0.42623660722723544, 0.2707128612642935, -0.0020274352522986483, -0.00023744501788069972, 0.6835972728585344, 0.6072768651255056, 0.5076238148801717, 0.34172040667588255, -0.03687417197757603, -0.02543081136728842, 0.8026259700210631, 0.8041751194838423, 0.7526617414815854, 0.6780318369851441, 0.5000737025460509, -0.038728707044946575], [-0.11242562104889509, -0.11476211786406876, 0.05119186977927259, -0.12026578138962973, -0.13286134203921574, 0.2546941085758304, 0.08417135010714238, -0.12232681831779169, -0.11924741035758812, 0.44263370128192214, 0.3086310244343654, 0.12592729428884442, -0.12997165572823988, -0.15391376866612627, 0.6271974090884394, 0.5451459299304149, 0.4176878884474423, 0.22535728847542957, -0.15657078499642907, -0.18547712420277707, 0.7817987444364989, 0.7708296138145382, 0.7102840338048385, 0.6040040963987258, 0.4199715147870775, -0.16268521345610198], [-0.25246744979771785, -0.2529975479253399, -0.1006228026069309, -0.27372374783676345, -0.27356292609945254, 0.11563264136976548, -0.0736376237648585, -0.25562042972653554, -0.27490355233591246, 0.3430322226162298, 0.199065094007028, -0.0012577522456784784, -0.25704107626510575, -0.29303111145188854, 0.5644827531156267, 0.46886809146929453, 0.31379401222010106, 0.09498072934716073, -0.29147776447864115, -0.3134012113541137, 0.735613651003618, 0.7340852081147917, 0.6566314053361089, 0.529030714891584, 0.30389241216286045, -0.30632035339290786], [-0.36723246876162197, -0.3716227172194182, -0.2272067511369863, -0.3618501806396578, -0.375728559891209, -0.054947423195461975, -0.19893623784458458, -0.39392747892912017, -0.38389686741878515, 0.22425288299815926, 0.058160832727277234, -0.17851011448169474, -0.3925625398994793, -0.4056515934899646, 0.4768959332295304, 0.38378581744721507, 0.21184737365875306, -0.07746006638804914, -0.40161615668473594, -0.41729261799036055, 0.6863569408328921, 0.6823143948262633, 0.5927441242904992, 0.4562624445046807, 0.16706428137194884, -0.4039240864654451], [-0.35762534723079054, -0.36081014391279076, -0.20825389162796115, -0.34635440602422696, -0.3572720819616142, -0.013339436529078985, -0.21118081617514062, -0.36731546803267556, -0.3619587352763729, 0.2366353763975544, 0.0753241659275321, -0.1407976102194327, -0.3702552518263649, -0.38701361795154765, 0.4857329847068619, 0.4005698474134327, 0.24003293210755006, -0.0416849744167157, -0.3844381785685581, -0.40199166637182737, 0.6923670247648464, 0.6866604017727876, 0.6134861071504846, 0.4709807053027967, 0.1667401301197461, -0.3958069268387332], [-0.2688379230522252, -0.29749120886024216, -0.12871097325902203, -0.29328998166653875, -0.2908089726998263, 0.09681986411829735, -0.09287637866465615, -0.30490514552307857, -0.3229323803683498, 0.2950231380446644, 0.136432470436035, -0.053395251476232586, -0.3190168302648786, -0.3188296810175877, 0.5410818457559348, 0.4512068111053893, 0.29485701440347245, 0.04312873190130084, -0.32887828452107115, -0.32192006746899793, 0.7166076379666797, 0.723463094704714, 0.6430144195735459, 0.5156591750972492, 0.27902890169155636, -0.3234399371921778], [-0.40422536186468505, -0.4010233408632222, -0.27620152268342135, -0.40519221261864646, -0.3900421626562106, -0.09479139276257265, -0.25440216553065575, -0.4170252508978771, -0.4142346563220174, 0.18581997390835403, 0.009610879877352763, -0.2134369477302489, -0.4124055295700082, -0.4360136578446059, 0.4500740916756102, 0.322921716272487, 0.14920733487120963, -0.12067576296654126, -0.4346999862755909, -0.4561582901059641, 0.668603439523239, 0.6674214564505758, 0.5763430515697103, 0.4161493626036863, 0.13268866806148993, -0.4402702808143042], [-0.48505451719280324, -0.49351370861639865, -0.3940563905387485, -0.4958248727734146, -0.4972360329257872, -0.22516546962797745, -0.36729282330161306, -0.4969634731844219, -0.5014243995190091, 0.04490288152112243, -0.1482516259882959, -0.34211463684766985, -0.5073011486182886, -0.4926470018815794, 0.3458401532532229, 0.19903839662792577, -0.0009737690258568854, -0.2596450474048746, -0.5172108213440793, -0.5216102718356599, 0.6102324546231475, 0.6060404009149136, 0.5003235504750017, 0.32936675243591296, 0.0035917502324784856, -0.5291201032134498], [-0.4742625859099312, -0.46923587815915824, -0.3623988673355698, -0.47997721464949317, -0.4890952520356352, -0.2021732144549886, -0.34229338079792593, -0.4844932274641297, -0.48015352720557114, 0.05429067800786702, -0.13388254881212458, -0.29938812077564647, -0.49256072026020337, -0.50851409647242, 0.36746699104224345, 0.24748906649119062, 0.024917891371235013, -0.22111250270689675, -0.5084453342448172, -0.5099351516904098, 0.6278914897661546, 0.6206713327754234, 0.5085033197820353, 0.3268215638758545, 0.0059706575205334955, -0.5086727220396582], [0.031003253691550214, 0.0258467052854775, 0.18928683874782237, 0.04367072734843913, 0.02040564282595847, 0.3518163459178356, 0.22292407095360733, 0.02049587795815022, 0.031623574036615754, 0.5140876120989815, 0.4210374091760811, 0.27217315534203523, 0.02938720833610764, 0.03644083661487307, 0.67912172039779, 0.615434435776437, 0.5177123354155451, 0.35156239607937945, 0.04253058436359103, 0.03498512080516791, 0.8085237102871594, 0.809251501373941, 0.7548491129692272, 0.6712974110804599, 0.523299145929152, 0.052726064142815554], [0.23104564194014232, 0.22240322156355374, 0.37239683510999966, 0.23361437436310495, 0.2281480815569915, 0.4893730370631557, 0.38267308090049124, 0.23694574786940392, 0.2381612584570364, 0.6167523675189766, 0.5435716438358207, 0.42777274838758017, 0.2388693015250718, 0.2250296267114419, 0.7454776070098285, 0.6945189928008102, 0.6155050018006663, 0.4835264349917465, 0.2273789919856829, 0.23331164939298432, 0.8465373423402617, 0.8480772759762218, 0.8082573581255991, 0.7417798456727454, 0.6176149633268977, 0.2434274580804754], [0.37669544378666864, 0.3708985342824138, 0.48172738486798417, 0.37949015472227676, 0.3769721399253716, 0.5840919436713696, 0.5030192753685747, 0.37176478987422445, 0.37356798931991797, 0.691370123919128, 0.6215731647181155, 0.5273730708462847, 0.36734466956245293, 0.37153076292491083, 0.79435167190437, 0.7495387648922576, 0.6881509294609295, 0.5884743783692556, 0.37432493439415326, 0.3733906133355397, 0.8754128328237912, 0.8757935361917555, 0.8454431768113251, 0.7915334221972437, 0.6904116629021868, 0.36504612788717294], [0.5154886009796464, 0.5094468172376119, 0.5969875867768055, 0.5140295506624948, 0.5143047544552866, 0.6745670691442777, 0.6108107694816484, 0.5139082016310341, 0.5058624830267231, 0.7580127207704987, 0.7082631140901412, 0.6365241364700114, 0.5205817947888948, 0.5143894449736691, 0.8388258586107384, 0.8059549743070461, 0.7577725995843758, 0.6778085435503474, 0.5068363655979902, 0.5157177397274836, 0.9031411581300974, 0.9027005297912558, 0.8775775422957977, 0.8361290427512548, 0.754162415912768, 0.5107087662310779], [0.250106281692251, 0.24075248636107072, 0.3736423380082803, 0.24588365292201309, 0.24956138920080662, 0.4981100504859648, 0.39863181672132986, 0.24309698138785218, 0.24264179966136634, 0.627463753536831, 0.5445394977824464, 0.4351706840619006, 0.24412546092330323, 0.23802534962288968, 0.7514869924231076, 0.6965881078001224, 0.6285105598134122, 0.5022337892390145, 0.24710207776152793, 0.22714048836681489, 0.8480250601796671, 0.8486956919251079, 0.8130250722310157, 0.7477231809465952, 0.6181708375408175, 0.23988576501974368], [-0.0448690849298079, -0.04128629293968811, 0.13439669193953885, -0.05053030448059037, -0.05158575962035694, 0.30151843306945836, 0.16619091703873756, -0.029409357810419867, -0.06267429283194415, 0.49055157804833927, 0.37550481254944135, 0.20986956822250136, -0.037272451279443564, -0.05237212875524466, 0.6493557692168865, 0.5872860657588691, 0.47893887720298345, 0.29993351445783145, -0.04634270231481474, -0.052955778933597375, 0.7936988782946239, 0.7919982645262132, 0.7331852438593365, 0.6515951600943332, 0.4764156822463028, -0.05577818685218683], [0.18336891292448987, 0.17694343324693262, 0.3269658715952578, 0.19293402665881776, 0.18943131981609496, 0.46184679237846493, 0.34464200720046545, 0.1781104479875617, 0.17024391668396244, 0.5934375941248329, 0.5129682903660955, 0.38044521220727434, 0.16938529314454787, 0.17389092812813256, 0.7281775108021189, 0.6715094250820239, 0.5958941920425057, 0.45069553282817243, 0.16125878257643145, 0.18656657093331275, 0.8361555191721763, 0.8375129627942222, 0.7942927461729169, 0.7208466413925538, 0.5770214295773967, 0.1771939772087997], [0.33854842577489097, 0.3364355564787088, 0.44832488157633654, 0.3379117951870475, 0.3354061107367001, 0.5549583115616812, 0.4659244294506466, 0.32953905187549337, 0.31747539491385235, 0.6742036159542554, 0.5944949797463257, 0.5015406710359411, 0.32296102979729546, 0.31393801280181666, 0.7780036651559573, 0.733663951084417, 0.6604773268792876, 0.5524916119082068, 0.3162692417807844, 0.32595863556665416, 0.8655852244576652, 0.8677902281185459, 0.8324100103860673, 0.7769404860209345, 0.6551720260836366, 0.31474874921546037], [0.4853844431645231, 0.4912225575883903, 0.5723811159312473, 0.4872850483194733, 0.4804200884438736, 0.6594174346200627, 0.5892940033657983, 0.4806359662768458, 0.48129536963941133, 0.7437970717230737, 0.6877463908310859, 0.6073351790022063, 0.4758425231127261, 0.47180902549379433, 0.829896038929586, 0.7916627052395286, 0.7431165704925162, 0.6543969524891187, 0.4780634616887023, 0.4695479249929415, 0.8975364587373327, 0.8971816645230788, 0.8708793588371988, 0.8266993864041048, 0.7326568677465304, 0.4769991923494684], [0.20301503942977306, 0.21302916887606282, 0.3315054098193849, 0.21090305739589277, 0.19359479472297225, 0.47203905171914484, 0.36677975215001446, 0.19318493208760934, 0.18845750772034586, 0.6018459757894021, 0.5198861857528999, 0.3894430576681721, 0.19423496630122394, 0.18996577133034376, 0.7350598169673966, 0.6824527506588899, 0.5969078842769705, 0.46152580254126585, 0.19587477648323126, 0.16012745721323896, 0.8402567052135925, 0.8408612016840953, 0.7992342488616355, 0.732397347749839, 0.5951124871514251, 0.1884155498116491], [0.0786991783024582, 0.06791016840754494, 0.2243954621302815, 0.06341422059376012, 0.056423587121521734, 0.38379689318336485, 0.251889378621419, 0.06499296342415206, 0.05356249965584814, 0.5366392748848055, 0.4448999911767737, 0.2961061260664757, 0.06264970294341599, 0.045250373978513725, 0.6915546851090741, 0.6269358301295255, 0.5323560692914509, 0.3698160378398456, 0.06435473214349319, 0.021460018367696287, 0.8120247936463435, 0.8143597966675695, 0.766812001269292, 0.6809246565425815, 0.5289980514034542, 0.03737475643666821], [-0.10017770985454177, -0.10786476564780001, 0.0780310105825256, -0.10228726570282543, -0.10118565832257698, 0.2576010787143779, 0.10547469368236617, -0.10745983422008198, -0.11853582566526799, 0.44067598415903164, 0.32173288310262094, 0.15963998344323405, -0.1252643245745474, -0.12156133262664948, 0.6298873583165152, 0.5525327484210191, 0.4452588743241186, 0.2448945032944171, -0.13249201762231722, -0.13699155685053022, 0.7761939578659087, 0.7774167559597582, 0.7223635489031037, 0.617807445890156, 0.42925656209240015, -0.14098136922242488], [0.2888053741575157, 0.29703390514048633, 0.41479614589331637, 0.28452224861427056, 0.284155773437626, 0.5331071097723123, 0.432482882319949, 0.27515261921909284, 0.27932274334209506, 0.6496945562148426, 0.5769631293208446, 0.4667894084316817, 0.27272943439943675, 0.26907894186335246, 0.7659726395370237, 0.7184184004582854, 0.6420394784640696, 0.5249277601009497, 0.26462845180508865, 0.26620621972161995, 0.8598752789147877, 0.8586240511647903, 0.8225195815094382, 0.7635797888175537, 0.6356041275763182, 0.2606474403826933], [0.45703921720609164, 0.4512915741129777, 0.5489962387674571, 0.45880963426308485, 0.4542794041950483, 0.6386472480754182, 0.5604221622452528, 0.44927930409629124, 0.4517470926397844, 0.7274498051611885, 0.6717751618076069, 0.594265529209904, 0.44403757896475526, 0.43671955902629067, 0.8187799059162082, 0.7803139584084429, 0.7260308105337411, 0.6268824026766306, 0.4292313950883203, 0.42495964060831104, 0.8909081421193592, 0.890918734682331, 0.8617413915305467, 0.8165977255736759, 0.7153614376656827, 0.41533483437035656], [0.1599542929875949, 0.1560063732140181, 0.297440188469701, 0.16436983272592864, 0.15288525710927658, 0.43930109242903115, 0.3228500440370823, 0.1556720493500574, 0.14760879850493602, 0.5807250355467999, 0.5036710851457883, 0.36332863643104907, 0.1441514572024276, 0.12902354130046845, 0.7232124025012509, 0.6634591433365782, 0.5737034633032968, 0.4305377453166722, 0.12344328743024291, 0.1054842675922969, 0.8313199965675088, 0.8303518296314899, 0.7885309779627376, 0.7147915440576145, 0.5676171801250717, 0.10462760406226623], [0.022457420921870752, 0.02744398182229124, 0.1857223241180228, 0.021370595434965667, 0.004235969832314113, 0.34804362619356577, 0.21621171811819984, 0.011741760268671686, -0.004846921391782777, 0.5125873408811196, 0.40764559338105155, 0.25711697563115277, -0.005940446922764964, -0.018437062317639863, 0.6752536697378796, 0.6065589219423297, 0.5004123732905899, 0.320499943456364, -0.01618684806402626, -0.03654637416027329, 0.8020354996358385, 0.8040843272091549, 0.7544883009389219, 0.6648445902593498, 0.4922664806581454, -0.03073390753848615], [-0.13585677678706065, -0.144531635328627, 0.03615332723551479, -0.15251428197574624, -0.15263511531613538, 0.2251384041146115, 0.06060292925706379, -0.15302539510020186, -0.16974578822596786, 0.4154057071965396, 0.3007921780374465, 0.12360761718582358, -0.16745675245457237, -0.1833065125700445, 0.6144939083583958, 0.5325304742191715, 0.41487480935033805, 0.2051647527130387, -0.19490307662888928, -0.20014802027594314, 0.7648460512345823, 0.7652245498751324, 0.7031133072439866, 0.5978779291813925, 0.390590520043283, -0.18575124323849324], [-0.2733668408273646, -0.2763623655608529, -0.12108645401910112, -0.27765347088491577, -0.2807114904968935, 0.09221878828200292, -0.09741451090361974, -0.28047422927765975, -0.2958924010792998, 0.31260225418822174, 0.17355541925834006, -0.0486303582305182, -0.29530182286153694, -0.29757045319975894, 0.5433305388032039, 0.4495915018099508, 0.3011602888459841, 0.062056780285977386, -0.3100655921129146, -0.3135461300122414, 0.7231338002226212, 0.7236835609518517, 0.651337087469144, 0.527496095160682, 0.2853056711613078, -0.31319607283231077], [0.4084341408844616, 0.3968675142670507, 0.5053061251763324, 0.3987473451391875, 0.38562174885869704, 0.607635089426003, 0.5233316070887575, 0.3910924741049533, 0.3828399852078842, 0.7012917530258413, 0.6395873182475623, 0.547558902644646, 0.3788153442260488, 0.3727540803667386, 0.8000952276180531, 0.7598030635665384, 0.6977926634200347, 0.5900668675648835, 0.37182151190086044, 0.3677732517426747, 0.8813226812274991, 0.8794145441557955, 0.8472717229924719, 0.7968833130418476, 0.6853292764858181, 0.3594663730553225], [0.08627029710409351, 0.0732584278595062, 0.23711287369709066, 0.08076340477319521, 0.06151963265777449, 0.39218661564147583, 0.2593660006960662, 0.06117170481278, 0.0584534299725753, 0.5455051124769703, 0.4478173110152879, 0.30196440381934464, 0.05067281914050681, 0.028687738554692865, 0.6958884576877011, 0.6308846921562108, 0.5338965582219287, 0.3715040972404985, 0.03858414772236052, 0.01312845656585282, 0.815324445362878, 0.8142561146030334, 0.7651770703056844, 0.6788462581179763, 0.5179648772563861, 0.01593449273544778], [-0.060888439640289116, -0.057799704442446864, 0.1153052089748734, -0.06999610023621938, -0.07959462865835654, 0.29035054726847354, 0.13673792755640168, -0.08009103940881757, -0.09956343947665358, 0.4705762976096698, 0.3498121607664305, 0.18152994292667957, -0.09518653983921022, -0.10491321384190544, 0.6445658975487745, 0.5718713400643023, 0.45748544516114353, 0.2646879091279615, -0.1214394438413926, -0.13836001368655748, 0.7852227023015314, 0.7854781223336118, 0.7300386435705688, 0.630776290146662, 0.4408605142666019, -0.13257670394404963], [-0.21103902043899514, -0.21531071255379153, -0.04997402950189467, -0.2205335564838018, -0.2293513123710118, 0.15334687426796134, -0.02393641506507249, -0.2285153623192988, -0.23348204052184918, 0.36434354352155496, 0.2316035569098246, 0.02518690415645053, -0.23666219554817236, -0.25473596737324067, 0.5752413847012174, 0.488395345027573, 0.3565531215990738, 0.12702328417690623, -0.25325227028977926, -0.2847618511732125, 0.7430909339467022, 0.7463138389791041, 0.680031699143633, 0.559155418585628, 0.32898472232169174, -0.2674034051670444], [-0.32490494321651475, -0.3386711535496917, -0.2017236593203915, -0.3377770538972168, -0.33792567029916454, 0.008938667657860555, -0.16887119571983855, -0.33604207581749823, -0.3513536658969121, 0.2640677018320371, 0.08875298533685749, -0.12433011111747871, -0.3512689230493524, -0.3679589915116078, 0.507074081850637, 0.39531732692488986, 0.2468994334184872, -0.02290992835593142, -0.3613325920878998, -0.38012412534006446, 0.6979153433952526, 0.7003758195773795, 0.6195657350756095, 0.48531206054649156, 0.21273324967766127, -0.38314144844392517], [-0.3200482277934237, -0.323973667156901, -0.17280858708724556, -0.31715809029931274, -0.3273809995988123, 0.028757366078371982, -0.14320668583652574, -0.327216428013947, -0.3399819014716473, 0.2706789705203859, 0.11976572110061223, -0.10114324887056347, -0.3416150616013298, -0.3523359635664203, 0.5175203575307634, 0.4106279071544745, 0.24818509389838372, -0.0144504105956349, -0.35003341838740776, -0.3672861625354358, 0.7067257448779984, 0.7050654160328469, 0.6280012098149739, 0.49580385270637317, 0.2328710558242425, -0.35993402813386477], [-0.051421414742894966, -0.06105458201815839, 0.12109295518490071, -0.060983376849719884, -0.07142394254415207, 0.2937850877219679, 0.1516322885866903, -0.08215403500872143, -0.08919840125701395, 0.47073783450840945, 0.358245927860937, 0.18273932303569584, -0.09114122646249267, -0.10945379336427064, 0.6483410821601796, 0.5690783308610975, 0.45723797798706833, 0.25716387498930626, -0.1026825176103352, -0.12879629284394, 0.7844775540149019, 0.7845372565234346, 0.7284221989274645, 0.6320313996412699, 0.4361741704902684, -0.1407140824901174], [-0.18825095229507893, -0.20013124770884427, -0.022240632743337874, -0.19965878826675076, -0.21216367227737976, 0.18326007538966316, 6.94612255430771e-05, -0.2084939909279826, -0.2135417383727518, 0.38358552581722105, 0.2568319368673452, 0.05945603789420928, -0.22115967960591254, -0.24027975934409196, 0.5911770886770767, 0.5052229365967691, 0.3672163336515787, 0.15024291074131602, -0.24183350563865447, -0.26076144159982595, 0.7504232837685744, 0.7513959551248724, 0.6870595839022358, 0.5723818794405949, 0.34522542937314415, -0.25459752518816514], [-0.3144646429094139, -0.3259323172141504, -0.1762814112599006, -0.32707263140173526, -0.3336778455560546, 0.028650514340122446, -0.14910705027953375, -0.3314195696485194, -0.3469005775971067, 0.2645174714663664, 0.11488149332221753, -0.12213847963462476, -0.3506800360130431, -0.36434314769424114, 0.514705700378622, 0.41156355379927034, 0.24774912091688717, -0.014574083164827223, -0.3585122505120014, -0.3836413486265202, 0.7040780228425391, 0.7034898603637144, 0.626559239219741, 0.4883118272625354, 0.2178499496022197, -0.3820742011931815], [-0.4219340629849899, -0.42928816125846636, -0.2993408774133941, -0.4272312197659929, -0.4341970646724519, -0.12875197389280846, -0.2780249621180728, -0.4318620838834827, -0.4421331064695726, 0.13774515805092513, -0.049630282448299035, -0.24234183749096172, -0.4452883116230014, -0.4626563384243254, 0.4274692642951199, 0.3036128898687134, 0.11830085589436068, -0.1688086728016014, -0.45182758645807164, -0.4745092246643978, 0.6535193273822952, 0.6508395687283939, 0.5564957939309398, 0.40260079824973793, 0.08309876510513048, -0.47815277132901834], [-0.40358491273677044, -0.4113663511816654, -0.2803556695385857, -0.4130048384817082, -0.4211735768919277, -0.10789132449193695, -0.26304697860410986, -0.42556715717183047, -0.4316289785536347, 0.15202869073789105, -0.018078455707344676, -0.2240608524576404, -0.43176904585052467, -0.4451669649446982, 0.44134408829466143, 0.316081202656309, 0.143566382027416, -0.1408967615931892, -0.44343461284468266, -0.45814299964064253, 0.6600813902938405, 0.6580296317419427, 0.5684217060582241, 0.41339903738799055, 0.10525333993473363, -0.45725749949287864], [-0.36190752899958734, -0.3688882786792679, -0.23465956671233956, -0.36585920438355934, -0.3763122450053654, -0.04071121090793195, -0.21381517235787606, -0.37755864319434096, -0.38458179080409016, 0.21282390647562333, 0.0476048632510212, -0.1667394515735312, -0.3848358137843769, -0.39849307784893795, 0.476969167026442, 0.36415992192734936, 0.19320966378074256, -0.0837713395270534, -0.3993938368465395, -0.41405160074426417, 0.6834480684572515, 0.6828634530405839, 0.5981257318224098, 0.4540666520728044, 0.17179396525479307, -0.4137963485383075], [-0.46677907671955543, -0.46973629679557904, -0.36033183317487605, -0.47045144869907407, -0.47771169610016984, -0.20028566745895138, -0.3352334407989388, -0.47470608773081646, -0.48512841895714265, 0.06656449007345189, -0.12070437878935603, -0.30444850794555267, -0.48690987426704513, -0.4937034956223979, 0.3779089969971198, 0.2441075124412766, 0.04541907338686646, -0.23268224073592259, -0.4950051823496864, -0.5088116646847207, 0.6233055074242739, 0.6196862516675661, 0.5195074607126333, 0.3527927339867435, 0.002467171364427756, -0.508274848273786], [-0.5450359563963025, -0.546716590634758, -0.45504241557387004, -0.5471100577611387, -0.5557846018203263, -0.31686085563688304, -0.43869660782763376, -0.5549393365583963, -0.5633275971941089, -0.09065804221316165, -0.24914244978667488, -0.405436654786663, -0.56202814275479, -0.5694619749552133, 0.2680033414119277, 0.1150741545926166, -0.11123178512500764, -0.3421927521841335, -0.5692807188416004, -0.5855911531374887, 0.55502842850465, 0.5570670637009894, 0.43293441697264967, 0.23666561833523625, -0.138652381250294, -0.581050896908937], [-0.5336609096975136, -0.538922026518563, -0.4395062505566243, -0.5404078689571674, -0.5442742437238276, -0.30197818267205334, -0.42285649964353555, -0.5464962373386621, -0.5529732619112434, -0.0718910477664294, -0.2301340862063992, -0.3911908876562378, -0.5532260470746806, -0.5618859526718072, 0.2809434681845714, 0.12991101485848844, -0.08895738982891543, -0.3306065634285742, -0.5594240550993235, -0.5722074610227708, 0.5667355170048347, 0.565156486928869, 0.45141614870138413, 0.2544658226633718, -0.12709398928375604, -0.5714151443242192]]\n",
      "CPU times: user 8min 46s, sys: 63.5 ms, total: 8min 46s\n",
      "Wall time: 8min 46s\n"
     ]
    }
   ],
   "source": [
    "import numpy as np\n",
    "%time print(compute_matrix(sag, bolt, 1000))"
   ]
  },
  {
   "cell_type": "code",
   "execution_count": 242,
   "metadata": {},
   "outputs": [
    {
     "data": {
      "text/plain": [
       "2052"
      ]
     },
     "execution_count": 242,
     "metadata": {},
     "output_type": "execute_result"
    }
   ],
   "source": [
    "w=len([1,2,3,4,6,8,10,12,16])\n",
    "t=len([2,3,4,5,6,8])\n",
    "svs=len(range(1, 19 + 1))\n",
    "fnp=len(range(1, 2 + 1))\n",
    "w*t*svs*fnp  # 3200"
   ]
  },
  {
   "cell_type": "code",
   "execution_count": 35,
   "metadata": {},
   "outputs": [
    {
     "data": {
      "text/plain": [
       "55"
      ]
     },
     "execution_count": 35,
     "metadata": {},
     "output_type": "execute_result"
    }
   ],
   "source": [
    "w_t_fnp = sum([\n",
    "    1 * len([2,3,4])*2,      #w=1 # w * t possible *2 if fnp variant\n",
    "    1 * len([2,3,4,5])*2,    #w=2\n",
    "    1 * len([2,3,4,5,6])*2,  #w=3\n",
    "    1 * len([2,3,4,5,6])*2,  #w=4\n",
    "    1 * len([3,4,5,6,8])*2,#w=6\n",
    "    1 * len([4,5,6,8]),#w=8\n",
    "    1 * len([5,6,8]),#w=10\n",
    "    1 * len([6,8]),#w=16\n",
    "    1 * len([6,8]) #w=28\n",
    "])\n",
    "w_t_fnp"
   ]
  },
  {
   "cell_type": "code",
   "execution_count": 36,
   "metadata": {},
   "outputs": [
    {
     "data": {
      "text/plain": [
       "1045"
      ]
     },
     "execution_count": 36,
     "metadata": {},
     "output_type": "execute_result"
    }
   ],
   "source": [
    "svs*w_t_fnp"
   ]
  },
  {
   "cell_type": "code",
   "execution_count": 32,
   "metadata": {},
   "outputs": [
    {
     "name": "stdout",
     "output_type": "stream",
     "text": [
      "1.11 ms ± 5.79 µs per loop (mean ± std. dev. of 7 runs, 1000 loops each)\n"
     ]
    }
   ],
   "source": [
    "%timeit score_weapon_on_target(bolt, bat, 200)"
   ]
  },
  {
   "cell_type": "code",
   "execution_count": 33,
   "metadata": {},
   "outputs": [
    {
     "name": "stdout",
     "output_type": "stream",
     "text": [
      "75.9 ms ± 538 µs per loop (mean ± std. dev. of 7 runs, 10 loops each)\n"
     ]
    }
   ],
   "source": [
    "%timeit score_weapon_on_target(sag, bat, 200)"
   ]
  },
  {
   "cell_type": "code",
   "execution_count": 38,
   "metadata": {},
   "outputs": [
    {
     "data": {
      "text/plain": [
       "0.017416666666666667"
      ]
     },
     "execution_count": 38,
     "metadata": {},
     "output_type": "execute_result"
    }
   ],
   "source": [
    "1*1045/1000/60"
   ]
  },
  {
   "cell_type": "code",
   "execution_count": null,
   "metadata": {},
   "outputs": [],
   "source": [
    "# put FNP only on endu < 7"
   ]
  },
  {
   "cell_type": "code",
   "execution_count": 275,
   "metadata": {},
   "outputs": [
    {
     "data": {
      "text/plain": [
       "(0.014493157072157503, 0.021757435705378997)"
      ]
     },
     "execution_count": 275,
     "metadata": {},
     "output_type": "execute_result"
    }
   ],
   "source": [
    "score_weapon_on_target(sag, bat, 1000), score_weapon_on_target(bolt, bat, 1000)"
   ]
  },
  {
   "cell_type": "code",
   "execution_count": 198,
   "metadata": {},
   "outputs": [],
   "source": [
    "w = sag\n",
    "t = bat"
   ]
  },
  {
   "cell_type": "code",
   "execution_count": 190,
   "metadata": {},
   "outputs": [
    {
     "data": {
      "text/plain": [
       "{2: 0.027777777777777776,\n",
       " 3: 0.05555555555555555,\n",
       " 4: 0.08333333333333333,\n",
       " 5: 0.1111111111111111,\n",
       " 6: 0.1388888888888889,\n",
       " 7: 0.16666666666666666,\n",
       " 8: 0.1388888888888889,\n",
       " 9: 0.1111111111111111,\n",
       " 10: 0.08333333333333333,\n",
       " 11: 0.05555555555555555,\n",
       " 12: 0.027777777777777776}"
      ]
     },
     "execution_count": 190,
     "metadata": {},
     "output_type": "execute_result"
    }
   ],
   "source": [
    "a_d = get_attack_density(w)\n",
    "a_d"
   ]
  },
  {
   "cell_type": "code",
   "execution_count": 191,
   "metadata": {},
   "outputs": [
    {
     "data": {
      "text/plain": [
       "({0: 0.09245826180349491,\n",
       "  1: 0.2239853530307222,\n",
       "  2: 0.26620813348361666,\n",
       "  3: 0.21083128491947162,\n",
       "  4: 0.12367835752228379,\n",
       "  5: 0.05596105682474631,\n",
       "  6: 0.019891044662844356,\n",
       "  7: 0.005563176345069349,\n",
       "  8: 0.0012047433299274988,\n",
       "  9: 0.00019485804737601263,\n",
       "  10: 2.210969797211731e-05,\n",
       "  11: 1.5680636859657664e-06,\n",
       "  12: 5.226878953219221e-08},\n",
       " 1.0000000000000002)"
      ]
     },
     "execution_count": 191,
     "metadata": {},
     "output_type": "execute_result"
    }
   ],
   "source": [
    "h_d = get_hits_density(w, a_d)\n",
    "h_d, sum(h_d.values())"
   ]
  },
  {
   "cell_type": "code",
   "execution_count": 192,
   "metadata": {},
   "outputs": [
    {
     "data": {
      "text/plain": [
       "({0: 0.4029500867053239,\n",
       "  1: 0.3367914778591636,\n",
       "  2: 0.1689350056321175,\n",
       "  3: 0.06478956365764589,\n",
       "  4: 0.020154421512724424,\n",
       "  5: 0.00512477251439623,\n",
       "  6: 0.0010565739623414905,\n",
       "  7: 0.00017367555510426272,\n",
       "  8: 2.216603219186902e-05,\n",
       "  9: 2.1100352269821476e-06,\n",
       "  10: 1.405806713069297e-07,\n",
       "  11: 5.83937585822815e-09,\n",
       "  12: 1.1371713614420627e-10},\n",
       " 1.0000000000000004)"
      ]
     },
     "execution_count": 192,
     "metadata": {},
     "output_type": "execute_result"
    }
   ],
   "source": [
    "w_d = get_wounds_density(w, t, h_d)\n",
    "w_d, sum(w_d.values())"
   ]
  },
  {
   "cell_type": "code",
   "execution_count": 193,
   "metadata": {},
   "outputs": [
    {
     "data": {
      "text/plain": [
       "({0: 0.5366555241737849,\n",
       "  1: 0.3162275735568333,\n",
       "  2: 0.11078687649773596,\n",
       "  3: 0.029102035242819145,\n",
       "  4: 0.006064610751263366,\n",
       "  5: 0.0010130132279732571,\n",
       "  6: 0.00013499857838335794,\n",
       "  7: 1.415632468850579e-05,\n",
       "  8: 1.1407205971613996e-06,\n",
       "  9: 6.802863136706233e-08,\n",
       "  10: 2.8236457380877304e-09,\n",
       "  11: 7.27678850725364e-11,\n",
       "  12: 8.764573859500293e-13},\n",
       " 1.0000000000000007)"
      ]
     },
     "execution_count": 193,
     "metadata": {},
     "output_type": "execute_result"
    }
   ],
   "source": [
    "uw_d = get_unsaved_wounds_density(w, t, w_d)\n",
    "uw_d, sum(uw_d.values())"
   ]
  },
  {
   "cell_type": "code",
   "execution_count": 284,
   "metadata": {},
   "outputs": [],
   "source": [
    "l = \n",
    "[[-0.7148148148148149, -0.7148148148148148, -0.6577777777777779, -0.7148148148148148, -0.714814814814815, -0.5722222222222224, -0.6435185185185186, -0.714814814814815, -0.7148148148148148, -0.4296296296296298, -0.5246913580246912, -0.6197530864197534, -0.7148148148148148, -0.7148148148148149, -0.14444444444444482, -0.287037037037037, -0.4296296296296299, -0.5722222222222223, -0.7148148148148149, -0.7148148148148148, 0.298701298701299, 0.298701298701299, 0.12337662337662325, -0.14444444444444426, -0.4296296296296296, -0.7148148148148148], [-0.5437013102050048, -0.5504726746152665, -0.45607374121762545, -0.5498307729461709, -0.5531253486334178, -0.31856815140470274, -0.43751237113853725, -0.5571768688233366, -0.5609560232367858, -0.09055547226072969, -0.25260355383448996, -0.4054993036631931, -0.56382492531665, -0.5714246808849908, 0.2661972912188242, 0.11145907494404672, -0.11274484377962668, -0.3405782300400615, -0.5677708506274355, -0.5836731840625873, 0.5549352165073247, 0.5564119431179052, 0.43690155913272444, 0.23612737105033021, -0.1454250000972267, -0.5831209147697345], [-0.42257241545654123, -0.43252955332525556, -0.3037995050774931, -0.4275311399897842, -0.43409304054862363, -0.13363482790521242, -0.27935811468352423, -0.43640591250317673, -0.4471338844836169, 0.13919851772896175, -0.046586225447518004, -0.24429492800620312, -0.43647536763924943, -0.45443309538000376, 0.42563685147054786, 0.3035445818812015, 0.1182869347343507, -0.16640071358145359, -0.4532884939998255, -0.4744693926641982, 0.652132926027015, 0.6507261960768943, 0.5578848356480364, 0.402403956770515, 0.08411230431070715, -0.47337395307201613], [-0.32556669253618375, -0.3349624834696705, -0.19818217923979697, -0.3341397092617501, -0.3395432555055693, 0.0029336542370221874, -0.16163738942123085, -0.34313787844168653, -0.3558544379084627, 0.25612899848508075, 0.09178656123739937, -0.1257761032197643, -0.3514213307159828, -0.37275381875805624, 0.508211061174811, 0.39877173224225615, 0.23588952102884786, -0.03167074145180393, -0.3654402637768748, -0.3769020114033207, 0.6992720568840646, 0.6995736570418687, 0.6172494074775884, 0.4842839336630096, 0.19845395287755385, -0.3836379427728802], [-0.6637731481481481, -0.6637731481481481, -0.5965277777777778, -0.6637731481481481, -0.6637731481481484, -0.49565972222222243, -0.5797164351851853, -0.6637731481481484, -0.6637731481481481, -0.3275462962962964, -0.4396219135802468, -0.5516975308641976, -0.6637731481481481, -0.6637731481481483, 0.008605851979345602, -0.15943287037037057, -0.3275462962962966, -0.4956597222222222, -0.6637731481481483, -0.6637731481481481, 0.40516351118760785, 0.40516351118760785, 0.25645438898450956, 0.00860585197934649, -0.32754629629629606, -0.6637731481481481], [-0.46339483696145733, -0.4688542316593808, -0.36052641245589756, -0.4703367489252799, -0.47594838332165723, -0.19537514882517215, -0.3370817172584911, -0.4780774800828492, -0.48766386797367256, 0.06701474403763852, -0.11518433698861263, -0.30607961858470345, -0.4878360665401801, -0.497792351174286, 0.37954191686543026, 0.2451650856390929, 0.04475730672927025, -0.22695770127320658, -0.4966658735079167, -0.507090259095732, 0.6223239446320938, 0.6225417131709704, 0.5218614107789683, 0.35101008076998264, 0.0037591337439875083, -0.5071760718315839], [-0.31490239481899374, -0.31711200294935815, -0.17593491105674464, -0.32652703750038703, -0.3333782647789375, 0.0272464669179997, -0.153263244554791, -0.3361125727214601, -0.3496508216331836, 0.26957494513558156, 0.10780327164609227, -0.11420306839647032, -0.34617288656441936, -0.36435629868027053, 0.5100375274969915, 0.40577706894820575, 0.24721295314406377, -0.0152659385419609, -0.3580480807245918, -0.3873171864335041, 0.7008204100235347, 0.704821624292669, 0.6259172426666357, 0.4898722095253204, 0.2123198217563641, -0.3846835725707417], [-0.2090560462140666, -0.21705658247962767, -0.05529605011132799, -0.21890764844478217, -0.2193001549310838, 0.15600667981502436, -0.025683774137923443, -0.22726311982243108, -0.2517939024130732, 0.36651990973586335, 0.23414338875597174, 0.03720257166037866, -0.2396542479654551, -0.24905641383496468, 0.579500965200793, 0.48581852721267205, 0.35417852835525065, 0.12124602635879189, -0.2524611771976003, -0.2675940727874587, 0.7436297275921254, 0.7434441291059222, 0.6754186047280837, 0.5636227535873153, 0.334093946648958, -0.27645569812903736], [-0.09949688374688015, -0.11149490323285349, 0.07308213648451134, -0.09737893137270681, -0.10815091875649174, 0.2509655526232526, 0.10703871818120847, -0.1142181211291351, -0.12445252081029856, 0.4460471765828016, 0.32678442362601046, 0.16464870326294112, -0.12009156920623676, -0.12729545098134676, 0.6307801534724391, 0.5537760653727408, 0.43517497689484586, 0.25550366257544754, -0.12745310891592798, -0.1402378732985451, 0.777945806882188, 0.7799688237648228, 0.7208029524528097, 0.6249359748616262, 0.4213010454687691, -0.13973143873889882], [-0.597608024691358, -0.597608024691358, -0.5171296296296297, -0.597608024691358, -0.597608024691358, -0.3964120370370371, -0.4970100308641976, -0.597608024691358, -0.5976080246913582, -0.1952160493827162, -0.32934670781893016, -0.463477366255144, -0.5976080246913582, -0.5976080246913581, 0.17162032598274202, 0.005944391179290465, -0.19521604938271586, -0.3964120370370372, -0.5976080246913581, -0.5976080246913582, 0.5029721955896453, 0.5029721955896453, 0.37871524448705673, 0.17162032598274202, -0.19521604938271608, -0.5976080246913582], [-0.3649015010970602, -0.37091701732750215, -0.23775774378712555, -0.3691545879781336, -0.37806741350337225, -0.04718768458912692, -0.21359906275389928, -0.37850091536935704, -0.38687319442906565, 0.21535286769927087, 0.05168183276191973, -0.16727209555982658, -0.382523249592545, -0.39732300186731584, 0.4764213349065278, 0.36491754151026734, 0.197673551652495, -0.07718548094668687, -0.3967440410806474, -0.41070141440133323, 0.6841891540330545, 0.6837890447621615, 0.5991717383954143, 0.4562032771562414, 0.16695973082559845, -0.4128291161795957], [-0.19276931192194735, -0.1953500888745172, -0.025602419176052993, -0.19884918802414497, -0.21147330097618833, 0.18076084874264087, -0.004489600385288672, -0.2081186770776604, -0.22305553745891193, 0.385799527641734, 0.2535896222161824, 0.051944989842474976, -0.22533699949763253, -0.23856894744482848, 0.5882242241610635, 0.5053964199527328, 0.3647001280763106, 0.14897387510558024, -0.24076092602993648, -0.2612303422265455, 0.7521800194441525, 0.7499299134599142, 0.6818252360816723, 0.5724455744782126, 0.3420722147166826, -0.25835727898722416], [-0.06032948016304529, -0.06746967281575966, 0.12144370313075403, -0.07136837104196858, -0.0822266719365855, 0.2839273413942025, 0.13979194693687957, -0.07809372291777072, -0.10026794344836498, 0.4687518765777937, 0.35186302853706075, 0.18390450898631838, -0.09101412110275953, -0.11230583432873886, 0.6450839729461936, 0.5692380565257243, 0.45131208752546126, 0.2622259535358623, -0.1143429171211725, -0.13523324008223414, 0.784946169221325, 0.7840737440438699, 0.7269440943687939, 0.6302389094565465, 0.43617776439170985, -0.14159121134108887], [0.06568630906633177, 0.059450450853543946, 0.2230549372751146, 0.057867626146457685, 0.0564060576990284, 0.37622383984520114, 0.24615385866236716, 0.05140226360402711, 0.06598377580073478, 0.5350268457339576, 0.44031864907805496, 0.29358728338327866, 0.059070360013103285, 0.032148111879605534, 0.6910690629540392, 0.6253708933084681, 0.5280587701489358, 0.369725266946882, 0.04819499913898617, 0.00945118901233144, 0.8124855695528935, 0.8135633915282887, 0.7642919849787427, 0.6858476717985285, 0.5185544234269137, 0.04174228111987355], [0.11990562254845438, 0.11855744399312029, 0.25953659295815457, 0.1191723829651582, 0.11662014157925793, 0.4164810315146089, 0.29888097182213047, 0.11043223106993316, 0.10519268124578074, 0.5640971230614188, 0.4658400897438586, 0.3399184297374569, 0.10084188309862785, 0.105988488378982, 0.7063218030602412, 0.648585888960226, 0.557924079590564, 0.4003561762573128, 0.11040686539036648, 0.10588712085032304, 0.8221363564957135, 0.8238373786869866, 0.7790462036449011, 0.705768040992391, 0.5559219291848979, 0.11122341436677985], [-0.14955453961256904, -0.1568157966564624, 0.01289138375978438, -0.16539296553983407, -0.1668689928485162, 0.21252776716160382, 0.04692839097838064, -0.17084398572447002, -0.1831312126005714, 0.40476696050631256, 0.2855087834862, 0.0926483923125947, -0.18504965739075174, -0.19378060265489938, 0.6050419921952154, 0.5221909149254751, 0.3974886170294444, 0.17956016646238926, -0.19998580429492296, -0.21564963250304958, 0.762775161028061, 0.7620086111367439, 0.7005584857047761, 0.591360383227743, 0.3736860509716007, -0.21912030987802822], [0.07816403578419229, 0.057801077825359926, 0.22858517604812034, 0.06731425969556115, 0.052271217668842684, 0.3841399368233085, 0.2448943360952236, 0.0571436059526389, 0.036707760384444454, 0.5358478558354118, 0.4384040072426678, 0.28969279822072114, 0.040730330011282345, 0.025712269076305416, 0.6911882425742116, 0.6265592431577754, 0.5245276579664979, 0.3539780445214227, 0.018369192046839067, -0.011517771895402706, 0.8140313603807099, 0.812918620901772, 0.7641213777710256, 0.678254149891162, 0.5071949370283626, -0.014428074728781604], [0.20098043897879259, 0.19761999716982648, 0.3321162399910773, 0.18596983966678082, 0.18492960473806552, 0.4693042084112685, 0.3502873279839498, 0.1790670140348385, 0.17391954279399413, 0.603266829867944, 0.5173430123160865, 0.38693404160486267, 0.17207278349899935, 0.14623011836140498, 0.7356153834062067, 0.6753373374814297, 0.594071294562259, 0.4481237645296, 0.15602620634299225, 0.14051498201370383, 0.8397766511262419, 0.837155381143335, 0.7977464581572808, 0.7236876955038629, 0.5771543878837354, 0.1392767869743331], [0.30762166655724443, 0.30067224156678596, 0.42015289934568123, 0.2999474245912478, 0.29155425089504494, 0.5358922564376123, 0.4413980208735332, 0.301301094254117, 0.2899933312739108, 0.650639489676692, 0.5811532047249728, 0.4743902850694166, 0.28260739470104324, 0.28228004634518833, 0.7685897057439312, 0.720807203577392, 0.6501262084603765, 0.5275466872061167, 0.2907677599198373, 0.2679306809769755, 0.8602708161796611, 0.8604621267898171, 0.8232363877061921, 0.7625664151277599, 0.6371718670642699, 0.2698675254180607], [0.3410159534908034, 0.34919639385967094, 0.454474807089545, 0.33185490803992, 0.3368826917274028, 0.5591270323487845, 0.47271383135817446, 0.33593227004737647, 0.3320783084927077, 0.6698319080009301, 0.6033706237138343, 0.5004139323543764, 0.34073760277188636, 0.3417495089217105, 0.7808116724010344, 0.7394779506444553, 0.6688796473957608, 0.5569857918993956, 0.3373689075061129, 0.3383642913943252, 0.867448479796045, 0.8693993232362768, 0.8350432186161817, 0.7785101622738352, 0.6679218735885043, 0.33392831133316425], [0.37150857240026924, 0.36727820880549555, 0.47321832007969156, 0.36891818611800353, 0.3692345401746071, 0.5793215732311753, 0.5006492562471838, 0.36898658267268236, 0.3626295757341401, 0.6831877983631964, 0.6201670280162638, 0.5226699656326939, 0.36478456913026347, 0.36140335836792825, 0.7897535056432345, 0.7475981557911404, 0.6811668574249237, 0.5694011219760491, 0.3643460413945292, 0.35481862358010674, 0.8733109217515744, 0.8732277631852132, 0.8438681827612763, 0.7869118094174232, 0.6820785121059587, 0.37114580772559347], [-0.05533114608117862, -0.06800281518746154, 0.12015146278200983, -0.06510826835638739, -0.07996808720068593, 0.2950032589881455, 0.1453330855256304, -0.07909528969867685, -0.09523821445217096, 0.47021136359185356, 0.35666665988651847, 0.18233651487290403, -0.09705240169733875, -0.11563963298531488, 0.6463301277675438, 0.5714720502398201, 0.4582524996120865, 0.2620891798230156, -0.11178115528899002, -0.1259162441151238, 0.7867922479743675, 0.7845043994246256, 0.7305499038845231, 0.6354684441236144, 0.44257340943593093, -0.12675766785271947], [0.0939575263455581, 0.06653000743036797, 0.23393197851017444, 0.0769946416409436, 0.05941300647412173, 0.39495787522892145, 0.2626694487260184, 0.06128485892397095, 0.05897147878734332, 0.5437276005494484, 0.4509750930501052, 0.30148324399984394, 0.04749398845922059, 0.03613204643277079, 0.6921712928813288, 0.6289941663617917, 0.5364715726783793, 0.3708094888674962, 0.041607618028124516, -0.0031120695161852563, 0.815816509913899, 0.8149918663233293, 0.7678679283773695, 0.6825937287575258, 0.5183551339982364, 0.016804864420765786], [0.20815800472395296, 0.19500541962381512, 0.3396307756660889, 0.20894185982044233, 0.18985399665929703, 0.47199833753256126, 0.3631358547697947, 0.197964326399238, 0.19328107648354464, 0.6027551472208188, 0.5234383590639918, 0.3932196062322272, 0.19380216454829702, 0.19157735472816118, 0.7355300418059374, 0.6813563841903237, 0.5987340715661098, 0.45844939988047295, 0.19406506614788666, 0.1774651406184392, 0.8407061170481356, 0.8392988705836486, 0.7990944253972934, 0.732137975892171, 0.5908971767238035, 0.1807960784023196], [0.25435700641350967, 0.24438777125186295, 0.3791140570435041, 0.2474101571306736, 0.2474302999263276, 0.49963975657114024, 0.3919522046352264, 0.24106677355116823, 0.24076022377279438, 0.6264685780791144, 0.5460863187325413, 0.43248349045505863, 0.2410188070117285, 0.24279869655385, 0.7491072784694512, 0.6992974553309774, 0.6239611498219135, 0.49930099036009, 0.24321494918812536, 0.24223845902978203, 0.8493116900111725, 0.8510497835267457, 0.8115838373349494, 0.7479826506412945, 0.6252176881135816, 0.23706968217785895], [0.2811548027764016, 0.27719065230811235, 0.4033549997022349, 0.28045687254033724, 0.2828865128877539, 0.5202871349833524, 0.426704872338467, 0.2728799954291492, 0.2824920472349737, 0.6395122612667368, 0.5691606227334162, 0.4632995388935569, 0.2793354850825239, 0.2689062160968597, 0.7618118899167342, 0.7153088540977964, 0.6392528790203728, 0.5201759266727914, 0.2878108004897175, 0.2790972891947492, 0.8547950331104137, 0.8577020093714071, 0.8202337439084371, 0.7568941851319755, 0.6390409052336721, 0.2899143836361151], [0.31245263393324285, 0.30311083655041426, 0.4272760193656163, 0.3012491084879657, 0.3105358851714265, 0.534162957715494, 0.4416868587743421, 0.30382276169389644, 0.3079421058686467, 0.6527907120477026, 0.5816854084178423, 0.48273877191477177, 0.30030861910408424, 0.3118826070937186, 0.7675091028754646, 0.7215212362556631, 0.6482976057616185, 0.5324191566538113, 0.3023160034098621, 0.29341313295338933, 0.8595517928098317, 0.8611036934275811, 0.8264251368489557, 0.7644759991868983, 0.6499715185427641, 0.3169191857113771], [0.32640995210011514, 0.3298318688838676, 0.4398465866066762, 0.32642328564013157, 0.3301491646585569, 0.5510504132041092, 0.4646314493208985, 0.32609547795177873, 0.33148656076102534, 0.6627022317919833, 0.5927381867695152, 0.4966199294328477, 0.32622854563577663, 0.3314598527280258, 0.7766706628206477, 0.730944222917779, 0.6695121480996963, 0.553278064214238, 0.33769517238412683, 0.319770873168268, 0.8659212072338905, 0.8656573011076091, 0.8309533646210959, 0.7775137387562341, 0.6596845880836173, 0.32686517433468354], [0.4906879831114599, 0.49083326108268055, 0.5683478037582492, 0.48858945039025203, 0.48346993489533385, 0.6588283884443994, 0.5870370860471728, 0.48513933768682505, 0.48150463537866717, 0.7456478504016377, 0.6920958806517138, 0.6090688753304729, 0.4748594584503101, 0.47525546182124967, 0.8307428720960883, 0.7929417748250678, 0.743893249345603, 0.6510667879049005, 0.4748724999725543, 0.46249010336551666, 0.8974715743191558, 0.8958368328799123, 0.8685105472647598, 0.8253510300444972, 0.734850849709904, 0.4697400863817647], [0.5149065838562485, 0.5129666767908622, 0.5937542837879239, 0.5160183834042942, 0.5139279629981495, 0.6771128646560582, 0.6069644998663546, 0.5158589031306053, 0.5150511873514061, 0.7595684951675332, 0.7048465179735738, 0.6380811350373752, 0.5140755567687092, 0.5102203287340507, 0.8388439958945568, 0.8088187584248908, 0.7564107906631412, 0.6778140138886588, 0.5121951285597865, 0.5124668562931883, 0.9032986095284166, 0.9037431900108963, 0.8794969524259878, 0.8395100968763426, 0.7559466336833784, 0.5027547063161926], [0.5376830093266078, 0.5410915236156062, 0.6181804275096671, 0.5364268920137873, 0.5399113482098299, 0.6944203676660654, 0.6268595770247516, 0.5258146243886698, 0.5305345052547803, 0.7696180481828128, 0.7201810516941869, 0.6519032071033055, 0.5412203815565709, 0.5442264128887405, 0.8471361960572016, 0.813856377650623, 0.7664650059619131, 0.689761068310069, 0.5395336140072319, 0.5367183032016729, 0.9075062264398167, 0.907174731075614, 0.8847829098052855, 0.8466061179497788, 0.7693466546294516, 0.5340098450908815], [0.5537124051744039, 0.5434093817135681, 0.6265911998313505, 0.5498055778328754, 0.5470022213140364, 0.6987539785425088, 0.6431349471645884, 0.5474730037360378, 0.5501600593102604, 0.7768569217424561, 0.7279671850029863, 0.6595810132368659, 0.5544914471941654, 0.5452637994741497, 0.8494290763317808, 0.8194615520116317, 0.7725835383104107, 0.7001655533617777, 0.5506524979881868, 0.543414780563698, 0.9100340875534516, 0.9094507783633285, 0.8868674544017138, 0.8499639829022178, 0.7792158637162576, 0.5591797565393467], [0.5662383523492704, 0.5681364517737488, 0.6394101779132577, 0.5684101352664617, 0.5641032519844481, 0.7084506353298101, 0.6567356136642815, 0.5675103555927631, 0.5672038752852381, 0.7861952681370415, 0.7442887377937619, 0.6758060103739036, 0.5633503437788532, 0.5698367948141974, 0.8565807513332042, 0.8282316687710333, 0.7868728277275034, 0.7116355888695403, 0.5593646234447156, 0.574681019895269, 0.9135761397270115, 0.9138523960219079, 0.8909877996004347, 0.8537446524270838, 0.7823975336163844, 0.5675013282331502], [-0.6657270448508611, -0.6640694574785333, -0.6083841218080961, -0.670863769671901, -0.662630860286127, -0.49560707720074315, -0.587940633682981, -0.6665213596399324, -0.6791743684603675, -0.3360211836807885, -0.4542246731479237, -0.5587331064280867, -0.6610162921925752, -0.6652747500213503, -0.015507825509403217, -0.16647499426508083, -0.34064377808979807, -0.4991343079469681, -0.6716930949514116, -0.671248096828098, 0.39655238162509876, 0.3940520403709641, 0.2463838323000277, -0.009603637329726467, -0.33320314565752385, -0.6663948989624292], [-0.4910921594700175, -0.4881417072632547, -0.39213808174933407, -0.49251909023779195, -0.4897596090147691, -0.2315720612023896, -0.36689005223577953, -0.49663680737789606, -0.49960023362847894, 0.01571988108087885, -0.14875548513023573, -0.31571416854164924, -0.4946140693853739, -0.5225881126059222, 0.364937469594659, 0.1914706962963092, 0.013285543138111144, -0.25733299449664293, -0.5077528533219664, -0.5247301951003138, 0.6068722823996135, 0.6076077139612626, 0.4978099597878556, 0.33859878723705084, -0.0236276694537777, -0.5207017658598201], [-0.3666301440438924, -0.36902694635247246, -0.2263475497928964, -0.35703825288549407, -0.3806811747819808, -0.03995240660118404, -0.21142805758859173, -0.369574174131177, -0.4013111976610312, 0.22749138771576094, 0.062072875620816315, -0.17776769154283345, -0.38292865242372287, -0.3972286764427895, 0.4742866584800932, 0.3678858466470253, 0.19841322323509303, -0.07993768718426819, -0.3980878130650003, -0.40603864617802443, 0.684060632023385, 0.6856384926940053, 0.5975061674537914, 0.4647948517011159, 0.1935748689302521, -0.41638814176217787], [-0.26804521195378894, -0.28892308033062164, -0.13257208106428564, -0.2737362779429888, -0.29783666421530064, 0.08567140006635221, -0.0961064956342168, -0.3017829851248621, -0.3019142128071789, 0.28972170468253966, 0.1410912562830935, -0.047595061427139096, -0.3018761642678559, -0.31810519197666676, 0.5349484756359015, 0.4249853897134518, 0.29686851192397656, 0.01829940851168199, -0.3180470999603481, -0.3336812319637248, 0.7140519041534299, 0.7236291397010619, 0.6473895277275905, 0.5150071915002257, 0.24161435095270245, -0.31995313846950835], [-0.6112226667621361, -0.6144655216938859, -0.5313927667258495, -0.6133847507902936, -0.6137914072465823, -0.4081488341697159, -0.5043864168733538, -0.6063791170361806, -0.6091634660440103, -0.21842770928119437, -0.3392134349421073, -0.47081047435720036, -0.6081939720769037, -0.6087304970559972, 0.14553824426521578, -0.03309914622519283, -0.22228857767137533, -0.40107919665724756, -0.6097141339943859, -0.611575962009928, 0.4794179043138864, 0.49123942271935583, 0.36735693426398286, 0.16657270890277953, -0.21380711669667052, -0.6146100896220192], [-0.39385512773696374, -0.39865872970643523, -0.2674943854266596, -0.400030123462512, -0.4104394648753552, -0.11122900738636587, -0.256368819941313, -0.41517949573866797, -0.40906511720949135, 0.17378019687959467, -0.00991827680919899, -0.1997039258490667, -0.4242721905247949, -0.43036509364316355, 0.45010359887721874, 0.33945869996975064, 0.14292365632677695, -0.12359424240956296, -0.4258182979140033, -0.43256743241595597, 0.6680246971075183, 0.6620222587966289, 0.5735254995245959, 0.4235887421773026, 0.12080954692720636, -0.42526833578707013], [-0.2564601869865918, -0.25960483451073224, -0.08520809816270258, -0.2545845772947892, -0.2688479489334462, 0.10767756503339654, -0.07452927898253403, -0.2666292647637736, -0.28917634099053613, 0.34857115620063095, 0.19524530468518886, -0.015207817071160479, -0.2639700405562543, -0.2905001212137469, 0.5549632595100168, 0.47275130768346807, 0.305492060199545, 0.08235277020681786, -0.29766803903558503, -0.3197045066296207, 0.7300539656128336, 0.7298391012462666, 0.6617908302430002, 0.5266843452919928, 0.3043329932643005, -0.31731841405402317], [-0.15768010148253975, -0.1570168464703423, 0.012453844237223288, -0.14743780029639253, -0.15735340930262742, 0.21086919186706143, 0.052990471592345934, -0.157895486237274, -0.19341237051159443, 0.4017209979411601, 0.283405869362939, 0.0971630403173469, -0.1772491468438746, -0.19016344113319328, 0.6013197669053164, 0.5121050289094702, 0.39313267918983896, 0.18039299853255986, -0.19330176508408226, -0.23662470116809742, 0.7586019060553406, 0.7553388425765736, 0.6980676230880223, 0.5932982715644788, 0.3690467062661186, -0.21711225721982708], [-0.0610373799195606, -0.08893614895097968, 0.09268567294356456, -0.07382067051963792, -0.07110473890119928, 0.28443363979980063, 0.14507771177091988, -0.07125693280720957, -0.08729519370956118, 0.4539285075525421, 0.3668987833347056, 0.19068165922373692, -0.0786666480573106, -0.09341361174885365, 0.6374922441961859, 0.5679300784015473, 0.44764855676766435, 0.27114803644678354, -0.07156235935957389, -0.10058148889962171, 0.7827679984189431, 0.7824717035296644, 0.7300159178762302, 0.6428042466224009, 0.4700332228472882, -0.10028486296712691], [-0.5316883513140322, -0.5214891997585647, -0.4405807634873955, -0.5354328150437542, -0.5338630900906146, -0.29233338489857363, -0.4168893947321821, -0.5311708853523739, -0.5352887340130701, -0.07089154330520098, -0.21575554251005136, -0.3770860592319366, -0.5322676668907989, -0.525915356382528, 0.27341691345027475, 0.15243678089691437, -0.07127638564868777, -0.28207949348301653, -0.5282673248141312, -0.534835629927018, 0.5719106835803585, 0.5755710889615215, 0.4660675507217499, 0.30613781988681066, -0.04900148351903866, -0.5303763126006134], [-0.287194082399724, -0.2935856062525595, -0.13628952292809615, -0.28667581990083024, -0.3135248246660458, 0.08006808026672674, -0.10884243626296009, -0.29425807182433295, -0.306736785985841, 0.3167428739191306, 0.17246281434683208, -0.04064811839158977, -0.32544738135647777, -0.2998324900725452, 0.5375410564070134, 0.4459002716987369, 0.28516216635374525, 0.03946003915673291, -0.33252065153126287, -0.33421412467453837, 0.7186114576435936, 0.7230499732384825, 0.6507808431011789, 0.5224196168626618, 0.26440805946296564, -0.3373881337299445], [-0.1032890829062666, -0.10304495741018527, 0.07831226718272866, -0.11544662275252282, -0.13743716599014288, 0.2526307539045347, 0.1028669385765183, -0.13978187964412536, -0.14117046449004012, 0.45544960074106, 0.3375389237661558, 0.14096282440872732, -0.15440873882637418, -0.17442269524177523, 0.6189664457416282, 0.5598274373839205, 0.41902406111685075, 0.23064156112438916, -0.1658428797292001, -0.1808165609421526, 0.7792679142856969, 0.7720745039537693, 0.7213400324924514, 0.6189896944693913, 0.3996214864847737, -0.16123416163486648], [0.007479173690050689, -0.007830960572397738, 0.17990523562601834, -0.00632743688195192, -0.009659561416044515, 0.331000572613524, 0.20568547805416293, -0.005864382779310673, -0.01918174961960395, 0.5011260813832763, 0.4156188042727301, 0.22924042122020571, -0.0381245869606236, -0.04308709405736211, 0.6703461812680176, 0.596534532668642, 0.49145617490022975, 0.31335573150775187, -0.03870655692592839, -0.07146340693387543, 0.801037327632284, 0.800452105401731, 0.7459221236173286, 0.6650053172880614, 0.48526759328621594, -0.06424088282514384], [0.10433256147909487, 0.08991295155308321, 0.24883049223545917, 0.1088656157769542, 0.10266194150494701, 0.39900228594792364, 0.28353002866358856, 0.09535550422820849, 0.10526046436309544, 0.5438331342075047, 0.46346747969112867, 0.3285085968971241, 0.11010038691760238, 0.11575078084950852, 0.6988655063280834, 0.6394052420004155, 0.5481762399574561, 0.3980976119019505, 0.053021564385493436, 0.08814077211180793, 0.8180568484994913, 0.819072330463031, 0.7789311660448135, 0.6917098756490733, 0.5412179840156586, 0.09532283574554612], [-0.047130481975406036, -0.023955236529619284, 0.11442108974606457, -0.06127011635576107, -0.05773543549226856, 0.3032543289533076, 0.16556852384770826, -0.055128526553863466, -0.08379525777050079, 0.4785746009839833, 0.36871687872640235, 0.20928048901891105, -0.07283760547815743, -0.08590005901455733, 0.656157910174598, 0.5769126221519056, 0.46582368115353945, 0.26777422367075665, -0.09332447340137096, -0.06032626692370824, 0.7934000828460512, 0.7897473805347739, 0.7290781426980129, 0.6433294488405757, 0.45375103807588835, -0.11101915759741365], [0.16146710153386845, 0.13218741719820648, 0.30266630653564, 0.15609763408698796, 0.15092638340746856, 0.43473178044249605, 0.3282536529337985, 0.14026740360816803, 0.1491418977593153, 0.5685299079276002, 0.4928970372982945, 0.35565221121036317, 0.12990309087375362, 0.12349222463295018, 0.723206300416462, 0.6656345235336386, 0.5685187949815583, 0.4314066982973429, 0.13839082875786957, 0.09467365557599583, 0.8304592943485748, 0.8281531911188247, 0.787142806697492, 0.7106681146389575, 0.5554265179627909, 0.09144839438649277], [0.2674754745377509, 0.23930406176734775, 0.36844035803834463, 0.23782341911842053, 0.23917012009338356, 0.5038697843015891, 0.39138091357897664, 0.2540549780563881, 0.24193758808498844, 0.6240945449892707, 0.5439493477800927, 0.4151794620594321, 0.24113351596213817, 0.24011294860606136, 0.7521351642608782, 0.6942310711478774, 0.6141856905001781, 0.49053650421800765, 0.22269900313819702, 0.2085517216832139, 0.8494383943586542, 0.8465058601362069, 0.8059420679775318, 0.7479499000358163, 0.6053306957810176, 0.20916735681214682], [0.32227788393645096, 0.32057470472727256, 0.452868386072092, 0.3226632252576801, 0.31490886711268884, 0.5448938894499548, 0.44908396227281167, 0.33308415066141406, 0.3295134832329305, 0.650437687872651, 0.5983451913938291, 0.4947835052816436, 0.3330018866685258, 0.3160343582085573, 0.7769088924763453, 0.7357747511712147, 0.665510506026301, 0.5500096634538978, 0.32117036196459103, 0.3182016479794886, 0.861486214697204, 0.8653283563376005, 0.8321417560590922, 0.7780169053326466, 0.6639120168790349, 0.29963101828985217], [0.04773529489610617, 0.029016431376521434, 0.18971259640678328, 0.027033718739608914, 0.03418132310006616, 0.35659866607792823, 0.21569236405733694, 0.017582291805547934, -0.003977443410201453, 0.5286077281371763, 0.41394373561708186, 0.27402338223222156, 0.002220530827934719, -0.01887171336255189, 0.6772234060876755, 0.6113299093284992, 0.5095675619174457, 0.3407433913123433, -0.04233775835890452, -0.013403083096625745, 0.807589024045044, 0.8058361963013712, 0.7537001300047423, 0.6700403410442539, 0.5049370978558806, -0.026981194883208937], [0.13525110585687328, 0.13258064169001726, 0.27892441120026323, 0.13241699118017647, 0.13048786428598036, 0.43369510996373095, 0.3172450414023583, 0.15689796100681097, 0.13392242476790606, 0.5820609604478151, 0.4878839074782453, 0.33472444401798407, 0.13228416950640565, 0.10928704002654954, 0.7195040898789793, 0.6540165578569063, 0.5672546520692423, 0.4250973447522295, 0.11426082850373664, 0.08076105595108463, 0.8300882008468633, 0.8275468938573246, 0.7848768731843301, 0.703901416341501, 0.5651935806368467, 0.1000652337161464], [0.22004080559458128, 0.24327782027643585, 0.34503167848197525, 0.2358170670288644, 0.2233178512919609, 0.502287684857988, 0.38190754622077394, 0.23059594975498143, 0.2274243682142788, 0.6189288139803165, 0.5409599045501847, 0.4379740625713877, 0.22719334563310978, 0.19560030781547, 0.7409524757541449, 0.7031075328137035, 0.6124912918695651, 0.49599005948921115, 0.210909056911611, 0.23528080202815138, 0.8441229115874251, 0.8437324514367501, 0.8077592538648091, 0.741400298333664, 0.6063994220318787, 0.20101715205190396], [0.4935582046951186, 0.501122829342717, 0.5852692968263553, 0.5050745659563942, 0.49561026693031773, 0.6654584884191342, 0.6089229150488413, 0.5199505552929498, 0.4953969035605582, 0.7523460808326073, 0.7094060309630825, 0.6227823264772927, 0.4892318781891011, 0.5083341276496638, 0.8318241941222131, 0.8042011407771943, 0.7500211071230024, 0.6566914237527073, 0.49673645251445875, 0.5118704810914594, 0.9021419867459888, 0.9004808329952032, 0.8754380202568425, 0.8318608062984321, 0.746470887301407, 0.5092828868132049], [-0.6065396937497634, -0.6038639685254413, -0.5240225298176, -0.6158290903304628, -0.5996062655597448, -0.41824162462102854, -0.5064042177640573, -0.609192973743112, -0.6176930863803638, -0.2398204649570782, -0.33635373811624214, -0.4842268714286053, -0.6086891111460013, -0.6073771487925319, 0.131042156295603, -0.006747205232176201, -0.2164517914852968, -0.400701528387987, -0.6114067137989453, -0.6058891682079703, 0.5153471045586706, 0.4821189969954711, 0.35673096540077376, 0.13684111306770486, -0.2038703049191517, -0.6043635786472308], [-0.4322491011303179, -0.43492059200272926, -0.2873368837057406, -0.42289372267911596, -0.4182702742798756, -0.11569625807386463, -0.267669159719676, -0.4234156355103572, -0.44010032706878766, 0.1433490180356446, -0.038078125415239694, -0.2509717610068073, -0.4288676448053872, -0.44658026674806506, 0.42586033883529295, 0.31490480329261394, 0.11717291190878698, -0.1317369264367395, -0.4469240867650224, -0.43913590220065535, 0.6547411428955072, 0.6443974847152788, 0.5454353653287328, 0.3912086774649248, 0.11303511814718059, -0.43544959265292016], [-0.28477608779987695, -0.3038926525187591, -0.15436905424273706, -0.2965590388433148, -0.3123804753378816, 0.04010745469884547, -0.1315033817302529, -0.3188606259439991, -0.32256787794632147, 0.2838756271817994, 0.13024039580623703, -0.08352824746079546, -0.3080645595383802, -0.3153604861744611, 0.5197424049479351, 0.41439397178966175, 0.2690861751857496, 0.019725746312354464, -0.32764645448708185, -0.3345453758424056, 0.7112810100485064, 0.7044050431103565, 0.6335567282886347, 0.5025012174883221, 0.2615639803675951, -0.3466575078350558], [-0.23062615654506957, -0.2267855438295341, -0.07723106861109286, -0.24862647994079, -0.23916218422066982, 0.12897666012537734, -0.04361138472550763, -0.24895052792835093, -0.23922296607567095, 0.356941663208003, 0.21619457564235944, -0.013250322770752221, -0.24659381909344558, -0.2524683880045534, 0.5715455101013797, 0.4625334861522913, 0.3522339143534312, 0.12797076529258322, -0.23561469915049305, -0.2805403743982873, 0.7414003793793742, 0.7398244465832478, 0.671805175157379, 0.5545266614841735, 0.32203078746322356, -0.25119115114771373], [-0.5405198514740079, -0.5460479790295234, -0.4531270396424133, -0.5349676507854069, -0.5262203899805893, -0.30500447017897436, -0.4171443434257166, -0.5232917647077113, -0.5373871106490451, -0.09262447897685766, -0.24209337747680637, -0.3845688184330368, -0.5453455438257644, -0.5403405797497458, 0.27014690185656154, 0.13487885361841312, -0.07989303830762007, -0.3064132347721892, -0.5284632253757013, -0.5521077323020172, 0.5576605069203773, 0.5676676565683536, 0.4680389414521532, 0.2741258930390068, -0.05030792254215244, -0.5044233343476245], [-0.3142374337681476, -0.32223126009183733, -0.16760974869664158, -0.31791008672784093, -0.32100984497268514, 0.021705991738959263, -0.14674466524478702, -0.3082431568465652, -0.3066131845861976, 0.27600710382851756, 0.09601880872335955, -0.12237562077804054, -0.3192344060017086, -0.3259403844321044, 0.530625400769764, 0.4024567625679446, 0.2535901021868362, -0.029155774748947483, -0.3711462758965579, -0.3672270145351969, 0.7020255953828702, 0.7154656728621078, 0.6393812849314986, 0.5088266027093216, 0.24466006342077018, -0.33804648080740773], [-0.16867106659696718, -0.20392834301791174, -0.021765057504704255, -0.1679800334730791, -0.17782747675329436, 0.19066297828449819, 0.031767194041097735, -0.20722534259700753, -0.18834380832181574, 0.3773187490240285, 0.27112356378947566, 0.07046344773567392, -0.20371802996270838, -0.19148568032043978, 0.5933789372758271, 0.503102401058124, 0.3733224389399088, 0.19409316049585623, -0.21666493212312632, -0.22669541685771222, 0.7532505432786499, 0.7557061994551849, 0.6832755684249951, 0.5743272591426812, 0.3485779131691503, -0.22595750736418796], [-0.11159796642083486, -0.09317444017067267, 0.08307614810781627, -0.08141330171615646, -0.12211850259459212, 0.25423907584767713, 0.09503783744353467, -0.11197235302591468, -0.08801434811886111, 0.4531909412994797, 0.32654524808916374, 0.1739088791049369, -0.16274848275831344, -0.13967760430223208, 0.6202523911430127, 0.5561161810698995, 0.44220052608731986, 0.2511469509521319, -0.09888130816578611, -0.12971761371116208, 0.7767763025925618, 0.7751380450303279, 0.7194812265439992, 0.6237516348194874, 0.4248786806207172, -0.11598670147353374], [-0.030281549592014012, -0.03623605221785409, 0.14462756719337433, -0.04024571605835725, 0.004647940260595007, 0.3445246206996512, 0.16314037082415267, -0.07133347341410257, -0.0009273158153135785, 0.4822161192279816, 0.37320714640988606, 0.21765976191419079, -0.01487751460923481, -0.07072707918700971, 0.6671008703395802, 0.5884415971381808, 0.47241733957875387, 0.283481292180339, -0.030951893934863306, -0.05191679749280731, 0.7888343154886258, 0.7956914355520673, 0.735582421303203, 0.6572441853493891, 0.4698280965446143, -0.056351986847641755], [-0.4324903282572725, -0.43084400760426145, -0.3533870010024578, -0.4451291648679838, -0.43101443527974326, -0.1634997188949996, -0.32458971958016636, -0.44996675863208924, -0.4475318980943809, 0.08511988930514935, -0.10214056082914003, -0.27409368200648676, -0.4337117735164844, -0.42759924782426384, 0.38980360750219134, 0.26774989002198335, 0.08519482525228539, -0.16415127613582037, -0.4660041545494428, -0.4612649242050798, 0.6347790927290551, 0.6399337625007766, 0.5527017924318461, 0.3957320957312752, 0.10616904889324719, -0.4580759349292918], [-0.19457944383623238, -0.18336249445947694, -0.04849219790905612, -0.19287870703337862, -0.2159909841756923, 0.17097344739512166, -0.01412708336340307, -0.18403950387923074, -0.18431042570004508, 0.376847285128766, 0.28763386962101223, 0.03934441457764082, -0.19826184912233324, -0.19972564350193667, 0.5929941718837699, 0.5069429300547594, 0.3632085921518381, 0.11403267262019678, -0.19936601395884213, -0.2136287749701341, 0.751658368281844, 0.7535356002229237, 0.6808705882940623, 0.5946275901632794, 0.37166692164250426, -0.21803415943309046], [-0.021217683545843302, -0.03241199312692988, 0.1721150489618165, -0.010939055672979814, -0.03277473329341518, 0.3025453361728999, 0.1935693800045868, -0.05651707664449934, -0.009638380744136144, 0.5003324797194655, 0.3776791677555421, 0.21623736751050326, -0.04215352036046416, -0.04265539622021919, 0.6558507867153521, 0.5689333702811588, 0.4897810545056287, 0.2983504731068223, -0.07303347861486043, -0.07912632648217732, 0.7960867651427836, 0.794308562580568, 0.74803690432994, 0.6446809915037093, 0.4566959182243242, -0.08785762823174881], [0.03909208302194789, 0.09256716599186954, 0.2162671082358124, 0.05371703740478129, 0.057978529808503376, 0.3881927072422001, 0.23286957386431018, 0.04266140912196614, 0.04425757244098261, 0.5281553387892679, 0.42382282724535625, 0.2829360130506764, 0.07389227783412644, -0.003995021134230448, 0.6881596317454219, 0.6194901382587756, 0.5292538274568221, 0.3625084720108591, 0.01830245145783782, 0.046889848541565526, 0.81171043743647, 0.8176068629490063, 0.7711486536376467, 0.6802460322146309, 0.5157671423918573, 0.043798575210111546], [0.1467801835668311, 0.1315124541723912, 0.26769420313939385, 0.1340755398935326, 0.12518184019662593, 0.44037410520629483, 0.32331141597579627, 0.1387878066049445, 0.11160317106179629, 0.5658705735904532, 0.48568605658535535, 0.34524601819178347, 0.1204383082569187, 0.10675778276236814, 0.7013561941677836, 0.6517069824650534, 0.5628247642642062, 0.4261560612932057, 0.12584758956395348, 0.13126717743401672, 0.8262261605842376, 0.8236842857482392, 0.782618762093136, 0.7148097987993305, 0.5729567485291216, 0.12803604630007315], [0.05875631857119579, 0.09630773037423446, 0.24214801402662556, 0.0983823333266648, 0.07372667494108665, 0.39849605436470825, 0.2666412022074104, 0.06380373736658973, 0.057720281849914845, 0.5421436458217732, 0.44289209523602424, 0.27783642365743244, 0.040436365313955114, 0.09034044140228714, 0.6962574046000662, 0.6345702124057371, 0.5422197228329096, 0.36923292716110856, 0.037856119520505604, 0.018134449047538137, 0.8181499411612934, 0.8138091738537506, 0.7591984858402383, 0.6847510881539691, 0.5286129072976662, 0.011110692380618126], [0.2163843273348517, 0.2364971295979027, 0.3712641509957746, 0.2315151239910167, 0.21497230652731536, 0.5036815645162644, 0.38865868205517895, 0.21469510122437696, 0.2419042343388188, 0.6251188322041874, 0.5313659004045352, 0.43026794004984814, 0.2042660817726336, 0.1580761338521015, 0.7420950976392608, 0.6847751563502458, 0.6023055469579985, 0.4682269893337144, 0.21518633425372347, 0.21869484048580923, 0.8449707173064696, 0.8452610423639313, 0.8086690657731967, 0.7505610781817111, 0.5870073799642818, 0.13940949626917531], [0.31823508684723034, 0.29614686261421874, 0.4250392073668542, 0.31792680438533616, 0.2688617218244099, 0.5427601863769196, 0.43988488848722074, 0.2896286743498071, 0.29942246341045264, 0.6560143787040993, 0.577854104552933, 0.4663934760989755, 0.26909508077050426, 0.2738873139768305, 0.7642124552839873, 0.7186613230236875, 0.6385464351072143, 0.5319437958513382, 0.2750531118650794, 0.29910957044039954, 0.860797015416128, 0.8618351385272992, 0.8209878154727452, 0.7688163002782022, 0.634909807487706, 0.27947478168267836], [0.3607187695244938, 0.3584999403299395, 0.4626795033867286, 0.35582493414582506, 0.3636263462854854, 0.5643166096264487, 0.5087764412147006, 0.3728146689882985, 0.32972589774329286, 0.6843883933251198, 0.620334184395066, 0.5100633199073483, 0.35045720649812917, 0.35208251784149314, 0.7885314770066654, 0.7300682354609476, 0.6800142762715359, 0.5656241900982457, 0.346225861305558, 0.3588764639167582, 0.8704274568697713, 0.8731351989739308, 0.8377983133896523, 0.781541669353598, 0.6821256198933234, 0.3359769701725617], [0.12320479294972353, 0.1419332328374212, 0.2730751078989716, 0.13189069480065307, 0.13049969433502073, 0.4098913634900275, 0.32366368639182486, 0.14342047087647314, 0.11112444504462271, 0.5663005405023167, 0.512774596176697, 0.32398598951703184, 0.12092085858826618, 0.09394928119667034, 0.7064544379487732, 0.6451863663880251, 0.5463137771977642, 0.4138824519303895, 0.10497422797898692, 0.08077587962019817, 0.830504385110473, 0.820943630213017, 0.7788332171233139, 0.6973070714827068, 0.5250323557651857, 0.09826824804556333], [0.1840417735330736, 0.20815675530600974, 0.3354231694768425, 0.18876069597703327, 0.1926705879763081, 0.4702155953443412, 0.3596286946814127, 0.20194253081429814, 0.1982772109439327, 0.6061971882181364, 0.5284813340287178, 0.4070540674573284, 0.16212484612119404, 0.2063509556498585, 0.7323049777548667, 0.6832587544126638, 0.5809545203537961, 0.46678931717904204, 0.20905697285328895, 0.1816959546297151, 0.8391550639917553, 0.8444411693337436, 0.8051412831031554, 0.7252798461168752, 0.6024094847471908, 0.18429644150154112], [0.262489722418197, 0.2813077090510743, 0.3782057381421762, 0.2668389880778116, 0.25916949741955275, 0.5168266937644954, 0.42384724393005646, 0.2792251060277148, 0.274131791573087, 0.643676517103688, 0.5560582996550262, 0.44500729923563, 0.3144198027448627, 0.25413902304230684, 0.760515376710668, 0.7041736854145098, 0.6299069577673788, 0.5191037141807925, 0.2571654637169042, 0.2698814495564228, 0.8474808102514387, 0.8567366496373554, 0.8200402509211336, 0.7571875913735245, 0.6456894586471007, 0.2479871822124864], [0.5285700115570009, 0.5435267914649783, 0.6151676865530229, 0.5076906938499048, 0.5254729126501761, 0.6937604938062292, 0.62317938344043, 0.5247417504632308, 0.5288712468909381, 0.7661446553109268, 0.7158137047700355, 0.6429392020881904, 0.5332143342675035, 0.5144900929473766, 0.8417172716454784, 0.8102916717023285, 0.771981091491621, 0.6902433666216796, 0.5325676972065361, 0.5157139294497518, 0.9026864630503911, 0.903150592963404, 0.882835722408268, 0.8454722598489494, 0.7667360812927808, 0.516114719418151]]"
   ]
  },
  {
   "cell_type": "code",
   "execution_count": 291,
   "metadata": {},
   "outputs": [],
   "source": [
    "l = [\"[1, 2, -]\", \"[2, 2, -]\", \"[3, 2, -]\", \"[4, 2, -]\", \"[1, 3, -]\", \"[2, 3, -]\", \"[3, 3, -]\", \"[4, 3, -]\", \"[6, 3, -]\", \"[1, 4, -]\", \"[2, 4, -]\", \"[3, 4, -]\", \"[4, 4, -]\", \"[6, 4, -]\", \"[8, 4, -]\", \"[2, 5, -]\", \"[3, 5, -]\", \"[4, 5, -]\", \"[6, 5, -]\", \"[8, 5, -]\", \"[10, 5, -]\", \"[3, 6, -]\", \"[4, 6, -]\", \"[6, 6, -]\", \"[8, 6, -]\", \"[10, 6, -]\", \"[12, 6, -]\", \"[16, 6, -]\", \"[6, 8, -]\", \"[8, 8, -]\", \"[10, 8, -]\", \"[12, 8, -]\", \"[16, 8, -]\", \"[1, 2, 6]\", \"[2, 2, 6]\", \"[3, 2, 6]\", \"[4, 2, 6]\", \"[1, 3, 6]\", \"[2, 3, 6]\", \"[3, 3, 6]\", \"[4, 3, 6]\", \"[6, 3, 6]\", \"[1, 4, 6]\", \"[2, 4, 6]\", \"[3, 4, 6]\", \"[4, 4, 6]\", \"[6, 4, 6]\", \"[2, 5, 6]\", \"[3, 5, 6]\", \"[4, 5, 6]\", \"[6, 5, 6]\", \"[3, 6, 6]\", \"[4, 6, 6]\", \"[6, 6, 6]\", \"[6, 8, 6]\", \"[1, 2, 5]\", \"[2, 2, 5]\", \"[3, 2, 5]\", \"[4, 2, 5]\", \"[1, 3, 5]\", \"[2, 3, 5]\", \"[3, 3, 5]\", \"[4, 3, 5]\", \"[6, 3, 5]\", \"[1, 4, 5]\", \"[2, 4, 5]\", \"[3, 4, 5]\", \"[4, 4, 5]\", \"[6, 4, 5]\", \"[2, 5, 5]\", \"[3, 5, 5]\", \"[4, 5, 5]\", \"[6, 5, 5]\", \"[3, 6, 5]\", \"[4, 6, 5]\", \"[6, 6, 5]\", \"[6, 8, 5]\"]\n"
   ]
  },
  {
   "cell_type": "code",
   "execution_count": 292,
   "metadata": {},
   "outputs": [],
   "source": [
    "l.reverse()"
   ]
  },
  {
   "cell_type": "code",
   "execution_count": 293,
   "metadata": {},
   "outputs": [
    {
     "data": {
      "text/plain": [
       "['[6, 8, 5]',\n",
       " '[6, 6, 5]',\n",
       " '[4, 6, 5]',\n",
       " '[3, 6, 5]',\n",
       " '[6, 5, 5]',\n",
       " '[4, 5, 5]',\n",
       " '[3, 5, 5]',\n",
       " '[2, 5, 5]',\n",
       " '[6, 4, 5]',\n",
       " '[4, 4, 5]',\n",
       " '[3, 4, 5]',\n",
       " '[2, 4, 5]',\n",
       " '[1, 4, 5]',\n",
       " '[6, 3, 5]',\n",
       " '[4, 3, 5]',\n",
       " '[3, 3, 5]',\n",
       " '[2, 3, 5]',\n",
       " '[1, 3, 5]',\n",
       " '[4, 2, 5]',\n",
       " '[3, 2, 5]',\n",
       " '[2, 2, 5]',\n",
       " '[1, 2, 5]',\n",
       " '[6, 8, 6]',\n",
       " '[6, 6, 6]',\n",
       " '[4, 6, 6]',\n",
       " '[3, 6, 6]',\n",
       " '[6, 5, 6]',\n",
       " '[4, 5, 6]',\n",
       " '[3, 5, 6]',\n",
       " '[2, 5, 6]',\n",
       " '[6, 4, 6]',\n",
       " '[4, 4, 6]',\n",
       " '[3, 4, 6]',\n",
       " '[2, 4, 6]',\n",
       " '[1, 4, 6]',\n",
       " '[6, 3, 6]',\n",
       " '[4, 3, 6]',\n",
       " '[3, 3, 6]',\n",
       " '[2, 3, 6]',\n",
       " '[1, 3, 6]',\n",
       " '[4, 2, 6]',\n",
       " '[3, 2, 6]',\n",
       " '[2, 2, 6]',\n",
       " '[1, 2, 6]',\n",
       " '[16, 8, -]',\n",
       " '[12, 8, -]',\n",
       " '[10, 8, -]',\n",
       " '[8, 8, -]',\n",
       " '[6, 8, -]',\n",
       " '[16, 6, -]',\n",
       " '[12, 6, -]',\n",
       " '[10, 6, -]',\n",
       " '[8, 6, -]',\n",
       " '[6, 6, -]',\n",
       " '[4, 6, -]',\n",
       " '[3, 6, -]',\n",
       " '[10, 5, -]',\n",
       " '[8, 5, -]',\n",
       " '[6, 5, -]',\n",
       " '[4, 5, -]',\n",
       " '[3, 5, -]',\n",
       " '[2, 5, -]',\n",
       " '[8, 4, -]',\n",
       " '[6, 4, -]',\n",
       " '[4, 4, -]',\n",
       " '[3, 4, -]',\n",
       " '[2, 4, -]',\n",
       " '[1, 4, -]',\n",
       " '[6, 3, -]',\n",
       " '[4, 3, -]',\n",
       " '[3, 3, -]',\n",
       " '[2, 3, -]',\n",
       " '[1, 3, -]',\n",
       " '[4, 2, -]',\n",
       " '[3, 2, -]',\n",
       " '[2, 2, -]',\n",
       " '[1, 2, -]']"
      ]
     },
     "execution_count": 293,
     "metadata": {},
     "output_type": "execute_result"
    }
   ],
   "source": [
    "l"
   ]
  },
  {
   "cell_type": "code",
   "execution_count": null,
   "metadata": {},
   "outputs": [],
   "source": []
  }
 ],
 "metadata": {
  "kernelspec": {
   "display_name": "Python 3",
   "language": "python",
   "name": "python3"
  },
  "language_info": {
   "codemirror_mode": {
    "name": "ipython",
    "version": 3
   },
   "file_extension": ".py",
   "mimetype": "text/x-python",
   "name": "python",
   "nbconvert_exporter": "python",
   "pygments_lexer": "ipython3",
   "version": "3.6.7"
  }
 },
 "nbformat": 4,
 "nbformat_minor": 2
}
